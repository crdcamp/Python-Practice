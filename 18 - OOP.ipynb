{
 "cells": [
  {
   "cell_type": "markdown",
   "id": "b4fc3ca0",
   "metadata": {},
   "source": [
    "# Advantages of OOP\n",
    "\n",
    "- Provides a clear structure to programs\n",
    "- Makes code easier to maintain, reuse, and debug\n",
    "- Helps keep your code DRY (Don't Repeat Yourself)\n",
    "- Allows you to build reusable applications with less code\n",
    "\n",
    "# What are Classes and Objects?\n",
    "\n",
    "A class defines what an object should look like, and an object is created based on that class For example:\n",
    "\n",
    "Fruit = Apple, Banana, Mango\n",
    "Car = Volvo, Audi, Toyota\n",
    "\n",
    "When you create an object from a class, it inherits all the variables and functions defined inside that class."
   ]
  },
  {
   "cell_type": "markdown",
   "id": "836d46a1",
   "metadata": {},
   "source": [
    "# Create a Class\n",
    "\n",
    "To create a class, use the keyword `class`:"
   ]
  },
  {
   "cell_type": "code",
   "execution_count": 2,
   "id": "62a3e01e",
   "metadata": {},
   "outputs": [
    {
     "name": "stdout",
     "output_type": "stream",
     "text": [
      "<class '__main__.MyClass'>\n"
     ]
    }
   ],
   "source": [
    "class MyClass:\n",
    "    x = 5\n",
    "\n",
    "print(MyClass)"
   ]
  },
  {
   "cell_type": "markdown",
   "id": "d486b7af",
   "metadata": {},
   "source": [
    "# Create an Object\n",
    "\n",
    "Now we can use the class named MyClass to create objects:"
   ]
  },
  {
   "cell_type": "code",
   "execution_count": null,
   "id": "3e591484",
   "metadata": {},
   "outputs": [
    {
     "name": "stdout",
     "output_type": "stream",
     "text": [
      "5\n",
      "5\n"
     ]
    }
   ],
   "source": [
    "class MyClass:\n",
    "    x = 5\n",
    "\n",
    "p1 = MyClass()\n",
    "print(p1.x)\n",
    "\n",
    "# Or\n",
    "\n",
    "print(MyClass.x)"
   ]
  },
  {
   "cell_type": "markdown",
   "id": "1a8fb28a",
   "metadata": {},
   "source": [
    "# The __init__() Function\n",
    "\n",
    "To understand the meaning of classes we have to understand the built-in `__init__()` function.\n",
    "\n",
    "All classes have a function called `__init__()`, which is always executed when the class is being initiated.\n",
    "\n",
    "Use the `__init__()` function to assign values to object properties, or other operations that are necessary to do when the object is being created:"
   ]
  },
  {
   "cell_type": "code",
   "execution_count": 6,
   "id": "9788630e",
   "metadata": {},
   "outputs": [
    {
     "name": "stdout",
     "output_type": "stream",
     "text": [
      "John\n",
      "36\n"
     ]
    }
   ],
   "source": [
    "# Create a class named Person, use the __init__() function to assign values for name and age\n",
    "class Person:\n",
    "    def __init__(self, name, age):\n",
    "        self.name = name\n",
    "        self.age = age\n",
    "\n",
    "p1 = Person(\"John\", 36)\n",
    "\n",
    "print(p1.name)\n",
    "print(p1.age)"
   ]
  },
  {
   "cell_type": "markdown",
   "id": "ca797951",
   "metadata": {},
   "source": [
    "# The __str__() Function\n",
    "\n",
    "The `__str__()` function controls what should be returned when the class object is represented as a string.\n",
    "\n",
    "If the `__str__()` function is not set, the string representation of the object is returned:"
   ]
  },
  {
   "cell_type": "code",
   "execution_count": 7,
   "id": "fe4db378",
   "metadata": {},
   "outputs": [
    {
     "name": "stdout",
     "output_type": "stream",
     "text": [
      "<__main__.Person object at 0x10a805e80>\n"
     ]
    }
   ],
   "source": [
    "# String representation without the __str__() function\n",
    "\n",
    "class Person:\n",
    "    def __init__(self, name, age):\n",
    "        self.name = name\n",
    "        self.age = age\n",
    "\n",
    "p1 = Person(\"John\", 36)\n",
    "\n",
    "print(p1)"
   ]
  },
  {
   "cell_type": "code",
   "execution_count": null,
   "id": "464dcdee",
   "metadata": {},
   "outputs": [
    {
     "name": "stdout",
     "output_type": "stream",
     "text": [
      "John(36)\n"
     ]
    }
   ],
   "source": [
    "# With the __str__() function\n",
    "class Person:\n",
    "    def __init__(self, name, age):\n",
    "        self.name = name\n",
    "        self.age = age\n",
    "    \n",
    "    def __str__(self):\n",
    "        return f\"{self.name}({self.age})\"\n",
    "    \n",
    "p1 = Person(\"John\", 36)\n",
    "\n",
    "print(p1)"
   ]
  },
  {
   "cell_type": "markdown",
   "id": "2942c51c",
   "metadata": {},
   "source": [
    "Here's what happens when you don't use an f string:"
   ]
  },
  {
   "cell_type": "code",
   "execution_count": 10,
   "id": "dbf8ef13",
   "metadata": {},
   "outputs": [
    {
     "ename": "TypeError",
     "evalue": "__str__ returned non-string (type tuple)",
     "output_type": "error",
     "traceback": [
      "\u001b[31m---------------------------------------------------------------------------\u001b[39m",
      "\u001b[31mTypeError\u001b[39m                                 Traceback (most recent call last)",
      "\u001b[36mCell\u001b[39m\u001b[36m \u001b[39m\u001b[32mIn[10]\u001b[39m\u001b[32m, line 12\u001b[39m\n\u001b[32m      8\u001b[39m         \u001b[38;5;28;01mreturn\u001b[39;00m \u001b[38;5;28mself\u001b[39m.name, \u001b[38;5;28mself\u001b[39m.age\n\u001b[32m     10\u001b[39m p1 = Person(\u001b[33m\"\u001b[39m\u001b[33mJohn\u001b[39m\u001b[33m\"\u001b[39m, \u001b[32m36\u001b[39m)\n\u001b[32m---> \u001b[39m\u001b[32m12\u001b[39m \u001b[38;5;28;43mprint\u001b[39;49m\u001b[43m(\u001b[49m\u001b[43mp1\u001b[49m\u001b[43m)\u001b[49m\n",
      "\u001b[31mTypeError\u001b[39m: __str__ returned non-string (type tuple)"
     ]
    }
   ],
   "source": [
    "# With the __str__() function\n",
    "class Person:\n",
    "    def __init__(self, name, age):\n",
    "        self.name = name\n",
    "        self.age = age\n",
    "    \n",
    "    def __str__(self):\n",
    "        return self.name, self.age\n",
    "    \n",
    "p1 = Person(\"John\", 36)\n",
    "\n",
    "print(p1)"
   ]
  },
  {
   "cell_type": "markdown",
   "id": "e4ebe014",
   "metadata": {},
   "source": [
    "# Object Methods\n",
    "\n",
    "Objects can also contain methods. Methods in objects are functions that belong to the object.\n",
    "\n",
    "Let's create a method in the Person class:"
   ]
  },
  {
   "cell_type": "code",
   "execution_count": 14,
   "id": "fe972d98",
   "metadata": {},
   "outputs": [
    {
     "name": "stdout",
     "output_type": "stream",
     "text": [
      "Hello my name is John\n"
     ]
    }
   ],
   "source": [
    "class Person:\n",
    "    def __init__(self, name, age):\n",
    "        self.name = name\n",
    "        self.age = age\n",
    "\n",
    "    def my_func(self):\n",
    "        print(\"Hello my name is \" + self.name)\n",
    "\n",
    "p1 = Person(\"John\", 36)\n",
    "p1.my_func()"
   ]
  },
  {
   "cell_type": "markdown",
   "id": "8651b616",
   "metadata": {},
   "source": [
    "# The self Parameter\n",
    "\n",
    "The `self` parameter is a reference to the current instance of the class, and is used to access variables that belong to the class.\n",
    "\n",
    "It does not have to be named `self`, you can call it whatever, but it has to be the first parameter of any function in the class:"
   ]
  },
  {
   "cell_type": "code",
   "execution_count": 28,
   "id": "57503ef5",
   "metadata": {},
   "outputs": [
    {
     "name": "stdout",
     "output_type": "stream",
     "text": [
      "Hello my name is John\n"
     ]
    }
   ],
   "source": [
    "# Use the words mysillyobject and abc instead of self\n",
    "\n",
    "class Person:\n",
    "  def __init__(mysillyobject, name, age):\n",
    "    mysillyobject.name = name\n",
    "    mysillyobject.age = age\n",
    "\n",
    "  def myfunc(abc):\n",
    "    print(\"Hello my name is \" + abc.name)\n",
    "\n",
    "p1 = Person(\"John\", 36)\n",
    "p1.myfunc()"
   ]
  },
  {
   "cell_type": "markdown",
   "id": "cbd3eac9",
   "metadata": {},
   "source": [
    "Here's a more thorough example that ensures correct data type inputs:"
   ]
  },
  {
   "cell_type": "code",
   "execution_count": 31,
   "id": "81458f05",
   "metadata": {},
   "outputs": [
    {
     "name": "stdout",
     "output_type": "stream",
     "text": [
      "Hello my name is John. I am 36 years old.\n"
     ]
    }
   ],
   "source": [
    "# Use the words mysillyobject and abc instead of self\n",
    "\n",
    "class Person:\n",
    "    def __init__(mysillyobject, name, age):\n",
    "        mysillyobject.name = str(name)\n",
    "        mysillyobject.age = int(age)\n",
    "\n",
    "    def myfunc(abc):\n",
    "        print(\"Hello my name is \" + abc.name + \". I am \" + str(abc.age) + \" years old.\")\n",
    "\n",
    "p1 = Person(\"John\", 36)\n",
    "p1.myfunc()"
   ]
  },
  {
   "cell_type": "markdown",
   "id": "f625abd1",
   "metadata": {},
   "source": [
    "# Modify Object Properties\n",
    "\n",
    "You can modify properties on objects like this:"
   ]
  },
  {
   "cell_type": "code",
   "execution_count": 32,
   "id": "34f8996e",
   "metadata": {},
   "outputs": [
    {
     "name": "stdout",
     "output_type": "stream",
     "text": [
      "Hello my name is John. I am 40 years old.\n"
     ]
    }
   ],
   "source": [
    "p1.age = 40\n",
    "p1.myfunc()"
   ]
  },
  {
   "cell_type": "markdown",
   "id": "5494c81d",
   "metadata": {},
   "source": [
    "# Delete Object Properties\n",
    "\n",
    "You can delete properties on objects by using the `del` keyword:"
   ]
  },
  {
   "cell_type": "code",
   "execution_count": 33,
   "id": "b6361e58",
   "metadata": {},
   "outputs": [
    {
     "ename": "AttributeError",
     "evalue": "'Person' object has no attribute 'age'",
     "output_type": "error",
     "traceback": [
      "\u001b[31m---------------------------------------------------------------------------\u001b[39m",
      "\u001b[31mAttributeError\u001b[39m                            Traceback (most recent call last)",
      "\u001b[36mCell\u001b[39m\u001b[36m \u001b[39m\u001b[32mIn[33]\u001b[39m\u001b[32m, line 2\u001b[39m\n\u001b[32m      1\u001b[39m \u001b[38;5;28;01mdel\u001b[39;00m p1.age\n\u001b[32m----> \u001b[39m\u001b[32m2\u001b[39m \u001b[43mp1\u001b[49m\u001b[43m.\u001b[49m\u001b[43mmyfunc\u001b[49m\u001b[43m(\u001b[49m\u001b[43m)\u001b[49m\n",
      "\u001b[36mCell\u001b[39m\u001b[36m \u001b[39m\u001b[32mIn[31]\u001b[39m\u001b[32m, line 9\u001b[39m, in \u001b[36mPerson.myfunc\u001b[39m\u001b[34m(abc)\u001b[39m\n\u001b[32m      8\u001b[39m \u001b[38;5;28;01mdef\u001b[39;00m\u001b[38;5;250m \u001b[39m\u001b[34mmyfunc\u001b[39m(abc):\n\u001b[32m----> \u001b[39m\u001b[32m9\u001b[39m     \u001b[38;5;28mprint\u001b[39m(\u001b[33m\"\u001b[39m\u001b[33mHello my name is \u001b[39m\u001b[33m\"\u001b[39m + abc.name + \u001b[33m\"\u001b[39m\u001b[33m. I am \u001b[39m\u001b[33m\"\u001b[39m + \u001b[38;5;28mstr\u001b[39m(\u001b[43mabc\u001b[49m\u001b[43m.\u001b[49m\u001b[43mage\u001b[49m) + \u001b[33m\"\u001b[39m\u001b[33m years old.\u001b[39m\u001b[33m\"\u001b[39m)\n",
      "\u001b[31mAttributeError\u001b[39m: 'Person' object has no attribute 'age'"
     ]
    }
   ],
   "source": [
    "del p1.age\n",
    "p1.myfunc()"
   ]
  },
  {
   "cell_type": "markdown",
   "id": "d912c52d",
   "metadata": {},
   "source": [
    "# Delete Objects\n",
    "\n",
    "You can delete objects by using the `del` keyword:"
   ]
  },
  {
   "cell_type": "code",
   "execution_count": 34,
   "id": "51c7b9bb",
   "metadata": {},
   "outputs": [
    {
     "ename": "NameError",
     "evalue": "name 'p1' is not defined",
     "output_type": "error",
     "traceback": [
      "\u001b[31m---------------------------------------------------------------------------\u001b[39m",
      "\u001b[31mNameError\u001b[39m                                 Traceback (most recent call last)",
      "\u001b[36mCell\u001b[39m\u001b[36m \u001b[39m\u001b[32mIn[34]\u001b[39m\u001b[32m, line 2\u001b[39m\n\u001b[32m      1\u001b[39m \u001b[38;5;28;01mdel\u001b[39;00m p1\n\u001b[32m----> \u001b[39m\u001b[32m2\u001b[39m \u001b[43mp1\u001b[49m.myfunc()\n",
      "\u001b[31mNameError\u001b[39m: name 'p1' is not defined"
     ]
    }
   ],
   "source": [
    "del p1\n",
    "p1.myfunc()"
   ]
  },
  {
   "cell_type": "markdown",
   "id": "f9538ca1",
   "metadata": {},
   "source": [
    "# The pass Statement\n",
    "\n",
    "`class` definitions cannot be empty, but if you for some reason have a `class` definition with no content, put in the `pass` statement to avoid getting an error."
   ]
  },
  {
   "cell_type": "code",
   "execution_count": 35,
   "id": "790c8b61",
   "metadata": {},
   "outputs": [],
   "source": [
    "class Person:\n",
    "    pass"
   ]
  }
 ],
 "metadata": {
  "kernelspec": {
   "display_name": "Python 3",
   "language": "python",
   "name": "python3"
  },
  "language_info": {
   "codemirror_mode": {
    "name": "ipython",
    "version": 3
   },
   "file_extension": ".py",
   "mimetype": "text/x-python",
   "name": "python",
   "nbconvert_exporter": "python",
   "pygments_lexer": "ipython3",
   "version": "3.13.5"
  }
 },
 "nbformat": 4,
 "nbformat_minor": 5
}
