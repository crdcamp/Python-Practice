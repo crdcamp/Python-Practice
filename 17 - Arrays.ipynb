{
 "cells": [
  {
   "cell_type": "markdown",
   "id": "f93eb64c",
   "metadata": {},
   "source": [
    "# Arrays\n",
    "\n",
    "**Note:** Python does not have built-in support for Arrays, but Python lists can be used instead.\n",
    "\n",
    "This lesson will show you how to use lists as arrays, however, to work with arrays you will have to use the NumPy library."
   ]
  },
  {
   "cell_type": "code",
   "execution_count": 1,
   "id": "c3e1ba4b",
   "metadata": {},
   "outputs": [],
   "source": [
    "cars = [\"Ford\", \"Volvo\", \"BMW\"]"
   ]
  },
  {
   "cell_type": "markdown",
   "id": "275139aa",
   "metadata": {},
   "source": [
    "# What is an Array?\n",
    "\n",
    "An array is a special variable, which can hold more than one value at a time.\n",
    "\n",
    "If you have a list of items (a list of car names, for example), storing the cars in single variables could look like this:"
   ]
  },
  {
   "cell_type": "code",
   "execution_count": 2,
   "id": "79a6f92a",
   "metadata": {},
   "outputs": [],
   "source": [
    "car1 = \"Ford\"\n",
    "car2 = \"Volvo\"\n",
    "car3 = \"BMW\""
   ]
  },
  {
   "cell_type": "markdown",
   "id": "caa41727",
   "metadata": {},
   "source": [
    "However, what if you want to loop through the cars and find a specific one? And what if you had not 3 cars, but 300?\n",
    "\n",
    "Arrays my dude... arrays.\n",
    "\n",
    "An array can hold many values under a single name, and you can access the values by referring to an index number.\n",
    "\n",
    "# Access the Elements of an Array\n",
    "\n",
    "You refer to an array element by referring to the index number."
   ]
  },
  {
   "cell_type": "code",
   "execution_count": 4,
   "id": "4f75a31f",
   "metadata": {},
   "outputs": [
    {
     "name": "stdout",
     "output_type": "stream",
     "text": [
      "['Toyota', 'Volvo', 'BMW']\n"
     ]
    }
   ],
   "source": [
    "# Modify the value of the first array item\n",
    "cars[0] = \"Toyota\"\n",
    "\n",
    "print(cars)"
   ]
  },
  {
   "cell_type": "markdown",
   "id": "85421f21",
   "metadata": {},
   "source": [
    "This lesson seems like a bit of a mess, so we'll just learn arrays the proper way when we get to NumPy."
   ]
  }
 ],
 "metadata": {
  "kernelspec": {
   "display_name": "Python 3",
   "language": "python",
   "name": "python3"
  },
  "language_info": {
   "codemirror_mode": {
    "name": "ipython",
    "version": 3
   },
   "file_extension": ".py",
   "mimetype": "text/x-python",
   "name": "python",
   "nbconvert_exporter": "python",
   "pygments_lexer": "ipython3",
   "version": "3.13.5"
  }
 },
 "nbformat": 4,
 "nbformat_minor": 5
}
