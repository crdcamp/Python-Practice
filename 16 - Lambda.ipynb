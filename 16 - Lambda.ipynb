{
 "cells": [
  {
   "cell_type": "markdown",
   "id": "910326dc",
   "metadata": {},
   "source": [
    "# Lambda\n",
    "\n",
    "A lambda function is a small anonymous function, meaning they aren't bound to an identifier.\n",
    "\n",
    "A lambda function can take any number of arguments, but can only have one expression.\n",
    "\n",
    "## Syntax\n",
    "\n",
    "`lambda arguments : expression`\n",
    "\n",
    "A lambda function is functionally the same as a regular function. Let's explain with some examples:"
   ]
  },
  {
   "cell_type": "code",
   "execution_count": 8,
   "id": "8ac06fbb",
   "metadata": {},
   "outputs": [
    {
     "name": "stdout",
     "output_type": "stream",
     "text": [
      "Regular function result: 9\n",
      "Lambda function result: 9\n"
     ]
    }
   ],
   "source": [
    "def add(x, y):\n",
    "    return x + y\n",
    "\n",
    "regular_function = add(4,5)\n",
    "print(f\"Regular function result: {regular_function}\")\n",
    "\n",
    "lambda_function = lambda x,y: x + y\n",
    "print(f\"Lambda function result: {lambda_function(4,5)}\")\n",
    "\n"
   ]
  },
  {
   "cell_type": "markdown",
   "id": "ad4e2e7a",
   "metadata": {},
   "source": [
    "You can also enclose the lambda function in parentheses and add the inputs in parentheses to print the expression."
   ]
  },
  {
   "cell_type": "code",
   "execution_count": 9,
   "id": "cd765adc",
   "metadata": {},
   "outputs": [
    {
     "name": "stdout",
     "output_type": "stream",
     "text": [
      "9\n"
     ]
    }
   ],
   "source": [
    "print((lambda x,y: x+y)(4,5))"
   ]
  },
  {
   "cell_type": "markdown",
   "id": "ce80c88b",
   "metadata": {},
   "source": [
    "# The Purpose of Lambda Function (from YouTube video)\n",
    "\n",
    "The whole idea of lamda functions is to be passed into a higher order function. \n",
    "\n",
    "A higher order function is a function that can take in another function as an input, return another function as an output, or both."
   ]
  },
  {
   "cell_type": "code",
   "execution_count": null,
   "id": "43bb7b0d",
   "metadata": {},
   "outputs": [
    {
     "name": "stdout",
     "output_type": "stream",
     "text": [
      "[27, 64, 125, 216, 343]\n"
     ]
    }
   ],
   "source": [
    "# Intake the list and function as an input\n",
    "def my_map(my_func, my_iter):\n",
    "    result = []\n",
    "    for item in my_iter:\n",
    "        new_item = my_func(item)\n",
    "        result.append(new_item)\n",
    "    return(result)\n",
    "\n",
    "nums = [3, 4, 5, 6, 7]\n",
    "\n",
    "# Let's say we want to cube each item in the list\n",
    "cubed = my_map(lambda x: x**3, nums)\n",
    "print(cubed)"
   ]
  },
  {
   "cell_type": "markdown",
   "id": "0f357dc1",
   "metadata": {},
   "source": [
    "# Why Use Lambda Functions? (W3 continued)\n",
    "\n",
    "The power of lambda is better shown when you use them as an anonymous function inside another function.\n",
    "\n",
    "Say you have a function definition that takes one argument, and that argument will be multiplied with an unknown number:"
   ]
  },
  {
   "cell_type": "code",
   "execution_count": 13,
   "id": "4774ad4f",
   "metadata": {},
   "outputs": [],
   "source": [
    "def myfunc(n):\n",
    "    return lambda a : a * n"
   ]
  },
  {
   "cell_type": "markdown",
   "id": "98647257",
   "metadata": {},
   "source": [
    "Use that function definition to make a function that always doubles the number you send in:"
   ]
  },
  {
   "cell_type": "code",
   "execution_count": 20,
   "id": "7d5abc8f",
   "metadata": {},
   "outputs": [
    {
     "name": "stdout",
     "output_type": "stream",
     "text": [
      "<function myfunc.<locals>.<lambda> at 0x1102c6f20>\n",
      "22\n"
     ]
    }
   ],
   "source": [
    "def my_func(n):\n",
    "    return lambda a : a * n\n",
    "\n",
    "# my_doubler isn't just storing a simple value, it's storing a FUNCTION OBJECT\n",
    "my_doubler = myfunc(2) # my_func(2) = lambda a : a * n\n",
    "print(my_doubler)\n",
    "\n",
    "# Now my_doubler is able to accept an input (in this case, 11)\n",
    "# When you type my_doubler(11), you're calling the function stored in my_doubler and passing 11 as the argument \"a\"\n",
    "print(my_doubler(11))"
   ]
  },
  {
   "cell_type": "markdown",
   "id": "7bd29d52",
   "metadata": {},
   "source": [
    "Or, you use the same function definition to make a function that always triples the number you send in:"
   ]
  },
  {
   "cell_type": "code",
   "execution_count": 21,
   "id": "12e12538",
   "metadata": {},
   "outputs": [
    {
     "name": "stdout",
     "output_type": "stream",
     "text": [
      "33\n"
     ]
    }
   ],
   "source": [
    "def my_func(n):\n",
    "    return lambda a : a * n\n",
    "\n",
    "my_tripler = my_func(3)\n",
    "\n",
    "print(my_tripler(11))"
   ]
  },
  {
   "cell_type": "markdown",
   "id": "eb6021f7",
   "metadata": {},
   "source": [
    "Or, use the same function definition to make both functions, in the same program:"
   ]
  },
  {
   "cell_type": "code",
   "execution_count": 29,
   "id": "d0f02f5c",
   "metadata": {},
   "outputs": [
    {
     "name": "stdout",
     "output_type": "stream",
     "text": [
      "22\n",
      "33\n"
     ]
    }
   ],
   "source": [
    "def myfunc(n):\n",
    "  return lambda a : a * n\n",
    "\n",
    "mydoubler = myfunc(2)\n",
    "mytripler = myfunc(3)\n",
    "\n",
    "print(mydoubler(11))\n",
    "print(mytripler(11))"
   ]
  },
  {
   "cell_type": "markdown",
   "id": "9e02cf3f",
   "metadata": {},
   "source": [
    "And here's a personal example for dictionary practice:"
   ]
  },
  {
   "cell_type": "code",
   "execution_count": 30,
   "id": "b57c8204",
   "metadata": {},
   "outputs": [
    {
     "name": "stdout",
     "output_type": "stream",
     "text": [
      "33\n",
      "33\n"
     ]
    }
   ],
   "source": [
    "def my_func(n):\n",
    "    return lambda a : a * n\n",
    "\n",
    "multipliers = {\n",
    "    my_doubler: myfunc(2),\n",
    "    my_tripler: myfunc(3)\n",
    "}\n",
    "\n",
    "lambda_input = 11\n",
    "\n",
    "for multiplier, function in multipliers.items():\n",
    "    print(key(lambda_input))"
   ]
  }
 ],
 "metadata": {
  "kernelspec": {
   "display_name": "Python 3",
   "language": "python",
   "name": "python3"
  },
  "language_info": {
   "codemirror_mode": {
    "name": "ipython",
    "version": 3
   },
   "file_extension": ".py",
   "mimetype": "text/x-python",
   "name": "python",
   "nbconvert_exporter": "python",
   "pygments_lexer": "ipython3",
   "version": "3.13.5"
  }
 },
 "nbformat": 4,
 "nbformat_minor": 5
}
