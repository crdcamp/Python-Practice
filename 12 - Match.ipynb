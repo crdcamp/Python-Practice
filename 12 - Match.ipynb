{
 "cells": [
  {
   "cell_type": "markdown",
   "id": "02cb2177",
   "metadata": {},
   "source": [
    "# Match\n",
    "\n",
    "The `match` statement is used to perform different actions based on different conditions.\n",
    "\n",
    "Instead of writing many `if... else` statements, you can use the `match` statement.\n",
    "\n",
    "The `match` statement selects one of many code blocks to be executed.\n",
    "\n",
    "## Syntax\n",
    "\n",
    "```python\n",
    "match expression:\n",
    "    case x:\n",
    "        code block\n",
    "    case y:\n",
    "        code block\n",
    "    case z:\n",
    "        code block\n",
    "```\n",
    "\n",
    "This is how it works:\n",
    "\n",
    "- The `match` expression is evaluated once.\n",
    "- The value of the expression is compared with the values of each `case`.\n",
    "- If there is a match, the associated block of code is executed.\n",
    "\n",
    "The example below uses the weekday number to print the weekday name:"
   ]
  },
  {
   "cell_type": "code",
   "execution_count": 1,
   "id": "ff89b0ab",
   "metadata": {},
   "outputs": [
    {
     "name": "stdout",
     "output_type": "stream",
     "text": [
      "Thursday\n"
     ]
    }
   ],
   "source": [
    "day = 4\n",
    "\n",
    "match day:\n",
    "    case 1:\n",
    "        print(\"Monday\")\n",
    "    case 2:\n",
    "        print(\"Tuesday\")\n",
    "    case 3:\n",
    "        print(\"Wednesday\")\n",
    "    case 4:\n",
    "        print(\"Thursday\")\n",
    "    case 5:\n",
    "        print(\"Friday\")\n",
    "    case 6:\n",
    "        print(\"Saturday\")\n",
    "    case 7:\n",
    "        print(\"Sunday\")"
   ]
  },
  {
   "cell_type": "markdown",
   "id": "e651e2c3",
   "metadata": {},
   "source": [
    "# Default Value\n",
    "\n",
    "Use `_` as the last case value if you want a code block to execute when there are not other matches:"
   ]
  },
  {
   "cell_type": "code",
   "execution_count": 3,
   "id": "668b1469",
   "metadata": {},
   "outputs": [
    {
     "name": "stdout",
     "output_type": "stream",
     "text": [
      "Not a valid date\n"
     ]
    }
   ],
   "source": [
    "day = 10\n",
    "\n",
    "match day:\n",
    "    case 1:\n",
    "        print(\"Monday\")\n",
    "    case 2:\n",
    "        print(\"Tuesday\")\n",
    "    case 3:\n",
    "        print(\"Wednesday\")\n",
    "    case 4:\n",
    "        print(\"Thursday\")\n",
    "    case 5:\n",
    "        print(\"Friday\")\n",
    "    case 6:\n",
    "        print(\"Saturday\")\n",
    "    case 7:\n",
    "        print(\"Sunday\")\n",
    "    case _:\n",
    "        print(\"Not a valid date\")"
   ]
  },
  {
   "cell_type": "markdown",
   "id": "3cec6a99",
   "metadata": {},
   "source": [
    "The value `-` will always match, so it's important to place it as the last `case` to make it behave as a default `case`."
   ]
  },
  {
   "cell_type": "markdown",
   "id": "d1373a1d",
   "metadata": {},
   "source": [
    "# Combine Values\n",
    "\n",
    "Use the pipe character `|` as an or operator in the `case` evaluation to check for more than one value match in one `case`:"
   ]
  },
  {
   "cell_type": "code",
   "execution_count": 7,
   "id": "ce7e813a",
   "metadata": {},
   "outputs": [
    {
     "name": "stdout",
     "output_type": "stream",
     "text": [
      "Today is a weekday\n"
     ]
    }
   ],
   "source": [
    "day = 5\n",
    "\n",
    "match day:\n",
    "    case 1 | 2 | 3 | 4 | 5:\n",
    "        print(\"Today is a weekday\")\n",
    "    case 6 | 7:\n",
    "        print(\"It's the weekend bitch!\")\n",
    "    case _:\n",
    "        print(\"Invalid input\")"
   ]
  },
  {
   "cell_type": "markdown",
   "id": "6f8f5e0d",
   "metadata": {},
   "source": [
    "# If Statements as Guards\n",
    "\n",
    "You can add `if` statements in the case evaluation as an extra condition-check:"
   ]
  },
  {
   "cell_type": "code",
   "execution_count": 8,
   "id": "a67c7195",
   "metadata": {},
   "outputs": [
    {
     "name": "stdout",
     "output_type": "stream",
     "text": [
      "A weekday in May\n"
     ]
    }
   ],
   "source": [
    "month = 5\n",
    "day = 4\n",
    "\n",
    "match day:\n",
    "    case 1 | 2 | 3 | 4 | 5 if month == 4:\n",
    "        print(\"A weekday in April\")\n",
    "    case 1 | 2 | 3 | 4 | 5 if month == 5:\n",
    "        print(\"A weekday in May\")\n",
    "    case _:\n",
    "        print(\"No match\")\n"
   ]
  }
 ],
 "metadata": {
  "kernelspec": {
   "display_name": "Python 3",
   "language": "python",
   "name": "python3"
  },
  "language_info": {
   "codemirror_mode": {
    "name": "ipython",
    "version": 3
   },
   "file_extension": ".py",
   "mimetype": "text/x-python",
   "name": "python",
   "nbconvert_exporter": "python",
   "pygments_lexer": "ipython3",
   "version": "3.13.5"
  }
 },
 "nbformat": 4,
 "nbformat_minor": 5
}
