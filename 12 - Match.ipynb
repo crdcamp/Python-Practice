{
 "cells": [
  {
   "cell_type": "markdown",
   "id": "02cb2177",
   "metadata": {},
   "source": [
    "# Match\n",
    "\n",
    "The `match` statement is used to perform different actions based on different conditions.\n",
    "\n",
    "Instead of writing many `if... else` statements, you can use the `match` statement.\n",
    "\n",
    "The `match` statement selects one of many code blocks to be executed.\n",
    "\n",
    "## Syntax\n",
    "\n",
    "```python\n",
    "match expression:\n",
    "    case x:\n",
    "        code block\n",
    "    case y:\n",
    "        code block\n",
    "    case z:\n",
    "        code block\n",
    "```\n",
    "\n",
    "This is how it works:\n",
    "\n",
    "- The `match` expression is evaluated once.\n",
    "- The value of the expression is compared with the values of each `case`.\n",
    "- If there is a match, the associated block of code is executed.\n",
    "\n",
    "The example below uses th weekday number to print the weekday name:"
   ]
  },
  {
   "cell_type": "code",
   "execution_count": null,
   "id": "d18706dc",
   "metadata": {
    "vscode": {
     "languageId": "plaintext"
    }
   },
   "outputs": [],
   "source": []
  }
 ],
 "metadata": {
  "language_info": {
   "name": "python"
  }
 },
 "nbformat": 4,
 "nbformat_minor": 5
}
