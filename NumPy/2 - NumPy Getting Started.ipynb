{
 "cells": [
  {
   "cell_type": "markdown",
   "id": "8b3c4204",
   "metadata": {},
   "source": [
    "# Import as np\n",
    "\n",
    "NumPy is usually imported under the `np` alias:"
   ]
  },
  {
   "cell_type": "code",
   "execution_count": 1,
   "id": "3abff5bf",
   "metadata": {},
   "outputs": [
    {
     "name": "stdout",
     "output_type": "stream",
     "text": [
      "[1 2 3 4 5]\n"
     ]
    }
   ],
   "source": [
    "import numpy as np\n",
    "\n",
    "arr = np.array([1,2,3,4,5])\n",
    "\n",
    "print(arr)"
   ]
  },
  {
   "cell_type": "markdown",
   "id": "3a077a60",
   "metadata": {},
   "source": [
    "# Checking NumPy Version\n",
    "\n",
    "The version string is stored under the `__version__` attribute."
   ]
  },
  {
   "cell_type": "code",
   "execution_count": 2,
   "id": "1f466dd5",
   "metadata": {},
   "outputs": [
    {
     "name": "stdout",
     "output_type": "stream",
     "text": [
      "2.3.1\n"
     ]
    }
   ],
   "source": [
    "import numpy as np\n",
    "\n",
    "print(np.__version__)"
   ]
  }
 ],
 "metadata": {
  "kernelspec": {
   "display_name": "numpy-p",
   "language": "python",
   "name": "python3"
  },
  "language_info": {
   "codemirror_mode": {
    "name": "ipython",
    "version": 3
   },
   "file_extension": ".py",
   "mimetype": "text/x-python",
   "name": "python",
   "nbconvert_exporter": "python",
   "pygments_lexer": "ipython3",
   "version": "3.13.5"
  }
 },
 "nbformat": 4,
 "nbformat_minor": 5
}
