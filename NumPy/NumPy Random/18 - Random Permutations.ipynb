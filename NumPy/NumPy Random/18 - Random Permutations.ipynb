{
 "cells": [
  {
   "cell_type": "markdown",
   "id": "f26b5ff5",
   "metadata": {},
   "source": [
    "# Random Permutations of Elements\n",
    "\n",
    "A permutation refers to an arrangement of elements. e.g. [3, 2, 1] is a permutation of [1, 2, 3] and vice-versa.\n",
    "\n",
    "The NumPy Random module provides two methods for this: `shuffle()` and `permutation()`."
   ]
  },
  {
   "cell_type": "markdown",
   "id": "a6f1002c",
   "metadata": {},
   "source": [
    "# Shuffling Arrays\n",
    "\n",
    "Shuffle means changing arrangement of elements in-place. i.e. in the array itself.\n",
    "\n",
    "Randomly shuffle elements of the following array:"
   ]
  },
  {
   "cell_type": "code",
   "execution_count": 1,
   "id": "53253463",
   "metadata": {},
   "outputs": [
    {
     "name": "stdout",
     "output_type": "stream",
     "text": [
      "[3 5 4 1 2]\n"
     ]
    }
   ],
   "source": [
    "from numpy import random\n",
    "import numpy as np\n",
    "\n",
    "arr = np.array([1, 2, 3, 4, 5])\n",
    "random.shuffle(arr)\n",
    "\n",
    "print(arr)"
   ]
  },
  {
   "cell_type": "markdown",
   "id": "c70fea75",
   "metadata": {},
   "source": [
    "The `shuffle()` method makes changes to the original array."
   ]
  },
  {
   "cell_type": "markdown",
   "id": "ee9b28aa",
   "metadata": {},
   "source": [
    "# Generating Permutation of Arrays\n",
    "\n",
    "Generate a random permutation of elements of the following array:"
   ]
  },
  {
   "cell_type": "code",
   "execution_count": 8,
   "id": "57b5e0ba",
   "metadata": {},
   "outputs": [
    {
     "name": "stdout",
     "output_type": "stream",
     "text": [
      "[3 5 4 2 1]\n"
     ]
    }
   ],
   "source": [
    "from numpy import random\n",
    "import numpy as np\n",
    "\n",
    "arr = np.array([1, 2, 3, 4, 5])\n",
    "\n",
    "print(random.permutation(arr))"
   ]
  },
  {
   "cell_type": "markdown",
   "id": "1e712188",
   "metadata": {},
   "source": [
    "I wanna see if I can do it a slightly different way:"
   ]
  },
  {
   "cell_type": "code",
   "execution_count": 6,
   "id": "cd6cde5d",
   "metadata": {},
   "outputs": [
    {
     "name": "stdout",
     "output_type": "stream",
     "text": [
      "[1 4 2 3 5]\n"
     ]
    }
   ],
   "source": [
    "from numpy import random\n",
    "import numpy as np\n",
    "\n",
    "arr = random.permutation(np.array([1,2,3,4,5]))\n",
    "\n",
    "print(arr)"
   ]
  },
  {
   "cell_type": "markdown",
   "id": "0612c10b",
   "metadata": {},
   "source": [
    "Probably better to assign the array beforehand though."
   ]
  },
  {
   "cell_type": "markdown",
   "id": "b2e7d7c0",
   "metadata": {},
   "source": [
    "The `permutation()` method returns a re-arranged array and leaves the original unchanged."
   ]
  }
 ],
 "metadata": {
  "kernelspec": {
   "display_name": "practice-env",
   "language": "python",
   "name": "python3"
  },
  "language_info": {
   "codemirror_mode": {
    "name": "ipython",
    "version": 3
   },
   "file_extension": ".py",
   "mimetype": "text/x-python",
   "name": "python",
   "nbconvert_exporter": "python",
   "pygments_lexer": "ipython3",
   "version": "3.13.5"
  }
 },
 "nbformat": 4,
 "nbformat_minor": 5
}
