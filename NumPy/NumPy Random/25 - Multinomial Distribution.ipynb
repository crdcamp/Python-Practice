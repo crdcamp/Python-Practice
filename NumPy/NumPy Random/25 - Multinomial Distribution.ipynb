{
 "cells": [
  {
   "cell_type": "markdown",
   "id": "bc08c074",
   "metadata": {},
   "source": [
    "# Multinomial Distribution\n",
    "\n",
    "Multinomial distribution is a generalization of binomial distribution.\n",
    "\n",
    "It describes outcomes of multi-nomial scenarios, unlike binomial where scenarios must be only one of two. e.g. Blood type of a population, dice roll outcome.\n",
    "\n",
    "It has three parameters:\n",
    "\n",
    "- `n` - number of times to run the experiment.\n",
    "- `pvals` - list of probabilities of outcomes.\n",
    "- `size` - the shape of the returned array."
   ]
  },
  {
   "cell_type": "code",
   "execution_count": 6,
   "id": "b8d9c942",
   "metadata": {},
   "outputs": [
    {
     "name": "stdout",
     "output_type": "stream",
     "text": [
      "[2 1 0 2 1 0]\n"
     ]
    }
   ],
   "source": [
    "# Draw out a sample for a dice roll\n",
    "\n",
    "from numpy import random\n",
    "\n",
    "x = random.multinomial(n=6, pvals=[1/6, 1/6, 1/6, 1/6, 1/6, 1/6])\n",
    "\n",
    "\n",
    "print(x)"
   ]
  },
  {
   "cell_type": "markdown",
   "id": "489b49a3",
   "metadata": {},
   "source": [
    "**Note:**  Multinomial samples will not produce a single value. They will produce one value for each `pval`."
   ]
  }
 ],
 "metadata": {
  "kernelspec": {
   "display_name": "practice-env",
   "language": "python",
   "name": "python3"
  },
  "language_info": {
   "codemirror_mode": {
    "name": "ipython",
    "version": 3
   },
   "file_extension": ".py",
   "mimetype": "text/x-python",
   "name": "python",
   "nbconvert_exporter": "python",
   "pygments_lexer": "ipython3",
   "version": "3.13.5"
  }
 },
 "nbformat": 4,
 "nbformat_minor": 5
}
