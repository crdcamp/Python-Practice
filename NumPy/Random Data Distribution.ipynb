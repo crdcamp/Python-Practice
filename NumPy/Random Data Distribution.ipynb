{
 "cells": [
  {
   "cell_type": "markdown",
   "id": "39daa307",
   "metadata": {},
   "source": [
    "# What is Data Distribution?\n",
    "\n",
    "Data Distribution is a list of all possible values, and how often each value occurs.\n",
    "\n",
    "Such lists are important when working with statistics and data science.\n",
    "\n",
    "The random module offers methods that return randomly generated data distributions.\n",
    "\n",
    "## Random Distribution\n",
    "\n",
    "A random distribution is a set of random numbers that follow a certain *probability density* function.\n",
    "\n",
    "**Probability Density Function:** A function that describes a continuous probability. i.e. the probability of all values in an array.\n",
    "\n",
    "We can generate random numbers based on defined probabilities using the `choice()` method of the `random` module.\n",
    "\n",
    "The `choice()` method allows us to specify the probability for each value.\n",
    "\n",
    "The probability is set by a number between 0 and 1, where 0 means that the value will never occur and 1 means that the value will always occur."
   ]
  },
  {
   "cell_type": "markdown",
   "id": "ec80c0d5",
   "metadata": {
    "vscode": {
     "languageId": "plaintext"
    }
   },
   "source": [
    "# Example\n",
    "\n",
    "Generate a 1-D array containing 100 values, where each value has to be 3, 5, 7, or 9.\n",
    "\n",
    "- The probability for the value to be 3 is set to be 0.1\n",
    "- 5 is 0.3\n",
    "- 7 is 0.6\n",
    "- 9 is 0"
   ]
  },
  {
   "cell_type": "code",
   "execution_count": 1,
   "id": "e1ad309b",
   "metadata": {},
   "outputs": [
    {
     "name": "stdout",
     "output_type": "stream",
     "text": [
      "[7 7 5 7 3 7 7 5 7 7 7 3 7 7 7 5 7 7 5 7 5 3 7 3 7 3 5 5 3 7 7 5 7 3 7 5 7\n",
      " 5 7 5 7 5 7 7 5 5 5 7 7 7 7 7 7 7 7 7 7 7 7 7 5 7 7 7 7 7 7 7 7 7 3 7 5 5\n",
      " 7 7 7 7 7 3 5 7 5 7 7 5 5 3 5 7 5 3 5 7 7 3 7 5 7 3]\n"
     ]
    }
   ],
   "source": [
    "from numpy import random\n",
    "x = random.choice([3,5,7,9], p=[0.1, 0.3, 0.6, 0.0], size=(100))\n",
    "\n",
    "print(x)"
   ]
  },
  {
   "cell_type": "markdown",
   "id": "a6174306",
   "metadata": {},
   "source": [
    "The sum of all probabilities should be 1"
   ]
  },
  {
   "cell_type": "markdown",
   "id": "989b80bc",
   "metadata": {},
   "source": [
    "Even if you run the example above 100 times, the value 9 will never occur.\n",
    "\n",
    "You can return arrays of any shape and size by specifying the shape in the `size` parameter.\n",
    "\n",
    "Same example as above, but return a 2-D array with 3 rows, each containing 5 values."
   ]
  },
  {
   "cell_type": "code",
   "execution_count": null,
   "id": "8c010410",
   "metadata": {},
   "outputs": [
    {
     "name": "stdout",
     "output_type": "stream",
     "text": [
      "[[7 7 7 7 7]\n",
      " [7 3 7 7 7]\n",
      " [7 5 3 5 5]]\n"
     ]
    }
   ],
   "source": [
    "from numpy import random\n",
    "\n",
    "x = random.choice([3, 5, 7, 9], p=[0.1, 0.3, 0.6, 0.0], size=(3,5))\n",
    "\n",
    "print(x)"
   ]
  }
 ],
 "metadata": {
  "kernelspec": {
   "display_name": "practice-env",
   "language": "python",
   "name": "python3"
  },
  "language_info": {
   "codemirror_mode": {
    "name": "ipython",
    "version": 3
   },
   "file_extension": ".py",
   "mimetype": "text/x-python",
   "name": "python",
   "nbconvert_exporter": "python",
   "pygments_lexer": "ipython3",
   "version": "3.13.5"
  }
 },
 "nbformat": 4,
 "nbformat_minor": 5
}
