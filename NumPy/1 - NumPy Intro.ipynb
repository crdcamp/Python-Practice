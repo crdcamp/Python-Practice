{
 "cells": [
  {
   "cell_type": "markdown",
   "id": "7b6a3b00",
   "metadata": {},
   "source": [
    "# What is NumPy?\n",
    "\n",
    "NumPy is a Python library used for **working with arrays**.\n",
    "\n",
    "It also has functions for working in the domain of linear algebra, fourier transform, and matrices.\n",
    "\n",
    "NumPy stands for Numerical Python."
   ]
  },
  {
   "cell_type": "markdown",
   "id": "aa4a1313",
   "metadata": {},
   "source": [
    "# Why Use NumPy?\n",
    "\n",
    "In Python we have lists that serve the purpose of arrays, but that are slow to process.\n",
    "\n",
    "NumPy aims to provide an array object that is up to 50x faster than traditional Python lists.\n",
    "\n",
    "The array object in NumPy is called `ndarray`. It provides a lot of supporting functions that make working with `ndarray` very easy.\n",
    "\n",
    "Arrays are frequently used in data science, where speed and resources are very important."
   ]
  },
  {
   "cell_type": "markdown",
   "id": "1fe18abe",
   "metadata": {},
   "source": [
    "# Why is NumPy Faster Than Lists?\n",
    "\n",
    "NumPy arrays are stored at one continuous place in memory unlike lists, so processes can access and manipulate them very efficiently.\n",
    "\n",
    "This behavior is called locality of reference in computer science.\n",
    "\n",
    "This is the main reason why NumPy is faster than lists. It's also optimized to work with the latest CPU architectures."
   ]
  },
  {
   "cell_type": "markdown",
   "id": "77cf550a",
   "metadata": {},
   "source": [
    "# Which Language is NumPy Written In?\n",
    "\n",
    "NumPy is a Python library and is written partially in Python, but most of the parts that require fast computation are written in C or C++."
   ]
  }
 ],
 "metadata": {
  "language_info": {
   "name": "python"
  }
 },
 "nbformat": 4,
 "nbformat_minor": 5
}
