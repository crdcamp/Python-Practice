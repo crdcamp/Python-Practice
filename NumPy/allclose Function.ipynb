{
 "cells": [
  {
   "cell_type": "markdown",
   "id": "1aeb0c43",
   "metadata": {},
   "source": [
    "# numpy.allclose() in Python\n",
    "\n",
    "The `numpy.allclose()` function is used to find if two arrays are element-wise equal within a tolerance. The tolerance values are positive, typically very small numbers. The relative difference (rtol * abs(arr2)) and the absolute difference atol are added together to compare against the absolute difference between arr1 and arr2.\n",
    "\n",
    "If either array contains one or more NaNs, `False` is returned. Infs are treated as equal if they are in the same place of the same sign in both arrays.\n",
    "\n",
    "If the following equation is element-wise True, then `allclose()` returns `True`.\n",
    "\n",
    "`absolute(arr1 - arr2) <= (atol + rtol * absolute(arr2))`\n",
    "\n",
    "As the above equation is not symmetric in `arr1` and `arr2`, `allclose(arr2, arr1)` might be different from `allclose(arr2, arr1)` in some rare cases. "
   ]
  },
  {
   "cell_type": "markdown",
   "id": "a61dc6a5",
   "metadata": {},
   "source": [
    "# Syntax\n",
    "\n",
    "Syntax  :  numpy.allclose(arr1, arr2, rtol, atol, equal_nan=False)\n",
    "\n",
    "Parameters : \n",
    "\n",
    "`arr1`   : [array_like] Input 1st array.\n",
    "\n",
    "`arr2`   : [array_like] Input 2nd array.\n",
    "\n",
    "`rtol`   : [float] The relative tolerance parameter.\n",
    "\n",
    "`atol`   : [float] The absolute tolerance parameter.\n",
    "\n",
    "equal_nan   : [bool] Whether to compare NaN’s as equal. If True, NaN’s in arr1 will be considered equal to NaN’s in arr2 in the output array.\n",
    "\n",
    "Return  : [ bool] Returns True if the two arrays are equal within the given tolerance, otherwise it returns False."
   ]
  },
  {
   "cell_type": "code",
   "execution_count": 4,
   "id": "f7bc8c39",
   "metadata": {},
   "outputs": [
    {
     "name": "stdout",
     "output_type": "stream",
     "text": [
      "1st Input Array:  [5.000000e+05 1.000000e-07 4.000004e+06]\n",
      "2nd Input Array:  [5.00001e+05 1.00000e-07 4.00000e+06]\n",
      "Are the two arrays equal within the tolerance?\t True\n"
     ]
    }
   ],
   "source": [
    "import numpy as np\n",
    "\n",
    "in_arr1 = np.array([5e5, 1e-7, 4.000004e6])\n",
    "print(\"1st Input Array: \", in_arr1)\n",
    "\n",
    "in_arr2 = np.array([5.00001e5, 1e-7, 4e6])\n",
    "print(\"2nd Input Array: \", in_arr2)\n",
    "\n",
    "# Set the absolute and relative tolerance\n",
    "rtol = 1e-05\n",
    "atol = 1e-08\n",
    "\n",
    "res = np.allclose(in_arr1, in_arr2, rtol, atol)\n",
    "print(\"Are the two arrays equal within the tolerance?\\t\", res)"
   ]
  },
  {
   "cell_type": "code",
   "execution_count": 6,
   "id": "a114a11b",
   "metadata": {},
   "outputs": [
    {
     "name": "stdout",
     "output_type": "stream",
     "text": [
      "1st Input Array:  [5.000000e+05 1.000000e-07 4.000004e+06]\n",
      "2nd Input Array:  [5.00001e+05 1.00000e-07 4.00000e+06]\n",
      "Are the two arrays equal within the tolerance?\t False\n"
     ]
    }
   ],
   "source": [
    "import numpy as np\n",
    "\n",
    "in_arr1 = np.array([5e5, 1e-7, 4.000004e6])\n",
    "print (\"1st Input Array: \", in_arr1) \n",
    "\n",
    "in_arr2 = np.array([5.00001e5, 1e-7, 4e6])\n",
    "print (\"2nd Input Array: \", in_arr2)\n",
    "\n",
    "# Set the absolute and relative tolerance\n",
    "rtol = 1e-06\n",
    "atol = 1e-09\n",
    "\n",
    "res = np.allclose(in_arr1, in_arr2, rtol, atol)\n",
    "print('Are the two arrays equal within the tolerance?\\t', res)"
   ]
  },
  {
   "cell_type": "code",
   "execution_count": 8,
   "id": "9531950e",
   "metadata": {},
   "outputs": [
    {
     "name": "stdout",
     "output_type": "stream",
     "text": [
      "1st Input array :  [5.e+05 1.e-07    nan]\n",
      "2nd Input array :  [5.e+05 1.e-07    nan]\n",
      "Are the two arrays equal within the tolerance?\t True\n"
     ]
    }
   ],
   "source": [
    "import numpy as np\n",
    "\n",
    "in_arr1 = np.array([5e5, 1e-7, np.nan])\n",
    "print (\"1st Input array : \", in_arr1) \n",
    "\n",
    "in_arr2 = np.array([5e5, 1e-7, np.nan])\n",
    "print (\"2nd Input array : \", in_arr2)\n",
    "\n",
    "rtol = 1e-06\n",
    "atol = 1e-09\n",
    "\n",
    "res = np.allclose(in_arr1, in_arr2, rtol, atol, equal_nan = True)\n",
    "print('Are the two arrays equal within the tolerance?\\t', res)\n"
   ]
  },
  {
   "cell_type": "markdown",
   "id": "1d491a6a",
   "metadata": {},
   "source": [
    "`equal_nan = True` tells `allclose()` to treat NaN values as equal to each other when they appear in the same position in both arrays."
   ]
  },
  {
   "cell_type": "markdown",
   "id": "053a9086",
   "metadata": {},
   "source": [
    "# Attempt to show how allclose() is calculating things"
   ]
  },
  {
   "cell_type": "code",
   "execution_count": null,
   "id": "d1549b1f",
   "metadata": {},
   "outputs": [
    {
     "name": "stdout",
     "output_type": "stream",
     "text": [
      "In Arrays:\n",
      "in_arr1 - [array(500000.), array(1.e-07), array(4000004.)]\n",
      "in_arr2 - [array(500001.), array(1.e-07), array(4000000.)]\n",
      "\n",
      "Relative Tolerance: 1e-05\n",
      "Absolute Tolerance: 1e-08\n",
      "\n",
      "Are the two arrays equal within the tolerance?\t True\n",
      "\n",
      "Absolute Tolerance Calculations:\n",
      "Absolute Differences: [1. 0. 4.]\n",
      "\n"
     ]
    }
   ],
   "source": [
    "import numpy as np\n",
    "\n",
    "in_arrays = {\n",
    "    \"in_arr1\": np.array([5e5, 1e-7, 4.000004e6]),\n",
    "    \"in_arr2\": np.array([5.00001e5, 1e-7, 4e6])\n",
    "    }\n",
    "\n",
    "print(\"In Arrays:\")\n",
    "for arr, elements in in_arrays.items():\n",
    "    print(f\"{arr} - {list(np.nditer(elements))}\")  \n",
    "\n",
    "# Set the absolute and relative tolerance\n",
    "rtol = 1e-05\n",
    "print(f\"\\nRelative Tolerance: {rtol}\")\n",
    "atol = 1e-08\n",
    "print(f\"Absolute Tolerance: {atol}\")\n",
    "\n",
    "# Use the allclose() function\n",
    "results = np.allclose(in_arrays[\"in_arr1\"], in_arrays[\"in_arr2\"], rtol, atol)\n",
    "print(\"\\nAre the two arrays equal within the tolerance?\\t\", results)\n",
    "\n",
    "# ALLCLOSE FORMULA: absolute(a - b) <= (atol + rtol * absolute(b))\n",
    "\n",
    "print(\"\\nAbsolute Tolerance Calculations:\")\n",
    "in_arr1 = in_arrays[\"in_arr1\"]\n",
    "in_arr2 = in_arrays[\"in_arr2\"]\n",
    "\n",
    "abs_diff = np.abs(in_arr1 - in_arr2)\n",
    "print(f\"Absolute Differences: {abs_diff}\\n\")\n",
    "\n",
    "print(f\"Formula: (atol({atol} + rtol({rtol} * absollute(b) {np.abs(in)})))\")\n",
    "print(f\"Absolute Tolerance + Relative Tolerance = {atol} + {rtol}\")"
   ]
  }
 ],
 "metadata": {
  "kernelspec": {
   "display_name": "practice-env",
   "language": "python",
   "name": "python3"
  },
  "language_info": {
   "codemirror_mode": {
    "name": "ipython",
    "version": 3
   },
   "file_extension": ".py",
   "mimetype": "text/x-python",
   "name": "python",
   "nbconvert_exporter": "python",
   "pygments_lexer": "ipython3",
   "version": "3.13.5"
  }
 },
 "nbformat": 4,
 "nbformat_minor": 5
}
