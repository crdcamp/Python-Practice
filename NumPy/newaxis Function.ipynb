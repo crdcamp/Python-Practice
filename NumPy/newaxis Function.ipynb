{
 "cells": [
  {
   "cell_type": "markdown",
   "id": "f38aea94",
   "metadata": {},
   "source": [
    "# Insert a New Axis Within a NumPy Array\n",
    "\n",
    "NumPy provides us with two different built-in functions to increase the dimension of an array.\n",
    "\n",
    "# np.newaxis()\n",
    "\n",
    "The `np.newaxis()` object is equivalent to using `None` as a parameter while declaring the array. The trick is to use the `np.newaxis` object as a parameter at the index location in which you want to add the new axis.\n",
    "\n",
    "In this example, the code uses NumPy to create a 2-D array with shape (5, 5) containing sequential values. It then transforms the array into a 5-D array by adding dimensions using indexing with `np.newaxis`. The resulting shape is (1, 5, 5, 1, 1)."
   ]
  },
  {
   "cell_type": "code",
   "execution_count": 9,
   "id": "148a5cff",
   "metadata": {},
   "outputs": [
    {
     "name": "stdout",
     "output_type": "stream",
     "text": [
      "[ 0  1  2  3  4  5  6  7  8  9 10 11 12 13 14 15 16 17 18 19 20 21 22 23\n",
      " 24]\n",
      "\n",
      "[[ 0  1  2  3  4]\n",
      " [ 5  6  7  8  9]\n",
      " [10 11 12 13 14]\n",
      " [15 16 17 18 19]\n",
      " [20 21 22 23 24]]\n",
      "\n",
      "(5, 5)\n",
      "[[[[[ 0]]\n",
      "\n",
      "   [[ 1]]\n",
      "\n",
      "   [[ 2]]\n",
      "\n",
      "   [[ 3]]\n",
      "\n",
      "   [[ 4]]]\n",
      "\n",
      "\n",
      "  [[[ 5]]\n",
      "\n",
      "   [[ 6]]\n",
      "\n",
      "   [[ 7]]\n",
      "\n",
      "   [[ 8]]\n",
      "\n",
      "   [[ 9]]]\n",
      "\n",
      "\n",
      "  [[[10]]\n",
      "\n",
      "   [[11]]\n",
      "\n",
      "   [[12]]\n",
      "\n",
      "   [[13]]\n",
      "\n",
      "   [[14]]]\n",
      "\n",
      "\n",
      "  [[[15]]\n",
      "\n",
      "   [[16]]\n",
      "\n",
      "   [[17]]\n",
      "\n",
      "   [[18]]\n",
      "\n",
      "   [[19]]]\n",
      "\n",
      "\n",
      "  [[[20]]\n",
      "\n",
      "   [[21]]\n",
      "\n",
      "   [[22]]\n",
      "\n",
      "   [[23]]\n",
      "\n",
      "   [[24]]]]]\n",
      "(1, 5, 5, 1, 1)\n"
     ]
    }
   ],
   "source": [
    "import numpy as np\n",
    "\n",
    "arr = np.arange(5*5)\n",
    "print(arr)\n",
    "\n",
    "print()\n",
    "\n",
    "arr = arr.reshape(5, 5)\n",
    "print(arr)\n",
    "\n",
    "print()\n",
    "\n",
    "print(arr.shape)\n",
    "\n",
    "arr_5d = arr[np.newaxis, ..., np.newaxis, np.newaxis]\n",
    "print(arr_5d)\n",
    "print(arr_5d.shape)"
   ]
  },
  {
   "cell_type": "markdown",
   "id": "4bd5e5ec",
   "metadata": {},
   "source": [
    "Simply put, `np.newaxis` is used to increase the dimension of the existing array by one or more dimension. Thus,\n",
    "\n",
    "- 1D array will become 2D array\n",
    "- 2D array will become 3D array\n",
    "- 3D array will become 4D array\n",
    "- 4D array will become 5D array\n",
    "\n",
    "and so on.\n",
    "\n",
    "Example:"
   ]
  },
  {
   "cell_type": "code",
   "execution_count": 18,
   "id": "eadbb953",
   "metadata": {},
   "outputs": [
    {
     "name": "stdout",
     "output_type": "stream",
     "text": [
      "Unedited array:[2 0 1 8]\n",
      "\n",
      "[[2 0 1 8]]\n",
      "\n",
      "[[2]\n",
      " [0]\n",
      " [1]\n",
      " [8]]\n",
      "\n",
      "(1, 4)\n",
      "(4, 1)\n"
     ]
    }
   ],
   "source": [
    "arr = np.array([2, 0, 1, 8])\n",
    "arr1 = arr[np.newaxis, :]\n",
    "arr2 = arr[:, np.newaxis]\n",
    "\n",
    "print(f\"Unedited array:{arr}\")\n",
    "print()\n",
    "print(arr1)\n",
    "print()\n",
    "print(arr2)\n",
    "print()\n",
    "print(arr1.shape)\n",
    "print(arr2.shape)"
   ]
  },
  {
   "cell_type": "code",
   "execution_count": null,
   "id": "0ca65f48",
   "metadata": {},
   "outputs": [],
   "source": []
  }
 ],
 "metadata": {
  "kernelspec": {
   "display_name": "practice-env",
   "language": "python",
   "name": "python3"
  },
  "language_info": {
   "codemirror_mode": {
    "name": "ipython",
    "version": 3
   },
   "file_extension": ".py",
   "mimetype": "text/x-python",
   "name": "python",
   "nbconvert_exporter": "python",
   "pygments_lexer": "ipython3",
   "version": "3.13.5"
  }
 },
 "nbformat": 4,
 "nbformat_minor": 5
}
