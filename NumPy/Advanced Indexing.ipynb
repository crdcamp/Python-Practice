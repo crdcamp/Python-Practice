{
 "cells": [
  {
   "cell_type": "markdown",
   "id": "b9e43a02",
   "metadata": {},
   "source": [
    "One can access an individual element or a \"subsection\" of an *N*-dimensional array by specifying *N* integers or slice-objects, or a combination of the two.\n",
    "\n",
    "When supplied fewer-than *N* indices, NumPy will automatically \"fill-in\" the remaining indices with trailing slices. Keep in mind that the indices start at 0."
   ]
  },
  {
   "cell_type": "code",
   "execution_count": 2,
   "id": "3e9d6a73",
   "metadata": {},
   "outputs": [
    {
     "name": "stdout",
     "output_type": "stream",
     "text": [
      "Original array:\n",
      "[[-5  2  0 -7]\n",
      " [-1  9  3  8]\n",
      " [-3 -3  4  6]]\n",
      "\n",
      "Basic Indexing: Access column-1, row-0, and row-2:\n",
      "[ 2 -3]\n",
      "\n",
      "Advanced Indexing: Access all negative elements:\n",
      "[-5 -7 -1 -3 -3]\n"
     ]
    }
   ],
   "source": [
    "import numpy as np\n",
    "\n",
    "x = np.array([[-5, 2, 0, -7],\n",
    "              [-1, 9, 3, 8],\n",
    "              [-3, -3, 4, 6]])\n",
    "\n",
    "print(f\"Original array:\\n{x}\\n\")\n",
    "\n",
    "\"\"\"\n",
    "Access the column-1 of row-0 and row0-2\n",
    "This is an example of basic indexing\n",
    "Creates a 'view' of the underlying data in `x` is produced. No data is copied\n",
    "\"\"\"\n",
    "print(f\"Basic Indexing: Access column-1, row-0, and row-2:\\n{x[::2,1]}\\n\")\n",
    "\n",
    "\"\"\"\n",
    "An example of advanced indexing\n",
    "Access all negative elements in `x`\n",
    "This produces a copy of the accessed data\n",
    "\"\"\"\n",
    "print(f\"Advanced Indexing: Access all negative elements:\\n{x[x < 0]}\")"
   ]
  },
  {
   "cell_type": "markdown",
   "id": "de808f3f",
   "metadata": {},
   "source": [
    "We will see that, where basic indexing provides us with a *view* of the data within the array without making a copy of it, advanced indexing requires that a copy of the accessed data be made.\n",
    "\n",
    "Here, we will define basic indexing and understand the nuances of working with views of arrays."
   ]
  },
  {
   "cell_type": "markdown",
   "id": "83dbef21",
   "metadata": {},
   "source": [
    "# Basic Indexing\n",
    "\n",
    "**Definition:**\n",
    "\n",
    "Given an *N*-dimensional array, `x`, `x[index]` invokes **basic indexing** whenever `index` is a *tuple* containing any combination of the following types of objects:\n",
    "\n",
    "- integers\n",
    "- slice objects\n",
    "- Ellipsis objects\n",
    "- numpy.newaxis objects\n",
    "\n",
    "Accessing the contents of an array via basic indexing **does not create a copy** of those contents. Rather, a \"view\" of the same underlying data is produced.\n",
    "\n",
    "## Indexing with Integers and Slice Objects\n",
    "\n",
    "One can access an individual element or a \"subsection\" of an *N*-dimensional array by specifying *N* integers or slice-objects, or a combination of the two.\n",
    "\n",
    "When supplied fewer-than *N* indices, NumPy will automatically \"fill-in\" the remaining indices with trailing slices."
   ]
  },
  {
   "cell_type": "code",
   "execution_count": 3,
   "id": "43c81ad2",
   "metadata": {},
   "outputs": [
    {
     "name": "stdout",
     "output_type": "stream",
     "text": [
      "Original array:\n",
      "[[-5  2  0 -7]\n",
      " [-1  9  3  8]\n",
      " [-3 -3  4  6]]\n",
      "\n",
      "Access the element located at row-1, last-column of `x`:\n",
      "8\n",
      "\n",
      "Access the subarray of `x` contained within the first two columns\n",
      "and the first three columns:\n",
      "[[-5  2  0]\n",
      " [-1  9  3]]\n",
      "\n",
      "Filling-in 'trailing' slices when there are less indices\n",
      "than dimensions in the given array:\n",
      "[-5  2  0 -7]\n"
     ]
    }
   ],
   "source": [
    "x = np.array([[-5, 2, 0, -7],\n",
    "              [-1, 9, 3, 8],\n",
    "              [-3, -3, 4, 6]])\n",
    "\n",
    "print(f\"Original array:\\n{x}\\n\")\n",
    "\n",
    "\"\"\"\n",
    "Accessing the element located at row-1, last-column of `x`\n",
    "\"\"\"\n",
    "print(f\"Access the element located at row-1, last-column of `x`:\\n{x[1, -1]}\\n\")\n",
    "\n",
    "\"\"\"\n",
    "Access the subarray of `x` contained within the first two rows\n",
    "and the first three columns\n",
    "\"\"\"\n",
    "\n",
    "print(f\"Access the subarray of `x` contained within the first two columns\\nand the first three columns:\\n{x[:2, :3]}\\n\")\n",
    "\n",
    "\"\"\"\n",
    "NumPy fills-in 'trailing' slices if we don't supply as many indices\n",
    "as there are dimensions in the given array\n",
    "\"\"\"\n",
    "print(f\"Filling-in 'trailing' slices when there are less indices\\nthan dimensions in the given array:\\n{x[0]}\")"
   ]
  },
  {
   "cell_type": "markdown",
   "id": "428a59b6",
   "metadata": {},
   "source": [
    "**Note:** The slice `x[:2, :3]` starts from row and column 0, but **does not** include index 2 and 3.\n",
    "\n",
    "Also, recall that the *slicing* syntax forms `slice` objects \"behind the scenes\":"
   ]
  },
  {
   "cell_type": "code",
   "execution_count": 4,
   "id": "5a436376",
   "metadata": {},
   "outputs": [
    {
     "name": "stdout",
     "output_type": "stream",
     "text": [
      "[[-5  2  0]\n",
      " [-1  9  3]]\n"
     ]
    }
   ],
   "source": [
    "print(x[slice(None, 2), slice(None, 3)])"
   ]
  },
  {
   "cell_type": "markdown",
   "id": "9fa87d75",
   "metadata": {},
   "source": [
    "# Why use slice()?\n",
    "\n",
    "You use `slice()` for very specific instances when you need variables or dynamic slicing.\n",
    "\n",
    "Colon Syntax, on the other hand, is concise, readable, and is basically what you'll be using 90% of the time."
   ]
  },
  {
   "cell_type": "markdown",
   "id": "e54f3344",
   "metadata": {},
   "source": [
    "# Using a Tuple as an N-dimensional Index\n",
    "\n",
    "According to its definition, we must supply our array-indices as a tuple in order to invoke basic indexing. As it turns out, we have been forming tuple indices all along!\n",
    "\n",
    "That is, every time that we index into an array using the syntax `x[i, j, k]`, we are actually forming a *tuple* containing those indices. That is, `x[i, j, k]` us equivalent to `x[(i, j, k )]`.\n",
    "\n",
    "`x[i, j, k]` forms the tuple `(i, j, k)` and passes that to the array's \"get-item\" mechanism. Thus, `x[0, 3]` is equivalent to `x[(0, 3)]`."
   ]
  },
  {
   "cell_type": "code",
   "execution_count": 5,
   "id": "ad2b40eb",
   "metadata": {},
   "outputs": [
    {
     "ename": "SyntaxError",
     "evalue": "invalid syntax (540441593.py, line 20)",
     "output_type": "error",
     "traceback": [
      "  \u001b[36mCell\u001b[39m\u001b[36m \u001b[39m\u001b[32mIn[5]\u001b[39m\u001b[32m, line 20\u001b[39m\n\u001b[31m    \u001b[39m\u001b[31mprint(f\"Print the first row using a tuple:\\n{x[(0,)]}\")l\u001b[39m\n                                                           ^\n\u001b[31mSyntaxError\u001b[39m\u001b[31m:\u001b[39m invalid syntax\n"
     ]
    }
   ],
   "source": [
    "x = np.array([[-5, 2, 0, -7],\n",
    "              [-1, 9, 3, 8],\n",
    "              [-3, -3, 4, 6]])\n",
    "\n",
    "print(f\"Original array:\\n{x}\\n\")\n",
    "\n",
    "\"\"\"\n",
    "N-dimensional indexing utilizes tuples:\n",
    "`x[i, j, k]` is equivalent to `x[(i, j, k)]`\n",
    "\"\"\"\n",
    "print(f\"Tuple result: {x[(1, -2)]}\\n\")\n",
    "\n",
    "# equivalent: x[1, -1]\n",
    "print(f\"Indexing result: {x[1, -1]}\\n\")\n",
    "\n",
    "# equivalent: x[:2, :3]\n",
    "print(f\"Using slice() method:\\n{x[(slice(None, 2), slice(None, 3))]}\\n\")\n",
    "\n",
    "# equivalent: x[0]\n",
    "print(f\"Print the first row using a tuple:\\n{x[(0,)]}\")l"
   ]
  },
  {
   "cell_type": "markdown",
   "id": "b84b9710",
   "metadata": {},
   "source": [
    "All objects used in this \"get-item\" syntax are packed into a tuple. For instance, `x[0, (0, 1)]` is equivalent to `x[(0, (0,1))]`. You may be surprised to find that this is a valid index. However, see that it **does not invoke basic indexing**; the index used here is a tuple that contains an integer and another tuple, which is not permitted by the rules of basic indexing.\n",
    "\n",
    "Finally, note that the rules of basic indexing specifically call for a *tuple* of indices. Supplying a list of indices triggers advanced indexing rather than basic indexing!"
   ]
  },
  {
   "cell_type": "code",
   "execution_count": null,
   "id": "3ba54c8f",
   "metadata": {},
   "outputs": [
    {
     "name": "stdout",
     "output_type": "stream",
     "text": [
      "Original array:\n",
      "[[-5  2  0 -7]\n",
      " [-1  9  3  8]\n",
      " [-3 -3  4  6]]\n",
      "\n",
      "Basic indexing with a tuple:\n",
      "8\n",
      "\n",
      "Advanced indexing with a list:\n",
      "[[-1  9  3  8]\n",
      " [-3 -3  4  6]]\n"
     ]
    }
   ],
   "source": [
    "x = np.array([[-5, 2, 0, -7],\n",
    "              [-1, 9, 3, 8],\n",
    "              [-3, -3, 4, 6]])\n",
    "\n",
    "print(f\"Original array:\\n{x}\\n\")\n",
    "\n",
    "# Basic indexing specifically requires a tuple\n",
    "print(f\"Basic indexing with a tuple:\\n{x[(1, -1)]}\\n\")\n",
    "\n",
    "# Indexing with a list triggers advanced indexing\n",
    "print(f\"Advanced indexing with a list:\\n{x[[1, -1]]}\")"
   ]
  },
  {
   "cell_type": "markdown",
   "id": "0f13fa5c",
   "metadata": {},
   "source": [
    "# Ellipsis and Newaxis Objects\n",
    "\n",
    "The `numpy.newaxis` object can be passed as an index to to an array in order to insert a size-1 dimension into the array."
   ]
  },
  {
   "cell_type": "code",
   "execution_count": null,
   "id": "42c69732",
   "metadata": {},
   "outputs": [
    {
     "name": "stdout",
     "output_type": "stream",
     "text": [
      "(3, 4)\n",
      "(1, 3, 4, 1)\n",
      "(1, 3, 4, 1)\n"
     ]
    }
   ],
   "source": [
    "print(x.shape)\n",
    "\n",
    "y = x[np.newaxis, :, :, np.newaxis]\n",
    "print(y.shape)\n",
    "\n",
    "# Using the slice method\n",
    "z = x[(np.newaxis, slice(None), slice(None), np.newaxis)]\n",
    "print(z.shape)"
   ]
  },
  {
   "cell_type": "markdown",
   "id": "c269961d",
   "metadata": {},
   "source": [
    "We can also use the built-in `Elipsis` object in order to insert slices into our index such that the index has as many entries as the array has dimensions. In the same way that `:` can be used to represent a `slice` object, `...` can be used to represent an `Ellipsis` object."
   ]
  },
  {
   "cell_type": "code",
   "execution_count": null,
   "id": "3e242614",
   "metadata": {},
   "outputs": [
    {
     "name": "stdout",
     "output_type": "stream",
     "text": [
      "[[ 0  4]\n",
      " [ 8 12]\n",
      " [16 20]]\n",
      "\n",
      "[[ 0  4]\n",
      " [ 8 12]\n",
      " [16 20]]\n",
      "\n",
      "[1 5]\n"
     ]
    }
   ],
   "source": [
    "y = np.array([[[ 0,  1,  2,  3],\n",
    "               [ 4,  5,  6,  7]],\n",
    "\n",
    "              [[ 8,  9, 10, 11],\n",
    "               [12, 13, 14, 15]],\n",
    "\n",
    "              [[16, 17, 18, 19],\n",
    "               [20, 21, 22, 23]]])\n",
    "\n",
    "# equivalent: `y[:, :, 0]`\n",
    "print(f\"{y[..., 0]}\\n\")\n",
    "\n",
    "# using an explicit tuple\n",
    "print(f\"{y[(Ellipsis, 0)]}\\n\")\n",
    "\n",
    "# equivalent: `y[0, :, 1]`\n",
    "print(y[0, ..., 1])"
   ]
  },
  {
   "cell_type": "markdown",
   "id": "62fae593",
   "metadata": {},
   "source": [
    "An index cannot possess more than one `Ellipsis` entry. This can be extremely useful when working with arrays of varying dimensionalities. To access column-0 along all dimensions of an array, `z`, would look like `z[:, 0]` for a 2D array, `z[:, :, 0]` for a 3D array, and so on. \n",
    "\n",
    "`z[..., 0]` succinctly encapsulates all iterations of this."
   ]
  },
  {
   "cell_type": "markdown",
   "id": "5a58cfa5",
   "metadata": {},
   "source": [
    "# Producing a View of an Array\n",
    "\n",
    "As stated above, using basic indexing does not return a copy of the data being accessed. Rather, it produces a *view* of the underlying data. NumPy provides the function `numpy.shares_memory` to determine if two arrays refer to the same underlying data."
   ]
  },
  {
   "cell_type": "code",
   "execution_count": null,
   "id": "5b2eaf6b",
   "metadata": {},
   "outputs": [
    {
     "data": {
      "text/plain": [
       "True"
      ]
     },
     "execution_count": 23,
     "metadata": {},
     "output_type": "execute_result"
    }
   ],
   "source": [
    "import numpy as np\n",
    "\n",
    "z = np.array([[ 3.31,  4.71,  0.4 ],\n",
    "              [ 0.21,  2.85,  3.21],\n",
    "              [-3.77,  4.53, -1.15]])\n",
    "\n",
    "# `subarray` is column-0 of `z` via basic indexing\n",
    "subarray = z[:, 0]\n",
    "np.shares_memory(subarray, z) # `subarray` is a view of `z`\n",
    "\n"
   ]
  },
  {
   "cell_type": "markdown",
   "id": "7845ada7",
   "metadata": {},
   "source": [
    "A single number returned by basic indexing does not share memory with the parent array:"
   ]
  },
  {
   "cell_type": "code",
   "execution_count": null,
   "id": "09b6e07a",
   "metadata": {},
   "outputs": [
    {
     "name": "stdout",
     "output_type": "stream",
     "text": [
      "3.31\n"
     ]
    },
    {
     "data": {
      "text/plain": [
       "False"
      ]
     },
     "execution_count": 24,
     "metadata": {},
     "output_type": "execute_result"
    }
   ],
   "source": [
    "print(z[0,0])\n",
    "np.shares_memory(z[0, 0], z)"
   ]
  },
  {
   "cell_type": "markdown",
   "id": "10e26cc6",
   "metadata": {},
   "source": [
    "The function `numpy.copy` can be used to create a copy of an array, such that it no longer shares memory with any other array:"
   ]
  },
  {
   "cell_type": "code",
   "execution_count": null,
   "id": "3883aaad",
   "metadata": {},
   "outputs": [
    {
     "data": {
      "text/plain": [
       "False"
      ]
     },
     "execution_count": 25,
     "metadata": {},
     "output_type": "execute_result"
    }
   ],
   "source": [
    "new_subarray = np.copy(subarray)\n",
    "np.shares_memory(new_subarray, z)"
   ]
  },
  {
   "cell_type": "markdown",
   "id": "7fb9fbc4",
   "metadata": {},
   "source": [
    "Utilizing an array in a mathematical expression involving the arithmetic operators returns an entirely distinct array that does not share memory with the original array:"
   ]
  },
  {
   "cell_type": "code",
   "execution_count": null,
   "id": "4c3e4654",
   "metadata": {},
   "outputs": [
    {
     "data": {
      "text/plain": [
       "False"
      ]
     },
     "execution_count": 26,
     "metadata": {},
     "output_type": "execute_result"
    }
   ],
   "source": [
    "np.shares_memory(subarray + 2, subarray)"
   ]
  },
  {
   "cell_type": "markdown",
   "id": "936ba310",
   "metadata": {},
   "source": [
    "Thus, updating a variable `subarray` via `subarray = subarray + 2` does not overwrite the original data referenced by `np.subarray`.\n",
    "\n",
    "Rather, `subarray + 2` assigns that new array to the variable `subarray`. NumPy doers provide mechanisms for performing mathematical operations to directly update the underlying data of an array without having to create a distinct array."
   ]
  },
  {
   "cell_type": "markdown",
   "id": "7a08c0b3",
   "metadata": {},
   "source": [
    "# Augmenting the Underlying Data of an Array\n",
    "\n",
    "Because basic indexing produces a *view* of an array's underlying data, we must take time to understand the ways in which we can augment that underlying data, versus performing operations that produce an array with distinct data. Here we will see that:\n",
    "\n",
    "- in-place assignments\n",
    "- augmented assignmenta\n",
    "- NumPy functions with the `out` argument\n",
    "\n",
    "can all be used to augment array data in-place.\n",
    "\n",
    "## In-Place Assignments\n",
    "\n",
    "The assignment operator, `=`, can be used to update an array's data in-place. Consider the array `a`, and its view `b`:"
   ]
  },
  {
   "cell_type": "code",
   "execution_count": null,
   "id": "b9ad1be7",
   "metadata": {},
   "outputs": [
    {
     "data": {
      "text/plain": [
       "True"
      ]
     },
     "execution_count": 33,
     "metadata": {},
     "output_type": "execute_result"
    }
   ],
   "source": [
    "a = np.array([0, 1, 2, 3, 4])\n",
    "b = a[:]\n",
    "\n",
    "np.shares_memory(a, b)"
   ]
  },
  {
   "cell_type": "markdown",
   "id": "189e458b",
   "metadata": {},
   "source": [
    "Assigning a new array to `a` simply changes the data that `a` references, divorcing `a` and `b`, leaving `b` unchanged."
   ]
  },
  {
   "cell_type": "code",
   "execution_count": null,
   "id": "2bb856f4",
   "metadata": {},
   "outputs": [
    {
     "name": "stdout",
     "output_type": "stream",
     "text": [
      "[ 0 -1 -2 -3 -4]\n",
      "[0 1 2 3 4]\n"
     ]
    },
    {
     "data": {
      "text/plain": [
       "False"
      ]
     },
     "execution_count": 40,
     "metadata": {},
     "output_type": "execute_result"
    }
   ],
   "source": [
    "a = np.array([0, -1, -2, -3, -4])\n",
    "print(a)\n",
    "print(b)\n",
    "\n",
    "np.shares_memory(a, b)"
   ]
  },
  {
   "cell_type": "markdown",
   "id": "bfc70292",
   "metadata": {},
   "source": [
    "Performing an assignment on a view of `a`, i.e. `a[:]`, instructs NumPy to perform the assignment to replace `a`'s data in-place:"
   ]
  },
  {
   "cell_type": "code",
   "execution_count": null,
   "id": "a50257a0",
   "metadata": {},
   "outputs": [
    {
     "name": "stdout",
     "output_type": "stream",
     "text": [
      "True\n",
      "[ 0 -1 -2 -3 -4]\n",
      "[ 0 -1 -2 -3 -4]\n",
      "True\n"
     ]
    }
   ],
   "source": [
    "a = np.array([0, 1, 2, 3, 4])\n",
    "b = a[:]\n",
    "print(np.shares_memory(a, b))\n",
    "\n",
    "# Assigning an array to a view of `a` causes NumPy to update the data in-place\n",
    "a[:] = np.array([0, -1, -2, -3, -4])\n",
    "print(a[:])\n",
    "\n",
    "# `b` is a view of the same data. Thus, it's affected by this in-place assignment\n",
    "print(b) \n",
    "print(np.shares_memory(a, b))"
   ]
  },
  {
   "cell_type": "markdown",
   "id": "424f0ae9",
   "metadata": {},
   "source": [
    "The view-assignment mechanism can be used to update a subsection of an array in-place:"
   ]
  },
  {
   "cell_type": "code",
   "execution_count": null,
   "id": "c233d6b2",
   "metadata": {},
   "outputs": [
    {
     "name": "stdout",
     "output_type": "stream",
     "text": [
      "[0 1 2 3]\n",
      "[[-40   1 -50   3]\n",
      " [  4   5   6   7]\n",
      " [  8   9  10  11]]\n",
      "True\n",
      "[[-40   1 -50   3]\n",
      " [  4   5  -1  -1]\n",
      " [  8   9  -1  -1]]\n",
      "True\n"
     ]
    }
   ],
   "source": [
    "p = np.array([[ 0,  1,  2,  3],\n",
    "              [ 4,  5,  6,  7],\n",
    "              [ 8,  9, 10, 11]])\n",
    "\n",
    "q = p[0, :]\n",
    "print(q)\n",
    "\n",
    "# Assign row-0, column-0, the value -40, and row-0, column-2 the value -50\n",
    "p[0, ::2] = (-40, -50)\n",
    "print(p)\n",
    "print(np.shares_memory(q, p))\n",
    "\n",
    "# Broadcast=assign -1 to a subsection of `p`\n",
    "p[1:, 2:] = -1\n",
    "print(p)\n",
    "print(np.shares_memory(q, p))"
   ]
  },
  {
   "cell_type": "markdown",
   "id": "f75311e1",
   "metadata": {},
   "source": [
    "This view-assignment mechanism can be used to update a subsection of an array in-place:"
   ]
  },
  {
   "cell_type": "markdown",
   "id": "6970cef2",
   "metadata": {},
   "source": [
    "Again, this updates the underlying data, and thus all views of this data reflect this change."
   ]
  },
  {
   "cell_type": "code",
   "execution_count": 8,
   "id": "71539934",
   "metadata": {},
   "outputs": [
    {
     "name": "stdout",
     "output_type": "stream",
     "text": [
      "[-40   1 -50   3]\n"
     ]
    }
   ],
   "source": [
    "print(q)"
   ]
  },
  {
   "cell_type": "markdown",
   "id": "5e07b948",
   "metadata": {},
   "source": [
    "# Augmented Assignments\n",
    "\n",
    "**Augmented assignment expressions** provide a nice shorthand notation for updating the value of a variable.\n",
    "\n",
    "For example, the assignment expression `x = x + 5` can be rewritten using the augmented assignment `x += 5`.\n",
    "\n",
    "While `x += 5` is truly only a shorthand in the context of basic Python objects (integers, floats, etc.), *augmented assignments on NumPy arrays* behave fundamentally different than their long-form counterparts.\n",
    "\n",
    "Specifically, they directly update the underlying data referenced by the updated array, rather than creating a distinct array, thus affecting any arrays that are views of that data.\n",
    "\n",
    "Let's take a look:"
   ]
  },
  {
   "cell_type": "code",
   "execution_count": 22,
   "id": "a7c5219c",
   "metadata": {},
   "outputs": [
    {
     "name": "stdout",
     "output_type": "stream",
     "text": [
      "True\n",
      "False\n",
      "True\n",
      "[ 0 -2 -4 -6]\n",
      "[ 0 -2 -4 -6]\n"
     ]
    }
   ],
   "source": [
    "a = np.array([[ 0,  1,  2,  3],\n",
    "              [ 4,  5,  6,  7],\n",
    "              [ 8,  9, 10, 11]])\n",
    "\n",
    "# `b` and `c` are both views of row-0 of `a`, via basic indexing\n",
    "b = a[0]\n",
    "c = a[0]\n",
    "print(np.shares_memory(a, b) and np.shares_memory(a, c))\n",
    "\n",
    "# Updating `b` using a mathematical expression creates a distinct array, which is divorced fro `a` and `c`\n",
    "b = b * -1\n",
    "print(np.shares_memory(a, b))\n",
    "\n",
    "# Updating `c` using augmented assignment updates the underlying data that `c` is a view of\n",
    "c *= -2\n",
    "print(np.shares_memory(a, c))\n",
    "# Note that this update is reflected in `a` as well\n",
    "print(a[0,...])\n",
    "print(c)\n"
   ]
  },
  {
   "cell_type": "markdown",
   "id": "b6eb8ec3",
   "metadata": {},
   "source": [
    "# Specifying out to Perform NumPy Operations In-Place\n",
    "\n",
    "There is no reason why we should only be able to augment data using arithmetic operations. Indeed, NumPy's various mathematical functions have an optional keyword argument, `out`, which can be used to specify where to \"store\" the result of the mathematical operation.\n",
    "\n",
    "By default, the operation will create a distinct array in memory, leaving the input data unaffected."
   ]
  },
  {
   "cell_type": "code",
   "execution_count": 26,
   "id": "c7fe88dd",
   "metadata": {},
   "outputs": [
    {
     "name": "stdout",
     "output_type": "stream",
     "text": [
      "[0.  0.2 0.4 0.6 0.8 1. ]\n",
      "[0.  0.2 0.4 0.6 0.8 1. ]\n",
      "True\n",
      "[1.         1.22140276 1.4918247  1.8221188  2.22554093 2.71828183]\n",
      "[1.         1.22140276 1.4918247  1.8221188  2.22554093 2.71828183]\n",
      "True\n"
     ]
    }
   ],
   "source": [
    "# `b` is a view of `a`\n",
    "a = np.array([0., 0.2, 0.4, 0.6, 0.8, 1.])\n",
    "b = a[:]\n",
    "print(a)\n",
    "print(b)\n",
    "print(np.shares_memory(a, b))\n",
    "\n",
    "# Specifying `out=a` instructs NumPy to overwrite the data referenced by `a`\n",
    "np.exp(a, out=a)\n",
    "print(a)\n",
    "print(b)\n",
    "\n",
    "# `b` is still a view of the now-augmented data\n",
    "print(np.shares_memory(a, b))"
   ]
  },
  {
   "cell_type": "markdown",
   "id": "13111cf3",
   "metadata": {},
   "source": [
    "# Benefits and Risks of Augmenting Data In-Place"
   ]
  }
 ],
 "metadata": {
  "kernelspec": {
   "display_name": "practice-env",
   "language": "python",
   "name": "python3"
  },
  "language_info": {
   "codemirror_mode": {
    "name": "ipython",
    "version": 3
   },
   "file_extension": ".py",
   "mimetype": "text/x-python",
   "name": "python",
   "nbconvert_exporter": "python",
   "pygments_lexer": "ipython3",
   "version": "3.13.5"
  }
 },
 "nbformat": 4,
 "nbformat_minor": 5
}
