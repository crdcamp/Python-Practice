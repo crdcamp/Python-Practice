{
 "cells": [
  {
   "cell_type": "markdown",
   "id": "7d069129",
   "metadata": {},
   "source": [
    "# Basic and Advanced Indexing\n",
    "\n",
    "[Resource](https://www.pythonlikeyoumeanit.com/Module3_IntroducingNumpy/BasicIndexing.html)\n",
    "\n",
    "Indexing into and slicing along the dimensions of an array are known as basic indexing. NumPy also provides a sophisticated system of \"advanced indexing\", which permits us powerful means for accessing elements of an array that is flexible beyond specifying integers and slices along axes.\n",
    "\n",
    "For example, we can use advanced indexing to access all of the negative-values elements from `x`."
   ]
  },
  {
   "cell_type": "code",
   "execution_count": 2,
   "id": "1406c5e2",
   "metadata": {},
   "outputs": [
    {
     "name": "stdout",
     "output_type": "stream",
     "text": [
      "Original Array:\n",
      "[[-5  2  0 -7]\n",
      " [-1  9  3  8]\n",
      " [-3 -3  4  6]]\n",
      "\n",
      "Indexed Array:\n",
      "[ 2 -3]\n",
      "\n",
      "All Negative Elements:\n",
      "[-5 -7 -1 -3 -3]\n"
     ]
    }
   ],
   "source": [
    "import numpy as np\n",
    "\n",
    "x = np.array([[-5, 2, 0, -7],\n",
    "              [-1, 9, 3, 8],\n",
    "              [-3, -3, 4, 6]])\n",
    "\n",
    "print(f\"Original Array:\\n{x}\\n\")\n",
    "\n",
    "# Access the vcolumn-1 of row-0 and row-2\n",
    "# A 'view' of the underlying data in 'x' is produced; no data is copied\n",
    "x2 = x[::2, 1] # Starting from the first element going to the end, \n",
    "print(f\"Indexed Array:\\n{x2}\\n\")\n",
    "\n",
    "x3= x[x < 0]\n",
    "print(f\"All Negative Elements:\\n{x3}\")"
   ]
  },
  {
   "cell_type": "markdown",
   "id": "80a6ce10",
   "metadata": {},
   "source": [
    "`x[::2, 1]` checks every two elements (starting with the 0th) and first row."
   ]
  },
  {
   "cell_type": "markdown",
   "id": "a6976ffc",
   "metadata": {},
   "source": [
    "We will see that, where basic indexing provides us with a *view* of the data within the array without making a copy of it, advanced indexing requires that a copy of the accessed data be made. Here, we will define basic indexing and understand the nuances of working with views of arrays."
   ]
  },
  {
   "cell_type": "markdown",
   "id": "67ca3b36",
   "metadata": {},
   "source": [
    "# Basic Indexing\n",
    "\n",
    "## Indexing with Integers and Slice Objects\n",
    "\n",
    "One can access an individual element or a \"subsection\" of an *N*-dimensional array by specifying *N* integers or slice-objects, or a combination of the two.\n",
    "\n",
    "When supplied fewer-than *N* indices, NumPy will automatically \"fill-in\" the remaining indices with trailing slices. Keep in mind that the indices start at 0."
   ]
  },
  {
   "cell_type": "code",
   "execution_count": 3,
   "id": "94311421",
   "metadata": {},
   "outputs": [
    {
     "name": "stdout",
     "output_type": "stream",
     "text": [
      "Original array:\n",
      "[[-5  2  0 -7]\n",
      " [-1  9  3  8]\n",
      " [-3 -3  4  6]]\n",
      "\n",
      "Row-1, last-column of 'x' = 8\n",
      "\n",
      "First two rows, first three columns of 'x':\n",
      "[[-5  2  0]\n",
      " [-1  9  3]]\n",
      "\n",
      "[-5  2  0 -7]\n"
     ]
    }
   ],
   "source": [
    "# Accessing the element at ro1-1, last-column of 'x'ArithmeticError\n",
    "x = np.array([[-5, 2, 0, -7],\n",
    "              [-1, 9, 3, 8],\n",
    "              [-3, -3, 4, 6]])\n",
    "\n",
    "print(f\"Original array:\\n{x}\\n\")\n",
    "\n",
    "print(f\"Row-1, last-column of 'x' = {x[1, -1]}\\n\")\n",
    "\n",
    "\"\"\"\n",
    "Access the subarray of 'x' contained within the f\n",
    "irst two rows \n",
    "and the first three columns\n",
    "\"\"\"\n",
    "print(f\"First two rows, first three columns of 'x':\\n{x[:2, :3]}\\n\")\n",
    "\n",
    "\"\"\"\n",
    "NumPy fills in 'trailing' slices if we don't supply as many indices\n",
    "as there are dimensions in that array.\n",
    "\"\"\"\n",
    "print(x[0])"
   ]
  },
  {
   "cell_type": "markdown",
   "id": "b33c1c4b",
   "metadata": {},
   "source": [
    "Recall that the familiar slicing syntax actually forms `slice` objects \"behind the scenes\":"
   ]
  },
  {
   "cell_type": "code",
   "execution_count": 4,
   "id": "5e9ec171",
   "metadata": {},
   "outputs": [
    {
     "data": {
      "text/plain": [
       "(array([[-5,  2,  0, -7],\n",
       "        [-1,  9,  3,  8]]),\n",
       " slice(None, 3, None))"
      ]
     },
     "execution_count": 4,
     "metadata": {},
     "output_type": "execute_result"
    }
   ],
   "source": [
    "x = np.array([[-5, 2, 0, -7],\n",
    "              [-1, 9, 3, 8],\n",
    "              [-3, -3, 4, 6]])\n",
    "\n",
    "# Equivalent to x[:2, :3]\n",
    "x[slice(None, 2)], slice(None, 3)"
   ]
  },
  {
   "cell_type": "markdown",
   "id": "97fa3dca",
   "metadata": {},
   "source": [
    "# Using a Tuple as an N-Dimensional Index\n",
    "\n",
    "According to its definition, we must supply our array-indices as a tuple in order to invoke basic indexing.\n",
    "\n",
    "As it turns out, we have been forming tuples of indices all along! That is, every time that we index into an array using the syntax `x[i, j, k]`, we are actually forming a tuple containing those indices. That is, `x[i, j, k]` is equivalent to `x[(i, j, k)]`\n",
    "\n",
    "`x[i, j, k]` forms the tuple `(i, j, k)` and passes that to the array's \"get-item\" mechanism. Thus, `x[0, 3]` is equivalent to `x[(0, 3)]`."
   ]
  },
  {
   "cell_type": "code",
   "execution_count": 5,
   "id": "e94cd1ab",
   "metadata": {},
   "outputs": [
    {
     "name": "stdout",
     "output_type": "stream",
     "text": [
      "Original array:\n",
      "[[-5  2  0 -7]\n",
      " [-1  9  3  8]\n",
      " [-3 -3  4  6]]\n",
      "\n",
      "Result without tuple notation: 8\n",
      "Result with tuple notation: 8\n",
      "\n",
      "Slice method results:\n",
      "[[-5  2  0]\n",
      " [-1  9  3]]\n",
      "\n",
      "x[(0,)] results:\n",
      " [-5  2  0 -7]\n"
     ]
    }
   ],
   "source": [
    "x = np.array([[-5, 2, 0, -7],\n",
    "              [-1, 9, 3, 8],\n",
    "              [-3, -3, 4, 6]])\n",
    "\n",
    "print(f\"Original array:\\n{x}\\n\")\n",
    "\n",
    "\"\"\"\n",
    "N-dimensional indexing utilizes tuples:\n",
    "'x[i, k, k]' is equivalent to 'x[(i, j, k)]'\n",
    "\"\"\"\n",
    "\n",
    "print(f\"Result without tuple notation: {x[1, -1]}\")\n",
    "print(f\"Result with tuple notation: {x[(1, -1)]}\\n\")\n",
    "\n",
    "# Equivalent: x[:2, :3]\n",
    "print(f\"Slice method results:\\n{x[(slice(None, 2), slice(None, 3))]}\\n\")\n",
    "\n",
    "# Equivalent: x[0]\n",
    "print(f\"x[(0,)] results:\\n {x[(0,)]}\")"
   ]
  },
  {
   "cell_type": "markdown",
   "id": "56b7a83b",
   "metadata": {},
   "source": [
    "All objects used in this \"get-item\" syntax are packed into a tuple. For instance, `x[0, (0, 1)]` is equivalent to `x[(0, (0, 1))]`.\n",
    "\n",
    "You may be surprised to find that this is a valid index. However, see that it does **not invoke basic indexing**; the index used here is a tuple that contains an integer and *another tuple*, which is not permitted by the rules of basic indexing.\n",
    "\n",
    "Finally, not that the rules of basic indexing specifically call for a tuple of indices. Supplying a list of indices triggers advanced indexing rather than basic indexing."
   ]
  },
  {
   "cell_type": "code",
   "execution_count": 6,
   "id": "568979ad",
   "metadata": {},
   "outputs": [
    {
     "name": "stdout",
     "output_type": "stream",
     "text": [
      "Original array:\n",
      "[[-5  2  0 -7]\n",
      " [-1  9  3  8]\n",
      " [-3 -3  4  6]]\n",
      "\n",
      "Basic indexing result using x[(1, -1)]:\n",
      "8\n",
      "\n",
      "Advanced indexing result using x[[1, -1]]:\n",
      "[[-1  9  3  8]\n",
      " [-3 -3  4  6]]\n"
     ]
    }
   ],
   "source": [
    "x = np.array([[-5, 2, 0, -7],\n",
    "              [-1, 9, 3, 8],\n",
    "              [-3, -3, 4, 6]])\n",
    "print(f\"Original array:\\n{x}\\n\")\n",
    "\n",
    "print(\"Basic indexing result using x[(1, -1)]:\")\n",
    "print(x[(1, -1)])\n",
    "print()\n",
    "print(f\"Advanced indexing result using x[[1, -1]]:\")\n",
    "print(x[[1, -1]])"
   ]
  },
  {
   "cell_type": "markdown",
   "id": "bc033920",
   "metadata": {},
   "source": [
    "# Elipsis and Newaxis Objects\n",
    "\n",
    "The `np.newaxis` object can be passed as an index to an array, in order to insert a size-1 dimension into the array:"
   ]
  },
  {
   "cell_type": "code",
   "execution_count": 7,
   "id": "4f919ee7",
   "metadata": {},
   "outputs": [
    {
     "name": "stdout",
     "output_type": "stream",
     "text": [
      "Original array:\n",
      "[[-5  2  0 -7]\n",
      " [-1  9  3  8]\n",
      " [-3 -3  4  6]]\n",
      "\n",
      "[[[[-5]\n",
      "   [ 2]\n",
      "   [ 0]\n",
      "   [-7]]\n",
      "\n",
      "  [[-1]\n",
      "   [ 9]\n",
      "   [ 3]\n",
      "   [ 8]]\n",
      "\n",
      "  [[-3]\n",
      "   [-3]\n",
      "   [ 4]\n",
      "   [ 6]]]]\n",
      "(1, 3, 4, 1)\n",
      "\n",
      "[[[[-5]\n",
      "   [ 2]\n",
      "   [ 0]\n",
      "   [-7]]\n",
      "\n",
      "  [[-1]\n",
      "   [ 9]\n",
      "   [ 3]\n",
      "   [ 8]]\n",
      "\n",
      "  [[-3]\n",
      "   [-3]\n",
      "   [ 4]\n",
      "   [ 6]]]]\n",
      "(1, 3, 4, 1)\n"
     ]
    }
   ],
   "source": [
    "import numpy as np\n",
    "\n",
    "x = np.array([[-5, 2, 0, -7],\n",
    "              [-1, 9, 3, 8],\n",
    "              [-3, -3, 4, 6]])\n",
    "\n",
    "print(f\"Original array:\\n{x}\\n\")\n",
    "\n",
    "# Inserting size-1 dimensions with `np.newaxis`\n",
    "x1 = x[np.newaxis, :, :, np.newaxis]\n",
    "\n",
    "# Forming the index as an explicit tuple\n",
    "x2 = x[(np.newaxis, slice(None), slice(None), np.newaxis)]\n",
    "\n",
    "print(x1)\n",
    "print(x1.shape)\n",
    "print()\n",
    "print(x2)\n",
    "print(x2.shape)"
   ]
  },
  {
   "cell_type": "markdown",
   "id": "a4d47742",
   "metadata": {},
   "source": [
    "We can also use the built-in `Elipsis` object to insert slices into our index such that the index has as many entries as the array has dimensions. In the same way that `:` can be used to represent a `slice` object, `...` can be used to represent an `Elipsis` object:"
   ]
  },
  {
   "cell_type": "code",
   "execution_count": 8,
   "id": "97ace601",
   "metadata": {},
   "outputs": [
    {
     "name": "stdout",
     "output_type": "stream",
     "text": [
      "[[ 0  4]\n",
      " [ 8 12]\n",
      " [16 20]]\n",
      "\n",
      "[[ 0  4]\n",
      " [ 8 12]\n",
      " [16 20]]\n",
      "\n",
      "[ 9 13]\n",
      "[[ 1  5]\n",
      " [ 9 13]\n",
      " [17 21]]\n"
     ]
    }
   ],
   "source": [
    "y = np.array([[[ 0,  1,  2,  3],\n",
    "               [ 4,  5,  6,  7]],\n",
    "\n",
    "              [[ 8,  9, 10, 11],\n",
    "               [12, 13, 14, 15]],\n",
    "\n",
    "              [[16, 17, 18, 19],\n",
    "               [20, 21, 22, 23]]])\n",
    "\n",
    "# equivalent\" `y[:, :, 0]`\n",
    "print(y[..., 0])\n",
    "\n",
    "print()\n",
    "\n",
    "# using an explicit tuple\n",
    "print(y[(Ellipsis, 0)])\n",
    "\n",
    "print()\n",
    "\n",
    "# equivalent: `y[0, :, 1]`\n",
    "print(y[1, ..., 1])\n",
    "\n",
    "# apply to all dimensions\n",
    "print(y[:, :, 1])"
   ]
  },
  {
   "cell_type": "markdown",
   "id": "6c065225",
   "metadata": {},
   "source": [
    "An index cannot possess more than one `Elipsis` entry. This can be extremely useful when working with arrays of varying dimensionalities. To access column-0 along all dimensions of an array, `z`, would look like `z[:, 0]` for a 2D array, `z[:, :, 0]` for a 3D array, and so on. `z[..., 0]` succinctly encapsulates all iterations of this."
   ]
  },
  {
   "cell_type": "markdown",
   "id": "e6181f7a",
   "metadata": {},
   "source": [
    "# Producing a View of an Array\n",
    "\n",
    "As stated above, using basic indexing does not return a copy of the data being accessed. Rather, it produces a *view* of the underlying data. NumPy provides the function `np.shares_memory` to determine if the two arrays refer to the same underlying data."
   ]
  },
  {
   "cell_type": "code",
   "execution_count": 9,
   "id": "961b9b29",
   "metadata": {},
   "outputs": [
    {
     "data": {
      "text/plain": [
       "True"
      ]
     },
     "execution_count": 9,
     "metadata": {},
     "output_type": "execute_result"
    }
   ],
   "source": [
    "z = np.array([[ 3.31,  4.71,  0.4 ],\n",
    "              [ 0.21,  2.85,  3.21],\n",
    "              [-3.77,  4.53, -1.15]])\n",
    "\n",
    "subarray = z[:, 0]\n",
    "subarray # A view of the array data referenced by `z`\n",
    "\n",
    "np.shares_memory(subarray, z)\n"
   ]
  },
  {
   "cell_type": "markdown",
   "id": "be645009",
   "metadata": {},
   "source": [
    "A single number returned by basic indexing does not share memory with the parent array:"
   ]
  },
  {
   "cell_type": "code",
   "execution_count": 10,
   "id": "7677986d",
   "metadata": {},
   "outputs": [
    {
     "data": {
      "text/plain": [
       "False"
      ]
     },
     "execution_count": 10,
     "metadata": {},
     "output_type": "execute_result"
    }
   ],
   "source": [
    "z = np.array([[ 3.31,  4.71,  0.4 ],\n",
    "              [ 0.21,  2.85,  3.21],\n",
    "              [-3.77,  4.53, -1.15]])\n",
    "\n",
    "z[0, 0]\n",
    "np.shares_memory(z[0, 0], z)\n"
   ]
  },
  {
   "cell_type": "markdown",
   "id": "a5abe551",
   "metadata": {},
   "source": [
    "The function `np.copy` can be used to create a copy of an array, such that it no longer shares memory with any other array."
   ]
  },
  {
   "cell_type": "code",
   "execution_count": 11,
   "id": "9a840770",
   "metadata": {},
   "outputs": [
    {
     "data": {
      "text/plain": [
       "False"
      ]
     },
     "execution_count": 11,
     "metadata": {},
     "output_type": "execute_result"
    }
   ],
   "source": [
    "new_subarray = np.copy(subarray)\n",
    "new_subarray\n",
    "np.shares_memory(new_subarray, z)"
   ]
  },
  {
   "cell_type": "markdown",
   "id": "e5f40f7f",
   "metadata": {},
   "source": [
    "Utilizing an array in a mathematical expression involving arithmetic operators returns an entirely distinct array that doesn't share memory with the original array."
   ]
  },
  {
   "cell_type": "code",
   "execution_count": 12,
   "id": "dec81d58",
   "metadata": {},
   "outputs": [
    {
     "data": {
      "text/plain": [
       "False"
      ]
     },
     "execution_count": 12,
     "metadata": {},
     "output_type": "execute_result"
    }
   ],
   "source": [
    "np.shares_memory(subarray + 2, subarray)"
   ]
  },
  {
   "cell_type": "markdown",
   "id": "3f90679a",
   "metadata": {},
   "source": [
    "Thus, updating a variable `subarray` via `subarray = subarray + 2` does not overwrite the original data referenced by `subarray`. Rather, `subarray + 2` assigns that new array to the variable `subarray`.\n",
    "\n",
    "NumPy does provide mechanisms for performing mathematical operations to directly update the underlying data of an array without having to create a distinct array. We will discuss these mechanisms in the next subsection."
   ]
  },
  {
   "cell_type": "markdown",
   "id": "f8e8ac4f",
   "metadata": {},
   "source": [
    "Given:"
   ]
  },
  {
   "cell_type": "code",
   "execution_count": 13,
   "id": "b8a7f498",
   "metadata": {},
   "outputs": [],
   "source": [
    "x = np.array([[ 0,  1,  2,  3],\n",
    "              [ 4,  5,  6,  7],\n",
    "              [ 8,  9, 10, 11]])"
   ]
  },
  {
   "cell_type": "markdown",
   "id": "4ed392d5",
   "metadata": {},
   "source": [
    "Which of the following expressions create views of `x`? That is, in which cases do `x` and the created variable reference the same underlying array data? Check your work using `np.shares_memory`."
   ]
  },
  {
   "cell_type": "code",
   "execution_count": 14,
   "id": "1b4518a5",
   "metadata": {},
   "outputs": [
    {
     "data": {
      "text/plain": [
       "True"
      ]
     },
     "execution_count": 14,
     "metadata": {},
     "output_type": "execute_result"
    }
   ],
   "source": [
    "a1 = x\n",
    "np.shares_memory(a1, x)"
   ]
  },
  {
   "cell_type": "code",
   "execution_count": null,
   "id": "55ba3b26",
   "metadata": {},
   "outputs": [],
   "source": []
  }
 ],
 "metadata": {
  "kernelspec": {
   "display_name": "practice-env",
   "language": "python",
   "name": "python3"
  },
  "language_info": {
   "codemirror_mode": {
    "name": "ipython",
    "version": 3
   },
   "file_extension": ".py",
   "mimetype": "text/x-python",
   "name": "python",
   "nbconvert_exporter": "python",
   "pygments_lexer": "ipython3",
   "version": "3.13.5"
  }
 },
 "nbformat": 4,
 "nbformat_minor": 5
}
