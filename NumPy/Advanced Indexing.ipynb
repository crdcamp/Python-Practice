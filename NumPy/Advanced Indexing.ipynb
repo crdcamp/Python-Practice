{
 "cells": [
  {
   "cell_type": "markdown",
   "id": "7d069129",
   "metadata": {},
   "source": [
    "# Basic and Advanced Indexing\n",
    "\n",
    "[Resource](https://www.pythonlikeyoumeanit.com/Module3_IntroducingNumpy/BasicIndexing.html)\n",
    "\n",
    "Indexing into and slicing along the dimensions of an array are known as basic indexing. NumPy also provides a sophisticated system of \"advanced indexing\", which permits us powerful means for accessing elements of an array that is flexible beyond specifying integers and slices along axes.\n",
    "\n",
    "For example, we can use advanced indexing to access all of the negative-values elements from `x`."
   ]
  },
  {
   "cell_type": "code",
   "execution_count": 8,
   "id": "1406c5e2",
   "metadata": {},
   "outputs": [
    {
     "name": "stdout",
     "output_type": "stream",
     "text": [
      "Original Array:\n",
      "[[-5  2  0 -7]\n",
      " [-1  9  3  8]\n",
      " [-3 -3  4  6]]\n",
      "\n",
      "Indexed Array:\n",
      "[ 2 -3]\n",
      "\n",
      "All Negative Elements:\n",
      "[-5 -7 -1 -3 -3]\n"
     ]
    }
   ],
   "source": [
    "import numpy as np\n",
    "\n",
    "x = np.array([[-5, 2, 0, -7],\n",
    "              [-1, 9, 3, 8],\n",
    "              [-3, -3, 4, 6]])\n",
    "\n",
    "print(f\"Original Array:\\n{x}\\n\")\n",
    "\n",
    "# Access the vcolumn-1 of row-0 and row-2\n",
    "# A 'view' of the underlying data in 'x' is produced; no data is copied\n",
    "x2 = x[::2, 1] # Starting from the first element going to the end, \n",
    "print(f\"Indexed Array:\\n{x2}\\n\")\n",
    "\n",
    "x3= x[x < 0]\n",
    "print(f\"All Negative Elements:\\n{x3}\")"
   ]
  },
  {
   "cell_type": "markdown",
   "id": "80a6ce10",
   "metadata": {},
   "source": [
    "`x[::2, 1]` checks every two elements (starting with the 0th) and first row."
   ]
  },
  {
   "cell_type": "markdown",
   "id": "a6976ffc",
   "metadata": {},
   "source": [
    "We will see that, where basic indexing provides us with a *view* of the data within the array without making a copy of it, advanced indexing requires that a copy of the accessed data be made. Here, we will define basic indexing and understand the nuances of working with views of arrays."
   ]
  },
  {
   "cell_type": "markdown",
   "id": "67ca3b36",
   "metadata": {},
   "source": [
    "# Basic Indexing\n",
    "\n",
    "## Indexing with Integers and Slice Objects\n",
    "\n",
    "One can access an individual element or a \"subsection\" of an *N*-dimensional array by specifying *N* integers or slice-objects, or a combination of the two.\n",
    "\n",
    "When supplied fewer-than *N* indices, NumPy will automatically \"fill-in\" the remaining indices with trailing slices. Keep in mind that the indices start at 0."
   ]
  },
  {
   "cell_type": "code",
   "execution_count": 25,
   "id": "94311421",
   "metadata": {},
   "outputs": [
    {
     "name": "stdout",
     "output_type": "stream",
     "text": [
      "Original array:\n",
      "[[-5  2  0 -7]\n",
      " [-1  9  3  8]\n",
      " [-3 -3  4  6]]\n",
      "\n",
      "Row-1, last-column of 'x' = 8\n",
      "\n",
      "First two rows, first three columns of 'x':\n",
      "[[-5  2  0]\n",
      " [-1  9  3]]\n",
      "\n",
      "[-5  2  0 -7]\n"
     ]
    }
   ],
   "source": [
    "# Accessing the element at ro1-1, last-column of 'x'ArithmeticError\n",
    "x = np.array([[-5, 2, 0, -7],\n",
    "              [-1, 9, 3, 8],\n",
    "              [-3, -3, 4, 6]])\n",
    "\n",
    "print(f\"Original array:\\n{x}\\n\")\n",
    "\n",
    "print(f\"Row-1, last-column of 'x' = {x[1, -1]}\\n\")\n",
    "\n",
    "\"\"\"\n",
    "Access the subarray of 'x' contained within the first two rows \n",
    "and the first three columns\n",
    "\"\"\"\n",
    "print(f\"First two rows, first three columns of 'x':\\n{x[:2, :3]}\\n\")\n",
    "\n",
    "\"\"\"\n",
    "NumPy fills in 'trailing' slices if we don't supply as many indices\n",
    "as there are dimensions in that array.\n",
    "\"\"\"\n",
    "print(x[0])"
   ]
  },
  {
   "cell_type": "markdown",
   "id": "b33c1c4b",
   "metadata": {},
   "source": [
    "Recall that the familiar slicing syntax actually forms `slice` objects \"behind the scenes\":"
   ]
  },
  {
   "cell_type": "code",
   "execution_count": 26,
   "id": "5e9ec171",
   "metadata": {},
   "outputs": [
    {
     "data": {
      "text/plain": [
       "(array([[-5,  2,  0, -7],\n",
       "        [-1,  9,  3,  8]]),\n",
       " slice(None, 3, None))"
      ]
     },
     "execution_count": 26,
     "metadata": {},
     "output_type": "execute_result"
    }
   ],
   "source": [
    "x = np.array([[-5, 2, 0, -7],\n",
    "              [-1, 9, 3, 8],\n",
    "              [-3, -3, 4, 6]])\n",
    "\n",
    "# Equivalent to x[:2, :3]\n",
    "x[slice(None, 2)], slice(None, 3)"
   ]
  },
  {
   "cell_type": "markdown",
   "id": "97fa3dca",
   "metadata": {},
   "source": [
    "# Using a Tuple as an N-Dimensional Index\n",
    "\n",
    "According to its definition, we must supply our array-indices as a tuple in order to invoke basic indexing.\n",
    "\n",
    "As it turns out, we have been forming tuples of indices all along!"
   ]
  }
 ],
 "metadata": {
  "kernelspec": {
   "display_name": "practice-env",
   "language": "python",
   "name": "python3"
  },
  "language_info": {
   "codemirror_mode": {
    "name": "ipython",
    "version": 3
   },
   "file_extension": ".py",
   "mimetype": "text/x-python",
   "name": "python",
   "nbconvert_exporter": "python",
   "pygments_lexer": "ipython3",
   "version": "3.13.5"
  }
 },
 "nbformat": 4,
 "nbformat_minor": 5
}
