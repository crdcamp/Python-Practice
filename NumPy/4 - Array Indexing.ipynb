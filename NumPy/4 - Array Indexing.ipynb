{
 "cells": [
  {
   "cell_type": "markdown",
   "id": "07077dbc",
   "metadata": {},
   "source": [
    "# Access Array Elements\n",
    "\n",
    "Array indexing is the same as accessing an array element.\n",
    "\n",
    "You can access an array element by referring to its index number.\n",
    "\n",
    "The indexes in NumPy arrays start with 0."
   ]
  },
  {
   "cell_type": "code",
   "execution_count": 1,
   "id": "6f6873d1",
   "metadata": {},
   "outputs": [
    {
     "name": "stdout",
     "output_type": "stream",
     "text": [
      "1\n"
     ]
    }
   ],
   "source": [
    "# Get the first element from the array:\n",
    "\n",
    "import numpy as np\n",
    "\n",
    "arr = np.array([1,2,3,4])\n",
    "print(arr[0])"
   ]
  },
  {
   "cell_type": "code",
   "execution_count": 2,
   "id": "6950e992",
   "metadata": {},
   "outputs": [
    {
     "name": "stdout",
     "output_type": "stream",
     "text": [
      "7\n"
     ]
    }
   ],
   "source": [
    "# Get the third and fourth elements from the array and add them\n",
    "\n",
    "import numpy as np\n",
    "\n",
    "arr = np.array([1,2,3,4])\n",
    "\n",
    "print(arr[2] + arr[3])"
   ]
  },
  {
   "cell_type": "markdown",
   "id": "b756e407",
   "metadata": {},
   "source": [
    "# Access 2-D Arrays\n",
    "\n",
    "To access elements from 2-D arrays we can use comma separated integers representing the dimension and index of the element.\n",
    "\n",
    "Think of 2-D arrays like a table with rows and columns, where the dimension represents the row and the index represents the column:"
   ]
  },
  {
   "cell_type": "code",
   "execution_count": 9,
   "id": "0e628a67",
   "metadata": {},
   "outputs": [
    {
     "name": "stdout",
     "output_type": "stream",
     "text": [
      "2nd element on 1st row:  2\n"
     ]
    }
   ],
   "source": [
    "import numpy as np\n",
    "\n",
    "arr = np.array([[1,2,3,4,4], [6,7,8,9,10]])\n",
    "\n",
    "print(\"2nd element on 1st row: \", arr[0,1])"
   ]
  },
  {
   "cell_type": "code",
   "execution_count": 10,
   "id": "ce14e133",
   "metadata": {},
   "outputs": [
    {
     "name": "stdout",
     "output_type": "stream",
     "text": [
      "5th element on 2nd row:  10\n"
     ]
    }
   ],
   "source": [
    "# Access the element on the 2nd row, 5th column\n",
    "\n",
    "import numpy as np\n",
    "\n",
    "arr = np.array([[1,2,3,4,5], [6,7,8,9,10]])\n",
    "\n",
    "print(\"5th element on 2nd row: \", arr[1,4])"
   ]
  },
  {
   "cell_type": "markdown",
   "id": "95549eb4",
   "metadata": {},
   "source": [
    "# Access 3-D Arrays\n",
    "\n",
    "To access elements from 3-D arrays we can use comma separated integers representing the dimensions and the index of the element:"
   ]
  },
  {
   "cell_type": "code",
   "execution_count": 11,
   "id": "b6e03c5a",
   "metadata": {},
   "outputs": [
    {
     "name": "stdout",
     "output_type": "stream",
     "text": [
      "6\n"
     ]
    }
   ],
   "source": [
    "import numpy as np\n",
    "\n",
    "arr = np.array([[[1,2,3], [4,5,6], [7,8,9], [10,11,12]]])\n",
    "\n",
    "print(arr[0,1,2])"
   ]
  },
  {
   "cell_type": "markdown",
   "id": "71da5ca6",
   "metadata": {},
   "source": [
    "# Negative Indexing\n",
    "\n",
    "Use negative indexing to access an array from the end:"
   ]
  },
  {
   "cell_type": "code",
   "execution_count": 12,
   "id": "05856c1c",
   "metadata": {},
   "outputs": [
    {
     "name": "stdout",
     "output_type": "stream",
     "text": [
      "Last element from 2nd dimension:  10\n"
     ]
    }
   ],
   "source": [
    "import numpy as np\n",
    "\n",
    "arr = np.array([[1,2,3,4,5], [6,7,8,9,10]])\n",
    "\n",
    "print(\"Last element from 2nd dimension: \", arr[1,-1])"
   ]
  }
 ],
 "metadata": {
  "kernelspec": {
   "display_name": "numpy-p",
   "language": "python",
   "name": "python3"
  },
  "language_info": {
   "codemirror_mode": {
    "name": "ipython",
    "version": 3
   },
   "file_extension": ".py",
   "mimetype": "text/x-python",
   "name": "python",
   "nbconvert_exporter": "python",
   "pygments_lexer": "ipython3",
   "version": "3.13.5"
  }
 },
 "nbformat": 4,
 "nbformat_minor": 5
}
