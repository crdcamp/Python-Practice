{
 "cells": [
  {
   "cell_type": "markdown",
   "id": "0a252581",
   "metadata": {},
   "source": [
    "# What is a Random Number?\n",
    "\n",
    "Random number does not mean a different number every time. Random means something that can not be predicted logically (duh).\n",
    "\n",
    "# Pseudo Random and True Random\n",
    "\n",
    "Computers work on programs, and programs are definitive sets of instructions. So, it means there must be an algorithm to generate a random number as well.\n",
    "\n",
    "If there is a program to generate a random number it can be predicted, thus it's not truly random.\n",
    "\n",
    "Random numbers generated through an algorithm are called *pseudo random*.\n",
    "\n",
    "Can we make truly random numbers?\n",
    "\n",
    "Yes. In order to generate a truly random number on our computers we need to get the random data from some outside source. This outside source is generally our keystrokes, mouse movements, data on network, etc.\n",
    "\n",
    "We don't need truly random numbers unless related to security or the basis of the application is the randomness.\n",
    "\n",
    "For now, we'll use pseudo random numbers."
   ]
  },
  {
   "cell_type": "markdown",
   "id": "5d7f3fd3",
   "metadata": {},
   "source": [
    "# Generate Random Number\n",
    "\n",
    "NumPy offers the `random` module to work with random numbers."
   ]
  },
  {
   "cell_type": "code",
   "execution_count": 1,
   "id": "1e42979b",
   "metadata": {},
   "outputs": [
    {
     "name": "stdout",
     "output_type": "stream",
     "text": [
      "9\n"
     ]
    }
   ],
   "source": [
    "from numpy import random\n",
    "\n",
    "x = random.randint(100)\n",
    "\n",
    "print(x)"
   ]
  },
  {
   "cell_type": "markdown",
   "id": "10adc834",
   "metadata": {},
   "source": [
    "# Generate Random Float\n",
    "\n",
    "The random module's `rand()` method returns a random float between 0 and 1:"
   ]
  },
  {
   "cell_type": "code",
   "execution_count": 2,
   "id": "0f22f240",
   "metadata": {},
   "outputs": [
    {
     "name": "stdout",
     "output_type": "stream",
     "text": [
      "0.1366990543038229\n"
     ]
    }
   ],
   "source": [
    "from numpy import random\n",
    "\n",
    "x = random.rand()\n",
    "\n",
    "print(x)"
   ]
  },
  {
   "cell_type": "code",
   "execution_count": null,
   "id": "366e6995",
   "metadata": {},
   "outputs": [],
   "source": []
  },
  {
   "cell_type": "markdown",
   "id": "7f0c3408",
   "metadata": {},
   "source": [
    "# Generate Random Array\n",
    "\n",
    "In NumPy, we work with arrays. You can use the two methods from the above examples to make random arrays.\n",
    "\n",
    "## Integers\n",
    "\n",
    "The `randint()` method takes a `size` parameter where you can specify the shape of an array."
   ]
  },
  {
   "cell_type": "code",
   "execution_count": 3,
   "id": "817b8fbc",
   "metadata": {},
   "outputs": [
    {
     "name": "stdout",
     "output_type": "stream",
     "text": [
      "[78 44  3 61 61]\n"
     ]
    }
   ],
   "source": [
    "# Generate a 1D array containing 5 random integers from 0 to 100\n",
    "\n",
    "from numpy import random\n",
    "\n",
    "x = random.randint(100, size=(5))\n",
    "\n",
    "print(x)"
   ]
  },
  {
   "cell_type": "code",
   "execution_count": 5,
   "id": "31f46076",
   "metadata": {},
   "outputs": [
    {
     "name": "stdout",
     "output_type": "stream",
     "text": [
      "[[58 71 10 16  0]\n",
      " [23 74 38 15 69]\n",
      " [95 82 65 50 51]]\n"
     ]
    }
   ],
   "source": [
    "# Generate a 2D array with 3 rows, each row containing 5 random integers from 0 to 100\n",
    "\n",
    "from numpy import random\n",
    "\n",
    "x = random.randint(100, size=(3,5))\n",
    "\n",
    "print(x)"
   ]
  },
  {
   "cell_type": "markdown",
   "id": "09b4b0a7",
   "metadata": {},
   "source": [
    "# Floats\n",
    "\n",
    "The `rand()` method also allows you to specify the shape of the array."
   ]
  },
  {
   "cell_type": "code",
   "execution_count": 6,
   "id": "ac2093f7",
   "metadata": {},
   "outputs": [
    {
     "name": "stdout",
     "output_type": "stream",
     "text": [
      "[0.32671016 0.50082293 0.42551658 0.62169436 0.12632345]\n"
     ]
    }
   ],
   "source": [
    "# Generate a 1D array containing 5 random floats\n",
    "\n",
    "from numpy import random\n",
    "\n",
    "x = random.rand(5)\n",
    "\n",
    "print(x)"
   ]
  },
  {
   "cell_type": "code",
   "execution_count": 7,
   "id": "069a115f",
   "metadata": {},
   "outputs": [
    {
     "name": "stdout",
     "output_type": "stream",
     "text": [
      "[[0.17110444 0.70232471 0.72069684 0.24142636 0.46100852]\n",
      " [0.8494334  0.84654891 0.54842917 0.82602225 0.59098197]\n",
      " [0.78738697 0.06718985 0.59504644 0.65738444 0.89178728]]\n"
     ]
    }
   ],
   "source": [
    "# Generate a 2D array with 3 rows, each row containing 5 random numbers\n",
    "\n",
    "from numpy import random\n",
    "\n",
    "x = random.rand(3,5)\n",
    "\n",
    "print(x)"
   ]
  },
  {
   "cell_type": "markdown",
   "id": "c22008bc",
   "metadata": {},
   "source": [
    "# Generate Random Number From Array\n",
    "\n",
    "The `choice()` method allows you to generate a random value based on an array of values.\n",
    "\n",
    "The `choice()` method takes an array as a parameter and randomly returns one of the values."
   ]
  },
  {
   "cell_type": "code",
   "execution_count": 9,
   "id": "c0f6395b",
   "metadata": {},
   "outputs": [
    {
     "name": "stdout",
     "output_type": "stream",
     "text": [
      "9\n"
     ]
    }
   ],
   "source": [
    "from numpy import random\n",
    "\n",
    "z = random.choice([3,5,7,9])\n",
    "\n",
    "print(z)"
   ]
  },
  {
   "cell_type": "markdown",
   "id": "1bc935af",
   "metadata": {},
   "source": [
    "The `choice()` method also allows you to return an array of values.\n",
    "\n",
    "Add a `size` parameter to specify the shape of the array."
   ]
  },
  {
   "cell_type": "code",
   "execution_count": 10,
   "id": "6f16798a",
   "metadata": {},
   "outputs": [
    {
     "name": "stdout",
     "output_type": "stream",
     "text": [
      "[[3 5 7 3 7]\n",
      " [9 7 9 7 7]\n",
      " [9 9 3 9 3]]\n"
     ]
    }
   ],
   "source": [
    "# Generate a 2D array that consists of the values in the array parameter (3,5,7,9)\n",
    "\n",
    "from numpy import random\n",
    "\n",
    "x = random.choice([3,5,7,9], size=(3,5))\n",
    "\n",
    "print(x)"
   ]
  }
 ],
 "metadata": {
  "kernelspec": {
   "display_name": "practice-env",
   "language": "python",
   "name": "python3"
  },
  "language_info": {
   "codemirror_mode": {
    "name": "ipython",
    "version": 3
   },
   "file_extension": ".py",
   "mimetype": "text/x-python",
   "name": "python",
   "nbconvert_exporter": "python",
   "pygments_lexer": "ipython3",
   "version": "3.13.5"
  }
 },
 "nbformat": 4,
 "nbformat_minor": 5
}
