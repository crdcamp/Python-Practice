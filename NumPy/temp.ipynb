{
 "cells": [
  {
   "cell_type": "markdown",
   "id": "b9e43a02",
   "metadata": {},
   "source": [
    "One can access an individual element or a \"subsection\" of an *N*-dimensional array by specifying *N* integers or slice-objects, or a combination of the two.\n",
    "\n",
    "When supplied fewer-than *N* indices, NumPy will automatically \"fill-in\" the remaining indices with trailing slices. Keep in mind that the indices start at 0."
   ]
  },
  {
   "cell_type": "code",
   "execution_count": 10,
   "id": "3e9d6a73",
   "metadata": {},
   "outputs": [
    {
     "name": "stdout",
     "output_type": "stream",
     "text": [
      "Original array:\n",
      "[[-5  2  0 -7]\n",
      " [-1  9  3  8]\n",
      " [-3 -3  4  6]]\n",
      "\n",
      "Basic Indexing: Access column-1, row-0, and row-2:\n",
      "[ 2 -3]\n",
      "\n",
      "Advanced Indexing: Access all negative elements:\n",
      "[-5 -7 -1 -3 -3]\n"
     ]
    }
   ],
   "source": [
    "import numpy as np\n",
    "\n",
    "x = np.array([[-5, 2, 0, -7],\n",
    "              [-1, 9, 3, 8],\n",
    "              [-3, -3, 4, 6]])\n",
    "\n",
    "print(f\"Original array:\\n{x}\\n\")\n",
    "\n",
    "\"\"\"\n",
    "Access the column-1 of row-0 and row0-2\n",
    "This is an example of basic indexing\n",
    "Creates a 'view' of the underlying data in `x` is produced. No data is copied\n",
    "\"\"\"\n",
    "print(f\"Basic Indexing: Access column-1, row-0, and row-2:\\n{x[::2,1]}\\n\")\n",
    "\n",
    "\"\"\"\n",
    "An example of advanced indexing\n",
    "Access all negative elements in `x`\n",
    "This produces a copy of the accessed data\n",
    "\"\"\"\n",
    "print(f\"Advanced Indexing: Access all negative elements:\\n{x[x < 0]}\")"
   ]
  },
  {
   "cell_type": "markdown",
   "id": "de808f3f",
   "metadata": {},
   "source": [
    "We will see that, where basic indexing provides us with a *view* of the data within the array without making a copy of it, advanced indexing requires that a copy of the accessed data be made.\n",
    "\n",
    "Here, we will define basic indexing and understand the nuances of working with views of arrays."
   ]
  },
  {
   "cell_type": "markdown",
   "id": "83dbef21",
   "metadata": {},
   "source": [
    "# Basic Indexing\n",
    "\n",
    "**Definition:**\n",
    "\n",
    "Given an *N*-dimensional array, `x`, `x[index]` invokes **basic indexing** whenever `index` is a *tuple* containing any combination of the following types of objects:\n",
    "\n",
    "- integers\n",
    "- slice objects\n",
    "- Ellipsis objects\n",
    "- numpy.newaxis objects\n",
    "\n",
    "Accessing the contents of an array via basic indexing **does not create a copy** of those contents. Rather, a \"view\" of the same underlying data is produced.\n",
    "\n",
    "## Indexing with Integers and Slice Objects\n",
    "\n",
    "One can access an individual element or a \"subsection\" of an *N*-dimensional array by specifying *N* integers or slice-objects, or a combination of the two.\n",
    "\n",
    "When supplied fewer-than *N* indices, NumPy will automatically \"fill-in\" the remaining indices with trailing slices."
   ]
  },
  {
   "cell_type": "code",
   "execution_count": 21,
   "id": "43c81ad2",
   "metadata": {},
   "outputs": [
    {
     "name": "stdout",
     "output_type": "stream",
     "text": [
      "Original array:\n",
      "[[-5  2  0 -7]\n",
      " [-1  9  3  8]\n",
      " [-3 -3  4  6]]\n",
      "\n",
      "Access the element located at row-1, last-column of `x`:\n",
      "8\n",
      "\n",
      "Access the subarray of `x` contained within the first two columns\n",
      "and the first three columns:\n",
      "[[-5  2  0]\n",
      " [-1  9  3]]\n",
      "\n",
      "Filling-in 'trailing' slices when there are less indices\n",
      "than dimensions in the given array:\n",
      "[-5  2  0 -7]\n"
     ]
    }
   ],
   "source": [
    "x = np.array([[-5, 2, 0, -7],\n",
    "              [-1, 9, 3, 8],\n",
    "              [-3, -3, 4, 6]])\n",
    "\n",
    "print(f\"Original array:\\n{x}\\n\")\n",
    "\n",
    "\"\"\"\n",
    "Accessing the element located at row-1, last-column of `x`\n",
    "\"\"\"\n",
    "print(f\"Access the element located at row-1, last-column of `x`:\\n{x[1, -1]}\\n\")\n",
    "\n",
    "\"\"\"\n",
    "Access the subarray of `x` contained within the first two rows\n",
    "and the first three columns\n",
    "\"\"\"\n",
    "\n",
    "print(f\"Access the subarray of `x` contained within the first two columns\\nand the first three columns:\\n{x[:2, :3]}\\n\")\n",
    "\n",
    "\"\"\"\n",
    "NumPy fills-in 'trailing' slices if we don't supply as many indices\n",
    "as there are dimensions in the given array\n",
    "\"\"\"\n",
    "print(f\"Filling-in 'trailing' slices when there are less indices\\nthan dimensions in the given array:\\n{x[0]}\")"
   ]
  },
  {
   "cell_type": "markdown",
   "id": "428a59b6",
   "metadata": {},
   "source": [
    "**Note:** The slice `x[:2, :3]` starts from row and column 0, but **does not** include index 2 and 3.\n",
    "\n",
    "Also, recall that the *slicing* syntax forms `slice` objects \"behind the scenes\":"
   ]
  },
  {
   "cell_type": "code",
   "execution_count": 22,
   "id": "5a436376",
   "metadata": {},
   "outputs": [
    {
     "name": "stdout",
     "output_type": "stream",
     "text": [
      "[[-5  2  0]\n",
      " [-1  9  3]]\n"
     ]
    }
   ],
   "source": [
    "print(x[slice(None, 2), slice(None, 3)])"
   ]
  },
  {
   "cell_type": "markdown",
   "id": "9fa87d75",
   "metadata": {},
   "source": [
    "# Why use slice()?\n",
    "\n",
    "You use `slice()` for very specific instances when you need variables or dynamic slicing.\n",
    "\n",
    "Colon Syntax, on the other hand, is concise, readable, and is basically what you'll be using 90% of the time."
   ]
  },
  {
   "cell_type": "markdown",
   "id": "e54f3344",
   "metadata": {},
   "source": [
    "# Using a Tuple as an N-dimensional Index\n",
    "\n",
    "According to its definition, we must supply our array-indices as a tuple in order to invoke basic indexing. As it turns out, we have been forming tuple indices all along!\n",
    "\n",
    "That is, every time that we index into an array using the syntax `x[i, j, k]`, we are actually forming a *tuple* containing those indices. That is, `x[i, j, k]` us equivalent to `x[(i, j, k )]`.\n",
    "\n",
    "`x[i, j, k]` forms the tuple `(i, j, k)` and passes that to the array's \"get-item\" mechanism. Thus, `x[0, 3]` is equivalent to `x[(0, 3)]`."
   ]
  },
  {
   "cell_type": "code",
   "execution_count": null,
   "id": "ad2b40eb",
   "metadata": {},
   "outputs": [
    {
     "name": "stdout",
     "output_type": "stream",
     "text": [
      "Original array:\n",
      "[[-5  2  0 -7]\n",
      " [-1  9  3  8]\n",
      " [-3 -3  4  6]]\n",
      "\n",
      "Tuple result: 3\n",
      "\n",
      "Indexing result: 8\n",
      "\n",
      "Using slice() method:\n",
      "[[-5  2  0]\n",
      " [-1  9  3]]\n",
      "\n",
      "Print the first row using a tuple:\n",
      "[-5  2  0 -7]\n",
      "<class 'numpy.ndarray'>\n"
     ]
    }
   ],
   "source": [
    "x = np.array([[-5, 2, 0, -7],\n",
    "              [-1, 9, 3, 8],\n",
    "              [-3, -3, 4, 6]])\n",
    "\n",
    "print(f\"Original array:\\n{x}\\n\")\n",
    "\n",
    "\"\"\"\n",
    "N-dimensional indexing utilizes tuples:\n",
    "`x[i, j, k]` is equivalent to `x[(i, j, k)]`\n",
    "\"\"\"\n",
    "print(f\"Tuple result: {x[(1, -2)]}\\n\")\n",
    "\n",
    "# equivalent: x[1, -1]\n",
    "print(f\"Indexing result: {x[1, -1]}\\n\")\n",
    "\n",
    "# equivalent: x[:2, :3]\n",
    "print(f\"Using slice() method:\\n{x[(slice(None, 2), slice(None, 3))]}\\n\")\n",
    "\n",
    "# equivalent: x[0]\n",
    "print(f\"Print the first row using a tuple:\\n{x[(0,)]}\")l"
   ]
  },
  {
   "cell_type": "markdown",
   "id": "b84b9710",
   "metadata": {},
   "source": [
    "All objects used in this \"get-item\" syntax are packed into a tuple. For instance, `x[0, (0, 1)]` is equivalent to `x[(0, (0,1))]`. You may be surprised to find that this is a valid index. However, see that it **does not invoke basic indexing**; the index used here is a tuple that contains an integer and another tuple, which is not permitted by the rules of basic indexing.\n",
    "\n",
    "Finally, note that the rules of basic indexing specifically call for a *tuple* of indices. Supplying a list of indices triggers advanced indexing rather than basic indexing!"
   ]
  },
  {
   "cell_type": "code",
   "execution_count": 36,
   "id": "3ba54c8f",
   "metadata": {},
   "outputs": [
    {
     "name": "stdout",
     "output_type": "stream",
     "text": [
      "Original array:\n",
      "[[-5  2  0 -7]\n",
      " [-1  9  3  8]\n",
      " [-3 -3  4  6]]\n",
      "\n",
      "Basic indexing with a tuple:\n",
      "8\n",
      "\n",
      "Advanced indexing with a list:\n",
      "[[-1  9  3  8]\n",
      " [-3 -3  4  6]]\n"
     ]
    }
   ],
   "source": [
    "x = np.array([[-5, 2, 0, -7],\n",
    "              [-1, 9, 3, 8],\n",
    "              [-3, -3, 4, 6]])\n",
    "\n",
    "print(f\"Original array:\\n{x}\\n\")\n",
    "\n",
    "# Basic indexing specifically requires a tuple\n",
    "print(f\"Basic indexing with a tuple:\\n{x[(1, -1)]}\\n\")\n",
    "\n",
    "# Indexing with a list triggers advanced indexing\n",
    "print(f\"Advanced indexing with a list:\\n{x[[1, -1]]}\")"
   ]
  },
  {
   "cell_type": "markdown",
   "id": "0f13fa5c",
   "metadata": {},
   "source": []
  }
 ],
 "metadata": {
  "kernelspec": {
   "display_name": "practice-env",
   "language": "python",
   "name": "python3"
  },
  "language_info": {
   "codemirror_mode": {
    "name": "ipython",
    "version": 3
   },
   "file_extension": ".py",
   "mimetype": "text/x-python",
   "name": "python",
   "nbconvert_exporter": "python",
   "pygments_lexer": "ipython3",
   "version": "3.13.5"
  }
 },
 "nbformat": 4,
 "nbformat_minor": 5
}
