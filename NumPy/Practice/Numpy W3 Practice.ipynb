{
 "cells": [
  {
   "cell_type": "markdown",
   "id": "090657b6",
   "metadata": {},
   "source": [
    "Questions from from [here](https://www.w3resource.com/python-exercises/numpy/basic/index.php)"
   ]
  },
  {
   "cell_type": "markdown",
   "id": "b35a939c",
   "metadata": {},
   "source": [
    "1. Get NumPy Version & Build Info\n",
    "\n",
    "Write a Numpy program to get the Numpy version and show the Numpy build configuration."
   ]
  },
  {
   "cell_type": "code",
   "execution_count": 4,
   "id": "eb8442ca",
   "metadata": {},
   "outputs": [
    {
     "name": "stdout",
     "output_type": "stream",
     "text": [
      "Your NumPy version is 2.3.1\n",
      "Your Numpy config is:\n",
      "<module 'numpy.__config__' from '/Users/christiancamp/Desktop/Python Practice/practice-env/lib/python3.13/site-packages/numpy/__config__.py'>\n"
     ]
    }
   ],
   "source": [
    "import numpy as np\n",
    "\n",
    "print(f\"Your NumPy version is {np.__version__}\")\n",
    "print(f\"Your Numpy config is:\\n{np.__config__}\")"
   ]
  },
  {
   "cell_type": "markdown",
   "id": "9601554f",
   "metadata": {},
   "source": [
    "Your first attempt was wrong. You needed to use `show_config()` instead:"
   ]
  },
  {
   "cell_type": "code",
   "execution_count": 5,
   "id": "99e1197d",
   "metadata": {},
   "outputs": [
    {
     "name": "stdout",
     "output_type": "stream",
     "text": [
      "{\n",
      "  \"Compilers\": {\n",
      "    \"c\": {\n",
      "      \"name\": \"clang\",\n",
      "      \"linker\": \"ld64\",\n",
      "      \"version\": \"15.0.0\",\n",
      "      \"commands\": \"cc\"\n",
      "    },\n",
      "    \"cython\": {\n",
      "      \"name\": \"cython\",\n",
      "      \"linker\": \"cython\",\n",
      "      \"version\": \"3.1.2\",\n",
      "      \"commands\": \"cython\"\n",
      "    },\n",
      "    \"c++\": {\n",
      "      \"name\": \"clang\",\n",
      "      \"linker\": \"ld64\",\n",
      "      \"version\": \"15.0.0\",\n",
      "      \"commands\": \"c++\"\n",
      "    }\n",
      "  },\n",
      "  \"Machine Information\": {\n",
      "    \"host\": {\n",
      "      \"cpu\": \"aarch64\",\n",
      "      \"family\": \"aarch64\",\n",
      "      \"endian\": \"little\",\n",
      "      \"system\": \"darwin\"\n",
      "    },\n",
      "    \"build\": {\n",
      "      \"cpu\": \"aarch64\",\n",
      "      \"family\": \"aarch64\",\n",
      "      \"endian\": \"little\",\n",
      "      \"system\": \"darwin\"\n",
      "    }\n",
      "  },\n",
      "  \"Build Dependencies\": {\n",
      "    \"blas\": {\n",
      "      \"name\": \"accelerate\",\n",
      "      \"found\": true,\n",
      "      \"version\": \"unknown\",\n",
      "      \"detection method\": \"system\",\n",
      "      \"include directory\": \"unknown\",\n",
      "      \"lib directory\": \"unknown\",\n",
      "      \"openblas configuration\": \"unknown\",\n",
      "      \"pc file directory\": \"unknown\"\n",
      "    },\n",
      "    \"lapack\": {\n",
      "      \"name\": \"accelerate\",\n",
      "      \"found\": true,\n",
      "      \"version\": \"unknown\",\n",
      "      \"detection method\": \"system\",\n",
      "      \"include directory\": \"unknown\",\n",
      "      \"lib directory\": \"unknown\",\n",
      "      \"openblas configuration\": \"unknown\",\n",
      "      \"pc file directory\": \"unknown\"\n",
      "    }\n",
      "  },\n",
      "  \"Python Information\": {\n",
      "    \"path\": \"/private/var/folders/y6/nj790rtn62lfktb1sh__79hc0000gn/T/build-env-oawxqquo/bin/python\",\n",
      "    \"version\": \"3.13\"\n",
      "  },\n",
      "  \"SIMD Extensions\": {\n",
      "    \"baseline\": [\n",
      "      \"NEON\",\n",
      "      \"NEON_FP16\",\n",
      "      \"NEON_VFPV4\",\n",
      "      \"ASIMD\"\n",
      "    ],\n",
      "    \"found\": [\n",
      "      \"ASIMDHP\"\n",
      "    ],\n",
      "    \"not found\": [\n",
      "      \"ASIMDFHM\"\n",
      "    ]\n",
      "  }\n",
      "}\n",
      "None\n"
     ]
    },
    {
     "name": "stderr",
     "output_type": "stream",
     "text": [
      "/Users/christiancamp/Desktop/Python Practice/practice-env/lib/python3.13/site-packages/numpy/__config__.py:155: UserWarning: Install `pyyaml` for better output\n",
      "  warnings.warn(\"Install `pyyaml` for better output\", stacklevel=1)\n"
     ]
    }
   ],
   "source": [
    "import numpy as np\n",
    "\n",
    "print(np.show_config())"
   ]
  },
  {
   "cell_type": "markdown",
   "id": "46cbff0a",
   "metadata": {},
   "source": [
    "2. Help for NumPy Add Function\n",
    "\n",
    "Write a NumPy program to get help with the add function."
   ]
  },
  {
   "cell_type": "code",
   "execution_count": 1,
   "id": "f3fcd436",
   "metadata": {},
   "outputs": [
    {
     "name": "stdout",
     "output_type": "stream",
     "text": [
      "     *** Found in numpy ***\n",
      "add(x1, x2, /, out=None, *, where=True, casting='same_kind', order='K', dtype=None, subok=True[, signature])\n",
      "\n",
      "Add arguments element-wise.\n",
      "\n",
      "Parameters\n",
      "----------\n",
      "x1, x2 : array_like\n",
      "    The arrays to be added.\n",
      "    If ``x1.shape != x2.shape``, they must be broadcastable to a common\n",
      "    shape (which becomes the shape of the output).\n",
      "out : ndarray, None, or tuple of ndarray and None, optional\n",
      "    A location into which the result is stored. If provided, it must have\n",
      "    a shape that the inputs broadcast to. If not provided or None,\n",
      "    a freshly-allocated array is returned. A tuple (possible only as a\n",
      "    keyword argument) must have length equal to the number of outputs.\n",
      "where : array_like, optional\n",
      "    This condition is broadcast over the input. At locations where the\n",
      "    condition is True, the `out` array will be set to the ufunc result.\n",
      "    Elsewhere, the `out` array will retain its original value.\n",
      "    Note that if an uninitialized `out` array is created via the default\n",
      "    ``out=None``, locations within it where the condition is False will\n",
      "    remain uninitialized.\n",
      "**kwargs\n",
      "    For other keyword-only arguments, see the\n",
      "    :ref:`ufunc docs <ufuncs.kwargs>`.\n",
      "\n",
      "Returns\n",
      "-------\n",
      "add : ndarray or scalar\n",
      "    The sum of `x1` and `x2`, element-wise.\n",
      "    This is a scalar if both `x1` and `x2` are scalars.\n",
      "\n",
      "Notes\n",
      "-----\n",
      "Equivalent to `x1` + `x2` in terms of array broadcasting.\n",
      "\n",
      "Examples\n",
      "--------\n",
      ">>> import numpy as np\n",
      ">>> np.add(1.0, 4.0)\n",
      "5.0\n",
      ">>> x1 = np.arange(9.0).reshape((3, 3))\n",
      ">>> x2 = np.arange(3.0)\n",
      ">>> np.add(x1, x2)\n",
      "array([[  0.,   2.,   4.],\n",
      "       [  3.,   5.,   7.],\n",
      "       [  6.,   8.,  10.]])\n",
      "\n",
      "The ``+`` operator can be used as a shorthand for ``np.add`` on ndarrays.\n",
      "\n",
      ">>> x1 = np.arange(9.0).reshape((3, 3))\n",
      ">>> x2 = np.arange(3.0)\n",
      ">>> x1 + x2\n",
      "array([[ 0.,  2.,  4.],\n",
      "       [ 3.,  5.,  7.],\n",
      "       [ 6.,  8., 10.]])\n",
      "----------------------------------------------------------------------------\n",
      "\n",
      "     *** Repeat reference found in numpy._core *** \n",
      "\n",
      "     *** Repeat reference found in numpy._core._multiarray_umath *** \n",
      "\n",
      "     *** Repeat reference found in numpy._core.multiarray *** \n",
      "\n",
      "     *** Repeat reference found in numpy._core.umath *** \n",
      "\n",
      "     *** Repeat reference found in numpy._core.numeric *** \n",
      "\n",
      "     *** Repeat reference found in numpy.linalg._linalg *** \n",
      "\n",
      "     *** Repeat reference found in numpy.lib._function_base_impl *** \n",
      "     *** Found in operator ***\n",
      "Same as a + b.\n",
      "----------------------------------------------------------------------------\n",
      "\n",
      "     *** Total of 9 references found. ***\n"
     ]
    }
   ],
   "source": [
    "import numpy as np\n",
    "\n",
    "np.info(\"add\")"
   ]
  },
  {
   "cell_type": "markdown",
   "id": "c1c62eb5",
   "metadata": {},
   "source": [
    "Given solution:"
   ]
  },
  {
   "cell_type": "code",
   "execution_count": 2,
   "id": "db889b8a",
   "metadata": {},
   "outputs": [
    {
     "name": "stdout",
     "output_type": "stream",
     "text": [
      "add(x1, x2, /, out=None, *, where=True, casting='same_kind', order='K', dtype=None, subok=True[, signature])\n",
      "\n",
      "Add arguments element-wise.\n",
      "\n",
      "Parameters\n",
      "----------\n",
      "x1, x2 : array_like\n",
      "    The arrays to be added.\n",
      "    If ``x1.shape != x2.shape``, they must be broadcastable to a common\n",
      "    shape (which becomes the shape of the output).\n",
      "out : ndarray, None, or tuple of ndarray and None, optional\n",
      "    A location into which the result is stored. If provided, it must have\n",
      "    a shape that the inputs broadcast to. If not provided or None,\n",
      "    a freshly-allocated array is returned. A tuple (possible only as a\n",
      "    keyword argument) must have length equal to the number of outputs.\n",
      "where : array_like, optional\n",
      "    This condition is broadcast over the input. At locations where the\n",
      "    condition is True, the `out` array will be set to the ufunc result.\n",
      "    Elsewhere, the `out` array will retain its original value.\n",
      "    Note that if an uninitialized `out` array is created via the default\n",
      "    ``out=None``, locations within it where the condition is False will\n",
      "    remain uninitialized.\n",
      "**kwargs\n",
      "    For other keyword-only arguments, see the\n",
      "    :ref:`ufunc docs <ufuncs.kwargs>`.\n",
      "\n",
      "Returns\n",
      "-------\n",
      "add : ndarray or scalar\n",
      "    The sum of `x1` and `x2`, element-wise.\n",
      "    This is a scalar if both `x1` and `x2` are scalars.\n",
      "\n",
      "Notes\n",
      "-----\n",
      "Equivalent to `x1` + `x2` in terms of array broadcasting.\n",
      "\n",
      "Examples\n",
      "--------\n",
      ">>> import numpy as np\n",
      ">>> np.add(1.0, 4.0)\n",
      "5.0\n",
      ">>> x1 = np.arange(9.0).reshape((3, 3))\n",
      ">>> x2 = np.arange(3.0)\n",
      ">>> np.add(x1, x2)\n",
      "array([[  0.,   2.,   4.],\n",
      "       [  3.,   5.,   7.],\n",
      "       [  6.,   8.,  10.]])\n",
      "\n",
      "The ``+`` operator can be used as a shorthand for ``np.add`` on ndarrays.\n",
      "\n",
      ">>> x1 = np.arange(9.0).reshape((3, 3))\n",
      ">>> x2 = np.arange(3.0)\n",
      ">>> x1 + x2\n",
      "array([[ 0.,  2.,  4.],\n",
      "       [ 3.,  5.,  7.],\n",
      "       [ 6.,  8., 10.]])\n",
      "None\n"
     ]
    }
   ],
   "source": [
    "import numpy as np\n",
    "\n",
    "print(np.info(np.add))"
   ]
  },
  {
   "cell_type": "markdown",
   "id": "e3797c62",
   "metadata": {},
   "source": [
    "3. Test None are Zero\n",
    "\n",
    "Write a NumPy program to test whether none of the elements of a given array are zero. "
   ]
  },
  {
   "cell_type": "code",
   "execution_count": 33,
   "id": "67f331d8",
   "metadata": {},
   "outputs": [
    {
     "name": "stdout",
     "output_type": "stream",
     "text": [
      "[9 7 3 6 1 3 6 2 2 8]\n",
      "No elements of 0 found\n"
     ]
    }
   ],
   "source": [
    "from numpy import random\n",
    "import numpy as np\n",
    "\n",
    "arr = random.randint(10, size=(10))\n",
    "\n",
    "print(arr)\n",
    "\n",
    "if False in arr:\n",
    "    print(\"Elements of 0 found\")\n",
    "else:\n",
    "    print(\"No elements of 0 found\")\n",
    "\n"
   ]
  },
  {
   "cell_type": "markdown",
   "id": "f0511a6e",
   "metadata": {},
   "source": [
    "Given solution:"
   ]
  },
  {
   "cell_type": "code",
   "execution_count": 21,
   "id": "641ef961",
   "metadata": {},
   "outputs": [
    {
     "name": "stdout",
     "output_type": "stream",
     "text": [
      "Original array:\n",
      "[1 2 3 4]\n",
      "Test if none of the elements of the said array is zero:\n",
      "True\n",
      "Original array:\n",
      "[0 1 2 3]\n",
      "Test if none of the elements of the said array is zero:\n",
      "False\n"
     ]
    }
   ],
   "source": [
    "# Importing the NumPy library with an alias 'np'\n",
    "import numpy as np\n",
    "\n",
    "# Creating a NumPy array 'x' containing elements 1, 2, 3, and 4\n",
    "x = np.array([1, 2, 3, 4])\n",
    "\n",
    "# Printing the original array 'x'\n",
    "print(\"Original array:\")\n",
    "print(x)\n",
    "\n",
    "# Checking if none of the elements in the array 'x' is zero and printing the result\n",
    "print(\"Test if none of the elements of the said array is zero:\")\n",
    "print(np.all(x))\n",
    "\n",
    "# Reassigning array 'x' to a new array containing elements 0, 1, 2, and 3\n",
    "x = np.array([0, 1, 2, 3])\n",
    "\n",
    "# Printing the new array 'x'\n",
    "print(\"Original array:\")\n",
    "print(x)\n",
    "\n",
    "# Checking if none of the elements in the updated array 'x' is zero and printing the result\n",
    "print(\"Test if none of the elements of the said array is zero:\")\n",
    "print(np.all(x))"
   ]
  },
  {
   "cell_type": "markdown",
   "id": "154c21f9",
   "metadata": {},
   "source": [
    "# Why This Solution Works\n",
    "\n",
    "The comments on the solution are a bit misleading to me. The \"testing for zero\" part is taking advantage of how `0` equates to `False` when faced with boolean logic. The given solution is definitely more all-encompassing.\n",
    "\n",
    "# The np.all() Function\n",
    "\n",
    "The np.all function can be used to find conditions in an entire dataset. Here's another example:"
   ]
  },
  {
   "cell_type": "code",
   "execution_count": 25,
   "id": "33c1adcd",
   "metadata": {},
   "outputs": [
    {
     "ename": "NameError",
     "evalue": "name 'data' is not defined",
     "output_type": "error",
     "traceback": [
      "\u001b[31m---------------------------------------------------------------------------\u001b[39m",
      "\u001b[31mNameError\u001b[39m                                 Traceback (most recent call last)",
      "\u001b[36mCell\u001b[39m\u001b[36m \u001b[39m\u001b[32mIn[25]\u001b[39m\u001b[32m, line 2\u001b[39m\n\u001b[32m      1\u001b[39m \u001b[38;5;66;03m# Are all values positive?\u001b[39;00m\n\u001b[32m----> \u001b[39m\u001b[32m2\u001b[39m np.all(\u001b[43mdata\u001b[49m > \u001b[32m0\u001b[39m)\n\u001b[32m      4\u001b[39m \u001b[38;5;66;03m# Are all predictions within valid range?\u001b[39;00m\n\u001b[32m      5\u001b[39m np.all((predictions >= \u001b[32m0\u001b[39m) & (predictions <= \u001b[32m1\u001b[39m))\n",
      "\u001b[31mNameError\u001b[39m: name 'data' is not defined"
     ]
    }
   ],
   "source": [
    "# Are all values positive?\n",
    "np.all(data > 0)\n",
    "\n",
    "# Are all predictions within valid range?\n",
    "np.all((predictions >= 0) & (predictions <= 1))\n",
    "\n",
    "# Do all rows have the expected number of elements?\n",
    "np.all(np.sum(mask, axis=1) == expected_count)"
   ]
  },
  {
   "cell_type": "markdown",
   "id": "16080aeb",
   "metadata": {},
   "source": [
    "4. Test Any Non-Zero\n",
    "\n",
    "Write a NumPy program to test if any of the elements of a given array are non-zero."
   ]
  },
  {
   "cell_type": "code",
   "execution_count": 47,
   "id": "cf9f86ee",
   "metadata": {},
   "outputs": [
    {
     "name": "stdout",
     "output_type": "stream",
     "text": [
      "[8 8 0 1 3 9 4 5 1 4]\n",
      "Test to see if none of the elements in the array are 0\n",
      "False\n"
     ]
    }
   ],
   "source": [
    "from numpy import random\n",
    "import numpy as np\n",
    "\n",
    "data = random.randint(10, size=(10))\n",
    "print(data)\n",
    "\n",
    "print(\"Test to see if none of the elements in the array are 0\")\n",
    "print(np.all(data))\n"
   ]
  },
  {
   "cell_type": "markdown",
   "id": "2dea7bd1",
   "metadata": {},
   "source": [
    "5. Test Finiteness of Elements\n",
    "\n",
    "Write a NumPy program to test a given array element-wise for finiteness (not infinity or not a number)."
   ]
  },
  {
   "cell_type": "code",
   "execution_count": 48,
   "id": "ef8622df",
   "metadata": {},
   "outputs": [
    {
     "name": "stdout",
     "output_type": "stream",
     "text": [
      "Original array\n",
      "[ 1.  0. nan inf]\n",
      "Test a given array element-wise for finiteness :\n",
      "[ True  True False False]\n"
     ]
    }
   ],
   "source": [
    "import numpy as np\n",
    "\n",
    "# Creating a NumPy array 'a' containing elements 1, 0, NaN (Not a Number), and infinity\n",
    "a = np.array([1, 0, np.nan, np.inf])\n",
    "\n",
    "# Printing the original array 'a'\n",
    "print(\"Original array\")\n",
    "print(a)\n",
    "\n",
    "# Checking the given array 'a' element-wise for finiteness and printing the result\n",
    "print(\"Test a given array element-wise for finiteness :\")\n",
    "print(np.isfinite(a)) "
   ]
  },
  {
   "cell_type": "markdown",
   "id": "ee8c9726",
   "metadata": {},
   "source": [
    "Yea that one wasn't necessary to figure out honestly."
   ]
  },
  {
   "cell_type": "markdown",
   "id": "bf54c4cb",
   "metadata": {},
   "source": [
    "7. Test for NaN\n",
    "\n",
    "Write a NumPy program to test element-wise for NaN of a given array."
   ]
  },
  {
   "cell_type": "code",
   "execution_count": null,
   "id": "99686bc8",
   "metadata": {},
   "outputs": [
    {
     "name": "stdout",
     "output_type": "stream",
     "text": [
      "[ True  True False False  True False False False False False]\n",
      "[False False False False False False False False False False]\n"
     ]
    }
   ],
   "source": [
    "import numpy as np\n",
    "\n",
    "# creating dataset - need to specify size to get an array\n",
    "nan_data = np.random.randint(0, 10, size=10).astype(float)  # Creates array of 20 random integers between 0-9\n",
    "no_nan_data = np.random.randint(0, 10, size=10).astype(float)\n",
    "# choosing random indexes to put NaN (should be indices, not values from data)\n",
    "index_nan = np.random.choice(len(data), 3, replace=False)\n",
    "# adding nan to the data  # Convert to float first, since integers can't hold NaN\n",
    "nan_data[index_nan] = np.nan \n",
    "\n",
    "print(np.isnan(nan_data))\n",
    "print(np.isnan(no_nan_data))\n",
    "\n"
   ]
  },
  {
   "cell_type": "markdown",
   "id": "3035c69f",
   "metadata": {},
   "source": [
    "8. Test for Complex/Real/Scalar\n",
    "\n",
    "Write a NumPy program to test element-wise for complex numbers, real numbers in a given array. Also test if a given number is of a scalar type or not. "
   ]
  },
  {
   "cell_type": "code",
   "execution_count": 30,
   "id": "2ad2f933",
   "metadata": {},
   "outputs": [
    {
     "name": "stdout",
     "output_type": "stream",
     "text": [
      "Original array\n",
      "[1. +1.j 1. +0.j 4.5+0.j 3. +0.j 2. +0.j 0. +2.j]\n",
      "Checking for complex number:\n",
      "[ True False False False False  True]\n",
      "Checking for real number:\n",
      "[False  True  True  True  True False]\n",
      "Checking for scalar type:\n",
      "True\n",
      "False\n"
     ]
    }
   ],
   "source": [
    "# Importing the NumPy library with an alias 'np'\n",
    "import numpy as np\n",
    "\n",
    "# Creating a NumPy array 'a' containing various types of numbers (complex, real, scalar)\n",
    "a = np.array([1+1j, 1+0j, 4.5, 3, 2, 2j])\n",
    "\n",
    "# Printing the original array 'a'\n",
    "print(\"Original array\")\n",
    "print(a)\n",
    "\n",
    "# Checking the given array 'a' element-wise for complex numbers and printing the result\n",
    "print(\"Checking for complex number:\")\n",
    "print(np.iscomplex(a))\n",
    "\n",
    "# Checking the given array 'a' element-wise for real numbers and printing the result\n",
    "print(\"Checking for real number:\")\n",
    "print(np.isreal(a))\n",
    "\n",
    "# Checking if a value is a scalar or not (in this case, checking if 3.1 is a scalar)\n",
    "print(\"Checking for scalar type:\")\n",
    "print(np.isscalar(3.1))\n",
    "\n",
    "# Checking if a list ([3.1]) is a scalar or not (in this case, it's not a scalar)\n",
    "print(np.isscalar([3.1])) "
   ]
  },
  {
   "cell_type": "markdown",
   "id": "fd44f950",
   "metadata": {},
   "source": [
    "9. Test Element-Wise Tolerance Equality\n",
    "\n",
    "Write a NumPy program to test whether two arrays are element-wise equal within a tolerance.\n",
    "\n",
    "I didn't even fully understand what they're asking for here so here's the answer with an extensive explanation:"
   ]
  },
  {
   "cell_type": "code",
   "execution_count": 31,
   "id": "a802af8d",
   "metadata": {},
   "outputs": [
    {
     "name": "stdout",
     "output_type": "stream",
     "text": [
      "Test if two arrays are element-wise equal within a tolerance:\n",
      "False\n",
      "True\n",
      "False\n",
      "False\n",
      "True\n"
     ]
    }
   ],
   "source": [
    "# Importing the NumPy library with an alias 'np'\n",
    "import numpy as np\n",
    "\n",
    "# Printing the description of the operation being performed\n",
    "print(\"Test if two arrays are element-wise equal within a tolerance:\")\n",
    "\n",
    "# Checking if the two arrays are element-wise equal within a tolerance and printing the result\n",
    "print(np.allclose([1e10,1e-7], [1.00001e10,1e-8]))\n",
    "print(np.allclose([1e10,1e-8], [1.00001e10,1e-9]))\n",
    "print(np.allclose([1e10,1e-8], [1.0001e10,1e-9]))\n",
    "\n",
    "# Checking if the arrays with NaN (Not a Number) values are equal while treating NaN as equal\n",
    "print(np.allclose([1.0, np.nan], [1.0, np.nan]))\n",
    "\n",
    "# Checking if the arrays with NaN (Not a Number) values are equal considering NaN values as equal\n",
    "print(np.allclose([1.0, np.nan], [1.0, np.nan], equal_nan=True)) "
   ]
  },
  {
   "cell_type": "markdown",
   "id": "cd94dcf7",
   "metadata": {},
   "source": [
    "# np.allclose()\n",
    "\n",
    "Returns True if two arrays are element-wise equal within a tolerance.\n",
    "\n",
    "The tolerance values are positive, typically very small numbers. The relative difference and the absolute difference are added together to compare against the absolute difference between *a* and *b*.\n",
    "\n",
    "NaNs are treated as equal if they are in the same place and if `equan_nan=TRUE`. Infs are treated as equal if they are in the same place and of the same sign in both arrays."
   ]
  },
  {
   "cell_type": "markdown",
   "id": "25cd8528",
   "metadata": {},
   "source": [
    "Explanation:\n",
    "\n",
    "In the above exercise -\n",
    "\n",
    "## print(np.allclose([1e10,1e-7], [1.00001e10,1e-8]))\n",
    "\n",
    "Here the np.allclose() function tests the two arrays `[1e10, 1e-7]` and `[1.00001e10, 1e-8]` are element-wise equal within the default tolerance (relative tolerance `rtol=1e-9`, absolute tolerance `atol=1e-12`). In this case, the two arrays are not considered equal within the given tolerance, so the function returns `False`. \n",
    "\n",
    "## print(np.allclose([1e10,1e-8], [1.00001e10,1e-9]))\n",
    "\n",
    "Heres the `np.allclose()` function tests if the two arrays `[1e10, 1e-8]` and `[1.00001e10, 1e-9]` are element-wise equal within the default tolerance. In this case, the two arrays are considered equal within the given tolerance.\n",
    "\n",
    "## print(np.allclose([1e10,1e-8], [1.0001e10,1e-9])) \n",
    "\n",
    "Here `np.allclose()` function tests if the two arrays `[1e10, 1e-8]` and `[1.0001e10, 1e-9]` are element-wise equal within the default tolerance. In this case, the two arrays are not considered equal within the given tolerance, so the function returns False.\n",
    "\n",
    "## print(np.allclose([1.0, np.nan], [1.0, np.nan]))\n",
    "\n",
    "Here `np.allclose()` function tests if the two arrays `[1.0, np.nan]` and `[1.0, np.nan]` are element-wise equal within the default tolerance. By default, the function treats NaN values as unequal, so it returns False.\n",
    "\n",
    "## print(np.allclose([1.0, np.nan], [1.0, np.nan], equal_nan=True))\n",
    "\n",
    "Here the `np.allclose()` function tests if the two arrays `[1.0, np.nan]` and `[1.0, np.nan]` are element-wise equal within the default tolerance. However, this time the `equal_nan=True` parameter is passed, which tells the function to treat NaN values as equal. In this case, the two arrays are considered equal within the given tolerance, so the function returns `True`."
   ]
  },
  {
   "cell_type": "markdown",
   "id": "7d0724fb",
   "metadata": {},
   "source": [
    "10. Element-Wise Comparison (Greater/Less)\n",
    "\n",
    "Write a NumPy program to create an element-wise comparison (greater, greater_equal, less and less_equal) of two given arrays.\n",
    "\n"
   ]
  },
  {
   "cell_type": "code",
   "execution_count": 32,
   "id": "d82a3ba9",
   "metadata": {},
   "outputs": [
    {
     "name": "stdout",
     "output_type": "stream",
     "text": [
      "[ True  True  True  True  True  True  True  True  True False]\n",
      "[ True  True  True  True  True  True  True  True  True  True]\n"
     ]
    }
   ],
   "source": [
    "import numpy as np\n",
    "\n",
    "# Creating NumPy arrays 'x' and 'y' containing numbers for comparison\n",
    "x = np.array([72, 79, 85, 90, 150, -135, 120, -10, 60, 100])\n",
    "y = np.array([72, 79, 85, 90, 150, -135, 120, -10, 60, 100.000001])\n",
    "\n",
    "print(np.greater_equal(x, y))\n",
    "print(np.less_equal(x, y))"
   ]
  },
  {
   "cell_type": "markdown",
   "id": "d7d272b9",
   "metadata": {},
   "source": [
    "11. Element-Wise Comparison (Equal/Tolerance)\n",
    "\n",
    "Write a NumPy program to create an element-wise comparison (equal, equal within a tolerance) of two given arrays."
   ]
  },
  {
   "cell_type": "code",
   "execution_count": 40,
   "id": "82f8422a",
   "metadata": {},
   "outputs": [
    {
     "name": "stdout",
     "output_type": "stream",
     "text": [
      "Original Numbers:\n",
      "[  72   79   85   90  150 -135  120  -10   60  100]\n",
      "[  72.         79.         85.         90.        150.       -135.\n",
      "  120.        -10.         60.        100.000001]\n",
      "\n",
      "Equal comparison:\n",
      "[ True  True  True  True  True  True  True  True  True False]\n",
      "\n",
      "Equal Tolerance comparison:\n",
      "True\n"
     ]
    }
   ],
   "source": [
    "import numpy as np\n",
    "\n",
    "# Creating NumPy arrays 'x' and 'y' containing numbers for comparison\n",
    "x = np.array([72, 79, 85, 90, 150, -135, 120, -10, 60, 100])\n",
    "y = np.array([72, 79, 85, 90, 150, -135, 120, -10, 60, 100.000001])\n",
    "\n",
    "print(\"Original Numbers:\")\n",
    "print(x)\n",
    "print(y)\n",
    "\n",
    "print(f\"\\nEqual comparison:\\n{np.equal(x, y)}\\n\")\n",
    "print(f\"Equal Tolerance comparison:\\n{np.allclose(x, y)}\")\n",
    "\n"
   ]
  },
  {
   "cell_type": "markdown",
   "id": "16ca08bb",
   "metadata": {},
   "source": [
    "**Explanation**:\n",
    "\n",
    "At first we declare two arrays: \n",
    "\n",
    "`x = np.array([72, 79, 85, 90, 150, -135, 120, -10, 60, 100])` and\n",
    "\n",
    "`y = np.array([72, 79, 85, 90, 150, -135, 120, -10, 60, 100.000001])`.\n",
    "\n",
    "`print(np.equal(x, y))`: Here, the np.equal() function compares the elements of 'x' and 'y' element-by-element and checks whether they are equal.The function returns a boolean array [True, True, True, True, True, True, True, True, True, False], which is printed to the console. The last element is False because 100 is not exactly equal to 100.000001.\n",
    "\n",
    "print(np.allclose(x, y)): This line uses the np.allclose() function to check if the two arrays are element-wise equal within a given tolerance (default relative tolerance rtol=1e-9, absolute tolerance atol=1e-12). In this case, the difference between the last elements (100 and 100.000001) is within the default tolerance, so the function returns True."
   ]
  },
  {
   "cell_type": "markdown",
   "id": "afc36d86",
   "metadata": {},
   "source": [
    "12. Array Memory Size\n",
    "\n",
    "Write a NumPy program to create an array with the values 1, 7, 13, 105 and determine the size of the memory occupied by the array."
   ]
  },
  {
   "cell_type": "code",
   "execution_count": 59,
   "id": "56884a8f",
   "metadata": {},
   "outputs": [
    {
     "name": "stdout",
     "output_type": "stream",
     "text": [
      "Array: [  1   7  13 105]\n",
      "Number of elements: 4\n",
      "Item size of one array element: 8 byte(s)\n",
      "Memory size of array: 32 byte(s)\n"
     ]
    }
   ],
   "source": [
    "import numpy as np\n",
    "\n",
    "arr1 = np.array([1, 7, 13, 105])\n",
    "print(f\"Array: {arr1}\")\n",
    "print(f\"Number of elements: {arr1.size}\")\n",
    "print(f\"Item size of one array element: {arr1.itemsize} byte(s)\")\n",
    "print(f\"Memory size of array: {arr1.size * arr1.itemsize} byte(s)\")"
   ]
  },
  {
   "cell_type": "markdown",
   "id": "e42d332c",
   "metadata": {},
   "source": [
    "- `size`: This attribute gives the number of elements present in the NumPy array.\n",
    "- `itemsize`: This attribute gives the memory size of one element of NumPy array in bytes."
   ]
  },
  {
   "cell_type": "markdown",
   "id": "d96a840b",
   "metadata": {},
   "source": [
    "13. Create Array of Zeros, Ones, Fives\n",
    "\n",
    "Write a NumPy program to create an array of 10 zeros, 10 ones, and 10 fives"
   ]
  },
  {
   "cell_type": "code",
   "execution_count": 62,
   "id": "6aa1d5ed",
   "metadata": {},
   "outputs": [
    {
     "name": "stdout",
     "output_type": "stream",
     "text": [
      "An array of 10 zeros:\n",
      "[0. 0. 0. 0. 0. 0. 0. 0. 0. 0.]\n",
      "\n",
      "An array of 10 ones:\n",
      "[1. 1. 1. 1. 1. 1. 1. 1. 1. 1.]\n",
      "An array of 10 fives:\n",
      "[5. 5. 5. 5. 5. 5. 5. 5. 5. 5.]\n"
     ]
    }
   ],
   "source": [
    "import numpy as np\n",
    "\n",
    "array_zeros = np.zeros(10)\n",
    "print(f\"An array of 10 zeros:\\n{array_zeros}\\n\")\n",
    "\n",
    "array_ones = np.ones(10)\n",
    "print(f\"An array of 10 ones:\\n{array_ones}\")\n",
    "\n",
    "array_fives = np.ones(10)*5\n",
    "print(f\"An array of 10 fives:\\n{array_fives}\")"
   ]
  },
  {
   "cell_type": "markdown",
   "id": "0c85d537",
   "metadata": {},
   "source": [
    "14. Create Array of Integers 30 to 70\n",
    "\n",
    "Write a NumPy program to create an array of integers from 30 to 70."
   ]
  },
  {
   "cell_type": "code",
   "execution_count": 64,
   "id": "6d5656bb",
   "metadata": {},
   "outputs": [
    {
     "name": "stdout",
     "output_type": "stream",
     "text": [
      "[30 31 32 33 34 35 36 37 38 39 40 41 42 43 44 45 46 47 48 49 50 51 52 53\n",
      " 54 55 56 57 58 59 60 61 62 63 64 65 66 67 68 69 70]\n"
     ]
    }
   ],
   "source": [
    "import numpy as np\n",
    "\n",
    "array_30_to_70 = np.arange(30, 71)\n",
    "print(array_30_to_70)"
   ]
  },
  {
   "cell_type": "markdown",
   "id": "e3a41472",
   "metadata": {},
   "source": [
    "15. Create Array of Even Integers 30 to 70\n",
    "\n",
    "Write a NumPy program to create an array of all even integers from 30 to 70."
   ]
  },
  {
   "cell_type": "code",
   "execution_count": 67,
   "id": "124616d6",
   "metadata": {},
   "outputs": [
    {
     "name": "stdout",
     "output_type": "stream",
     "text": [
      "[30 32 34 36 38 40 42 44 46 48 50 52 54 56 58 60 62 64 66 68 70]\n"
     ]
    }
   ],
   "source": [
    "import numpy as np\n",
    "\n",
    "array_even_30_to_70 = np.arange(30, 71, 2)\n",
    "print(array_even_30_to_70)"
   ]
  },
  {
   "cell_type": "markdown",
   "id": "5121af7e",
   "metadata": {},
   "source": [
    "16. Create 3x3 Identity Matrix\n",
    "\n",
    "Write a NumPy program to create a 3x3 identity matrix.\n",
    "\n",
    "# numpy.identity() in Python\n",
    "\n",
    "The `numpy.identity()` function is used to create an identity matrix. This is commonly used in linear algebra and numerical computations. It has the following properties:\n",
    "\n",
    "- Diagonal elements are all 1s.\n",
    "- Non-diagonal elements are all 0s.\n",
    "\n",
    "**Syntax:** `numpy.identity(n, dtype=None)`\n",
    "\n",
    "Where:\n",
    "\n",
    "- `n`: Takes int value and is dimension n x n of output array.\n",
    "- `dtype`: Returns the data type of the returned array. It's optional and by default is float."
   ]
  },
  {
   "cell_type": "code",
   "execution_count": 68,
   "id": "2804a55f",
   "metadata": {},
   "outputs": [
    {
     "name": "stdout",
     "output_type": "stream",
     "text": [
      "[[1. 0. 0.]\n",
      " [0. 1. 0.]\n",
      " [0. 0. 1.]]\n"
     ]
    }
   ],
   "source": [
    "import numpy as np\n",
    "from numpy import identity\n",
    "\n",
    "identity_array = np.identity(3)\n",
    "print(identity_array)"
   ]
  },
  {
   "cell_type": "markdown",
   "id": "5ec132f9",
   "metadata": {},
   "source": [
    "17. Generate Random Number [0,1]\n",
    "\n",
    "Write a NumPy program to generate a random number between 0 and 1."
   ]
  },
  {
   "cell_type": "code",
   "execution_count": null,
   "id": "21c3d466",
   "metadata": {},
   "outputs": [
    {
     "name": "stdout",
     "output_type": "stream",
     "text": [
      "[0.53401915]\n"
     ]
    }
   ],
   "source": [
    "import numpy as np\n",
    "from numpy import random\n",
    "\n",
    "random_array = np.random.normal(0,1,1)\n",
    "print(random_array)"
   ]
  },
  {
   "cell_type": "markdown",
   "id": "38c599a6",
   "metadata": {},
   "source": [
    "18. Generate Random Array from Standard Normal\n",
    "\n",
    "Write a NumPy program to generate an array of 15 random numbers from a standard normal distribution."
   ]
  },
  {
   "cell_type": "code",
   "execution_count": 79,
   "id": "4d7c3177",
   "metadata": {},
   "outputs": [
    {
     "name": "stdout",
     "output_type": "stream",
     "text": [
      "[-0.76492872 -0.47857457 -0.58697716 -1.3539459  -0.83867854 -0.8673487\n",
      " -0.15508248  3.3766366   0.49104763  0.72232614  0.41616067 -1.17895944\n",
      "  1.79701514 -1.19796141  0.51003905]\n"
     ]
    }
   ],
   "source": [
    "import numpy as np\n",
    "from numpy import random\n",
    "\n",
    "random_arr = np.random.normal(0,1,15)\n",
    "print(random_arr)"
   ]
  },
  {
   "cell_type": "markdown",
   "id": "40841d71",
   "metadata": {},
   "source": [
    "19. Vector 15-55 Without First/Last Values\n",
    "\n",
    "Write a NumPy program to create a vector with values ranging from 15 to 55 and print all values except the first and last."
   ]
  },
  {
   "cell_type": "code",
   "execution_count": 88,
   "id": "aa53c516",
   "metadata": {},
   "outputs": [
    {
     "name": "stdout",
     "output_type": "stream",
     "text": [
      "Original Vector:\n",
      "[15 16 17 18 19 20 21 22 23 24 25 26 27 28 29 30 31 32 33 34 35 36 37 38\n",
      " 39 40 41 42 43 44 45 46 47 48 49 50 51 52 53 54]\n",
      "\n",
      "New Vector:\n",
      "[16 17 18 19 20 21 22 23 24 25 26 27 28 29 30 31 32 33 34 35 36 37 38 39\n",
      " 40 41 42 43 44 45 46 47 48 49 50 51 52 53]\n"
     ]
    }
   ],
   "source": [
    "from numpy import arange\n",
    "\n",
    "v = arange(15, 55)\n",
    "print(f\"Original Vector:\\n{v}\\n\")\n",
    "print(f\"New Vector:\\n{v[1:-1]}\")\n"
   ]
  },
  {
   "cell_type": "markdown",
   "id": "d7cbeb9c",
   "metadata": {},
   "source": [
    "20. Create and Iterate 3x4 Array\n",
    "\n",
    "Write a NumPy program to create a 3X4 array and iterate over it."
   ]
  },
  {
   "cell_type": "code",
   "execution_count": 101,
   "id": "6af53bed",
   "metadata": {},
   "outputs": [
    {
     "name": "stdout",
     "output_type": "stream",
     "text": [
      "Original Array:\n",
      "[[10 11 12 13]\n",
      " [14 15 16 17]\n",
      " [18 19 20 21]]\n",
      "\n",
      "Each element of the array is:\n",
      "\n",
      "10 11 12 13 14 15 16 17 18 19 20 21 "
     ]
    }
   ],
   "source": [
    "import numpy as np\n",
    "\n",
    "arr = np.arange(10, 22).reshape((3,4))\n",
    "print(f\"Original Array:\\n{arr}\\n\")\n",
    "\n",
    "print(\"Each element of the array is:\\n\")\n",
    "for x in np.nditer(arr):\n",
    "    print(x, end=\" \")"
   ]
  },
  {
   "cell_type": "markdown",
   "id": "bb542fc4",
   "metadata": {},
   "source": [
    "21. Create Vector of Evenly Spaced Values\n",
    "\n",
    "Write a NumPy program to create a vector of length 10 with values evenly distributed between 5 and 50."
   ]
  },
  {
   "cell_type": "code",
   "execution_count": 109,
   "id": "e2cbd636",
   "metadata": {},
   "outputs": [
    {
     "name": "stdout",
     "output_type": "stream",
     "text": [
      "Length 10 with values evenly distributed between 5 and 50:\n",
      "[10.   19.75 29.5  39.25 49.  ]\n"
     ]
    }
   ],
   "source": [
    "# Importing the NumPy library with an alias 'np'\n",
    "import numpy as np\n",
    "\n",
    "# Creating an array 'v' with length 5, evenly distributed values between 10 and 49 using np.linspace()\n",
    "v = np.linspace(10, 49, 5)\n",
    "\n",
    "# Printing a message indicating an array of length 5 with values evenly distributed between 10 and 49\n",
    "print(\"Length 10 with values evenly distributed between 5 and 50:\")\n",
    "\n",
    "# Printing the array 'v'\n",
    "print(v)"
   ]
  },
  {
   "cell_type": "markdown",
   "id": "8c2741f9",
   "metadata": {},
   "source": [
    "22. Change Sign of Range 9-15\n",
    "\n",
    "Write a NumPy program to create a vector with values from 0 to 20 and change the sign of the numbers in the range from 9 to 15."
   ]
  },
  {
   "cell_type": "code",
   "execution_count": null,
   "id": "55e45b38",
   "metadata": {},
   "outputs": [
    {
     "name": "stdout",
     "output_type": "stream",
     "text": [
      "Original Vector: [ 0  1  2  3  4  5  6  7  8  9 10 11 12 13 14 15 16 17 18 19 20]\n",
      "\n",
      "New Vector: [  0   1   2   3   4   5   6   7   8  -9 -10 -11 -12 -13 -14 -15  16  17\n",
      "  18  19  20]\n",
      "\n"
     ]
    }
   ],
   "source": [
    "import numpy as np\n",
    "\n",
    "# My way\n",
    "x = np.arange(21)\n",
    "print(f\"Original Vector: {x}\\n\")\n",
    "\n",
    "x[9:16] = x[9:16] * -1\n",
    "\n",
    "print(f\"New Vector: {x}\\n\")"
   ]
  },
  {
   "cell_type": "code",
   "execution_count": 133,
   "id": "ceaad5a5",
   "metadata": {},
   "outputs": [
    {
     "name": "stdout",
     "output_type": "stream",
     "text": [
      "Original Array: [ 0  1  2  3  4  5  6  7  8  9 10 11 12 13 14 15 16 17 18 19 20]\n",
      "\n",
      "New Array: [  0   1   2   3   4   5   6   7   8  -9 -10 -11 -12 -13 -14 -15  16  17\n",
      "  18  19  20]\n"
     ]
    }
   ],
   "source": [
    "import numpy as np\n",
    "\n",
    "# Their way\n",
    "x = np.arange(21)\n",
    "print(f\"Original Array: {x}\\n\")\n",
    "x[(x >= 9) & (x <= 15)] *= -1\n",
    "print(f\"New Array: {x}\")\n"
   ]
  },
  {
   "cell_type": "markdown",
   "id": "e2c2b9db",
   "metadata": {},
   "source": [
    "23. Vector of Random Integers [0,10]\n",
    "\n",
    "Write a NumPy program to create a vector of length 5 filled with arbitrary integers from 0 to 10."
   ]
  },
  {
   "cell_type": "code",
   "execution_count": 145,
   "id": "d4d651c5",
   "metadata": {},
   "outputs": [
    {
     "name": "stdout",
     "output_type": "stream",
     "text": [
      "Vector: [8 4 7 3 3]\n"
     ]
    }
   ],
   "source": [
    "import numpy as np\n",
    "\n",
    "x = np.random.randint(0, 11, size=5)\n",
    "print(f\"Vector: {x}\")"
   ]
  },
  {
   "cell_type": "markdown",
   "id": "03b40f87",
   "metadata": {},
   "source": [
    "24. Multiply Two Vectors\n",
    "\n",
    "Write a NumPy program to multiply the values of two given vectors."
   ]
  },
  {
   "cell_type": "code",
   "execution_count": 148,
   "id": "95378de6",
   "metadata": {},
   "outputs": [
    {
     "name": "stdout",
     "output_type": "stream",
     "text": [
      "Vector-1:\n",
      "[1 8 3 5]\n",
      "\n",
      "Vector 2:\n",
      "[ 9  7 10  3]\n",
      "\n",
      "Vector x multiplied by Vector y:\n",
      "[ 9 56 30 15]\n"
     ]
    }
   ],
   "source": [
    "import numpy as np\n",
    "\n",
    "x = np.array([1, 8, 3, 5])\n",
    "\n",
    "print(f\"Vector-1:\\n{x}\\n\")\n",
    "\n",
    "y = np.random.randint(0, 11, 4)\n",
    "print(f\"Vector 2:\\n{y}\\n\")\n",
    "\n",
    "z = x * y\n",
    "print(f\"Vector x multiplied by Vector y:\\n{z}\")"
   ]
  },
  {
   "cell_type": "markdown",
   "id": "3ca73e80",
   "metadata": {},
   "source": [
    "25. Create 3x4 Matrix (10 to 21)\n",
    "\n",
    "Write a NumPy program to create a 3x4 matrix filled with values from 10 to 21."
   ]
  },
  {
   "cell_type": "code",
   "execution_count": null,
   "id": "4ff236b1",
   "metadata": {},
   "outputs": [
    {
     "name": "stdout",
     "output_type": "stream",
     "text": [
      "Original vector:\n",
      "[10 11 12 13 14 15 16 17 18 19 20 21]\n",
      "\n",
      "New 3x4 vector:\n",
      "[[10 11 12 13]\n",
      " [14 15 16 17]\n",
      " [18 19 20 21]]\n"
     ]
    }
   ],
   "source": [
    "import numpy as np\n",
    "\n",
    "# My way\n",
    "\n",
    "x = np.arange(10, 22)\n",
    "print(f\"Original vector:\\n{x}\\n\")\n",
    "\n",
    "x = x.reshape(3, 4)\n",
    "print(f\"New 3x4 vector:\\n{x}\")"
   ]
  },
  {
   "cell_type": "code",
   "execution_count": null,
   "id": "8a2a6d3f",
   "metadata": {},
   "outputs": [
    {
     "name": "stdout",
     "output_type": "stream",
     "text": [
      "[[10 11 12 13]\n",
      " [14 15 16 17]\n",
      " [18 19 20 21]]\n"
     ]
    }
   ],
   "source": [
    "# Their way (more direct)\n",
    "\n",
    "x = np.arange(10, 22).reshape(3, 4)\n",
    "\n",
    "print(x)"
   ]
  },
  {
   "cell_type": "markdown",
   "id": "57ad9fc7",
   "metadata": {},
   "source": [
    "26. Rows & Columns in Matrix\n",
    "\n",
    "Write a NumPy program to find the number of rows and columns in a given matrix."
   ]
  },
  {
   "cell_type": "code",
   "execution_count": 168,
   "id": "f0a65c87",
   "metadata": {},
   "outputs": [
    {
     "name": "stdout",
     "output_type": "stream",
     "text": [
      "Original Matrix:\n",
      "[[10 11 12 13]\n",
      " [14 15 16 17]\n",
      " [18 19 20 21]]\n",
      "\n",
      "Matrix Shape:\n",
      "(3, 4)\n"
     ]
    }
   ],
   "source": [
    "import numpy as np\n",
    "\n",
    "m = np.arange(10, 22).reshape((3, 4))\n",
    "\n",
    "print(f\"Original Matrix:\\n{m}\\n\")\n",
    "\n",
    "print(f\"Matrix Shape:\\n{m.shape}\")"
   ]
  },
  {
   "cell_type": "markdown",
   "id": "6ed9214a",
   "metadata": {},
   "source": [
    "27. Create 3x3 Identity Matrix\n",
    "\n",
    "Write a NumPy program to create a 3x3 identity matrix, i.e. the diagonal elements are 1, the rest are 0."
   ]
  },
  {
   "cell_type": "code",
   "execution_count": 178,
   "id": "eba03a5e",
   "metadata": {},
   "outputs": [
    {
     "name": "stdout",
     "output_type": "stream",
     "text": [
      "[[1. 0. 0.]\n",
      " [0. 1. 0.]\n",
      " [0. 0. 1.]]\n"
     ]
    }
   ],
   "source": [
    "import numpy as np\n",
    "\n",
    "# My way\n",
    "\n",
    "id_matrix = np.identity(3)\n",
    "print(id_matrix)"
   ]
  },
  {
   "cell_type": "code",
   "execution_count": 173,
   "id": "2d0ea76d",
   "metadata": {},
   "outputs": [
    {
     "name": "stdout",
     "output_type": "stream",
     "text": [
      "[[1. 0. 0.]\n",
      " [0. 1. 0.]\n",
      " [0. 0. 1.]]\n"
     ]
    }
   ],
   "source": [
    "import numpy as np\n",
    "\n",
    "# Their way\n",
    "\n",
    "id_matrix = np.eye(3)\n",
    "print(id_matrix)"
   ]
  },
  {
   "cell_type": "markdown",
   "id": "a7df4a11",
   "metadata": {},
   "source": [
    "`np.identity(3)`\n",
    "\n",
    "- Always returns a square matrix.\n",
    "- Only accepts one parameter: the size.\n",
    "- Always returns `float64` dtype by default.\n",
    "- More explicit about creating an identity matrix specifically.\n",
    "\n",
    "`np.eye(3)`\n",
    "\n",
    "- More flexible: Can create rectangular matrices with `np.eye(N, M)`.\n",
    "= Can offset the diagonal with the `k` parameter.\n",
    "- Accepts a `dtype` parameter directly.\n",
    "- More general-purpose function."
   ]
  },
  {
   "cell_type": "markdown",
   "id": "b1b1787f",
   "metadata": {},
   "source": []
  }
 ],
 "metadata": {
  "kernelspec": {
   "display_name": "practice-env",
   "language": "python",
   "name": "python3"
  },
  "language_info": {
   "codemirror_mode": {
    "name": "ipython",
    "version": 3
   },
   "file_extension": ".py",
   "mimetype": "text/x-python",
   "name": "python",
   "nbconvert_exporter": "python",
   "pygments_lexer": "ipython3",
   "version": "3.13.5"
  }
 },
 "nbformat": 4,
 "nbformat_minor": 5
}
