{
 "cells": [
  {
   "cell_type": "markdown",
   "id": "bde22ff1",
   "metadata": {},
   "source": [
    "# linspace() Function\n",
    "\n",
    "`linspace()` returns an array of evenly spaced numbers over a specified range. Unlike the `range()` function, `linspace()` allows you to specify the total number of points you want in the array, and NumPy will calculate the spacing between the numbers automatically."
   ]
  },
  {
   "cell_type": "code",
   "execution_count": null,
   "id": "28ad18e0",
   "metadata": {},
   "outputs": [],
   "source": [
    "import numpy as np\n",
    "\n",
    "# Generate 10 numbers between 0 and 1\n",
    "array = np.linspace(0, 1, num=10)"
   ]
  }
 ],
 "metadata": {
  "kernelspec": {
   "display_name": "practice-env",
   "language": "python",
   "name": "python3"
  },
  "language_info": {
   "name": "python",
   "version": "3.13.5"
  }
 },
 "nbformat": 4,
 "nbformat_minor": 5
}
