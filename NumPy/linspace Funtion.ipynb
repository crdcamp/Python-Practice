{
 "cells": [
  {
   "cell_type": "markdown",
   "id": "bde22ff1",
   "metadata": {},
   "source": [
    "# linspace() Function\n",
    "\n",
    "`linspace()` returns an array of evenly spaced numbers over a specified range. Unlike the `range()` function, `linspace()` allows you to specify the total number of points you want in the array, and NumPy will calculate the spacing between the numbers automatically."
   ]
  },
  {
   "cell_type": "code",
   "execution_count": 1,
   "id": "28ad18e0",
   "metadata": {},
   "outputs": [
    {
     "name": "stdout",
     "output_type": "stream",
     "text": [
      "[0.         0.11111111 0.22222222 0.33333333 0.44444444 0.55555556\n",
      " 0.66666667 0.77777778 0.88888889 1.        ]\n"
     ]
    }
   ],
   "source": [
    "import numpy as np\n",
    "\n",
    "# Generate 10 numbers between 0 and 1\n",
    "array = np.linspace(0, 1, num=10)\n",
    "print(array)"
   ]
  }
 ],
 "metadata": {
  "kernelspec": {
   "display_name": "practice-env",
   "language": "python",
   "name": "python3"
  },
  "language_info": {
   "codemirror_mode": {
    "name": "ipython",
    "version": 3
   },
   "file_extension": ".py",
   "mimetype": "text/x-python",
   "name": "python",
   "nbconvert_exporter": "python",
   "pygments_lexer": "ipython3",
   "version": "3.13.5"
  }
 },
 "nbformat": 4,
 "nbformat_minor": 5
}
