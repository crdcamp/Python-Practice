{
 "cells": [
  {
   "cell_type": "markdown",
   "id": "c6a11b36",
   "metadata": {},
   "source": [
    "# Machine Learning\n",
    "\n",
    "Machine Learning is making the computer learn from studying data and statistics.\n",
    "\n",
    "Machine Learning is a step into the direction of artificial intelligence (AI).\n",
    "\n",
    "Machine Learning is a program that analyses data and learns to predict the outcome."
   ]
  },
  {
   "cell_type": "markdown",
   "id": "02ace5d7",
   "metadata": {},
   "source": [
    "# Where To Start?\n",
    "\n",
    "In this tutorial we will go back to mathematics and study statistics, and how to calculate important numbers based on data sets.\n",
    "\n",
    "We will also learn how to use various Python modules to get the answers we need.\n",
    "\n",
    "And we will learn how to make functions that are able to predict the outcome based on what we have learned."
   ]
  },
  {
   "cell_type": "markdown",
   "id": "ed32f077",
   "metadata": {},
   "source": [
    "# Data Set\n",
    "\n",
    "In the mind of a computer, a data set is any collection of data. It can be anything from an array to a complete database.\n",
    "\n",
    "Example of an array:"
   ]
  }
 ],
 "metadata": {
  "language_info": {
   "name": "python"
  }
 },
 "nbformat": 4,
 "nbformat_minor": 5
}
