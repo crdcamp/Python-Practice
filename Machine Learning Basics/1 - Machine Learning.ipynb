{
 "cells": [
  {
   "cell_type": "markdown",
   "id": "c6a11b36",
   "metadata": {},
   "source": [
    "# Machine Learning\n",
    "\n",
    "Machine Learning is making the computer learn from studying data and statistics.\n",
    "\n",
    "Machine Learning is a step into the direction of artificial intelligence (AI).\n",
    "\n",
    "Machine Learning is a program that analyses data and learns to predict the outcome."
   ]
  },
  {
   "cell_type": "markdown",
   "id": "02ace5d7",
   "metadata": {},
   "source": [
    "# Where To Start?\n",
    "\n",
    "In this tutorial we will go back to mathematics and study statistics, and how to calculate important numbers based on data sets.\n",
    "\n",
    "We will also learn how to use various Python modules to get the answers we need.\n",
    "\n",
    "And we will learn how to make functions that are able to predict the outcome based on what we have learned."
   ]
  },
  {
   "cell_type": "markdown",
   "id": "ed32f077",
   "metadata": {},
   "source": [
    "# Data Set\n",
    "\n",
    "In the mind of a computer, a data set is any collection of data. It can be anything from an array to a complete database.\n",
    "\n",
    "Example of an array:\n",
    "\n",
    "`[99,86,87,88,111,86,103,87,94,78,77,85,86]`"
   ]
  },
  {
   "cell_type": "markdown",
   "id": "fc221ae5",
   "metadata": {},
   "source": [
    "# Data Types\n",
    "\n",
    "Three main categories:\n",
    "\n",
    "- **Numerical**\n",
    "- **Categorical**\n",
    "- **Ordinal**\n",
    "\n",
    "**Numerical** data are (obviously) numbers, and can be split into two numerical categories:\n",
    "\n",
    "- Discrete Data\n",
    "    - Counted data that are limited to integers.\n",
    "- Continuous Data\n",
    "    - Measured data that can be any number.\n",
    "\n",
    "**Categorical** data are values that cannot be measured up against each other. Example: a color value, or any yes/no values.\n",
    "\n",
    "**Ordinal data** are like categorical data, but can be measured up against each other. Example: school grades where A is better than B and so on.\n",
    "\n",
    "By knowing the data type of your data source, you will be able to know what technique to use when analyzing them."
   ]
  }
 ],
 "metadata": {
  "language_info": {
   "name": "python"
  }
 },
 "nbformat": 4,
 "nbformat_minor": 5
}
