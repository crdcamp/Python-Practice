{
 "cells": [
  {
   "cell_type": "markdown",
   "id": "ec55dde9",
   "metadata": {},
   "source": [
    "# Mean, Median, and Mode\n",
    "\n",
    "What can we learn from looking at a group of numbers?\n",
    "\n",
    "You already know what mean, median, and mode"
   ]
  }
 ],
 "metadata": {
  "language_info": {
   "name": "python"
  }
 },
 "nbformat": 4,
 "nbformat_minor": 5
}
