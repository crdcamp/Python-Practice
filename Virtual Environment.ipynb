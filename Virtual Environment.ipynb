{
 "cells": [
  {
   "cell_type": "markdown",
   "id": "cb3764b2",
   "metadata": {},
   "source": [
    "# What is a Virtual Environment?\n",
    "\n",
    "A virtual environment in Python is an isolated environment on your computer where you can run and test your Python projects.\n",
    "\n",
    "It allows you to manage project-specific dependencies without interfering with other projects or the original Python installation."
   ]
  },
  {
   "cell_type": "markdown",
   "id": "311b8654",
   "metadata": {},
   "source": [
    "# Creating a Virtual Environment\n",
    "\n",
    "Python had the built-in `venv` module for creating virtual environments.\n",
    "\n",
    "To create a virtual environment, open the command prompt and navigate to the folder where you want to create your project, then type this command:\n",
    "\n",
    "```terminal\n",
    "C:\\Users\\Your Name> python -m venv myfirstproject\n",
    "```\n",
    "\n",
    "This will set up a virtual environment and create a folder named \"myfirstproject\" with subfolders and files like this:\n",
    "\n",
    "```terminal\n",
    "myfirstproject\n",
    "  Include\n",
    "  Lib\n",
    "  Scripts\n",
    "  .gitignore\n",
    "  pyvenv.cfg\n",
    "```"
   ]
  },
  {
   "cell_type": "markdown",
   "id": "188e49da",
   "metadata": {},
   "source": [
    "# Activate Virtual Environment\n",
    "\n",
    "To use your virtual environment, you have to activate it with this command:\n",
    "\n",
    "```terminal\n",
    "$ source myfirstproject/bin/activate\n",
    "```\n",
    "\n",
    "After activation, your prompt will change to show that you are now working in the active environment:\n",
    "\n",
    "```terminal\n",
    "(myfirstproject) ... $\n",
    "```"
   ]
  },
  {
   "cell_type": "markdown",
   "id": "26eab559",
   "metadata": {
    "vscode": {
     "languageId": "plaintext"
    }
   },
   "source": [
    "# Install Packages\n",
    "\n",
    "Once your virtual environment is activated, you can install packages in it, using pip.\n",
    "\n",
    "We will install a package called 'cowsay':\n",
    "\n",
    "```terminal\n",
    "(myfirstproject) ... $ pip install cowsay\n",
    "\n",
    "Collecting cowsay\n",
    "  Downloading cowsay-6.1-py3-none-any.whl.metadata (5.6 kB)\n",
    "Downloading cowsay-6.1-py3-none-any.whl (25 kB)\n",
    "Installing collected packages: cowsay\n",
    "Successfully installed cowsay-6.1\n",
    "\n",
    "[notice] A new release of pip is available: 25.0.1 -> 25.1.1\n",
    "[notice] To update, run: python.exe -m pip install --upgrade pip\n",
    "\n",
    "```"
   ]
  },
  {
   "cell_type": "markdown",
   "id": "37db02c2",
   "metadata": {},
   "source": [
    "# Deactivate Virtual Environment\n",
    "\n",
    "To deactivate the virtual environment:\n",
    "\n",
    "```terminal\n",
    "(myfirstproject) ... $ deactivate\n",
    "```"
   ]
  },
  {
   "cell_type": "markdown",
   "id": "f6888529",
   "metadata": {},
   "source": [
    "# Delete Virtual Environment\n",
    "\n",
    "Another nice thing about working with a virtual environment is that when you want to delete it, there are no other projects that depend on it.\n",
    "\n",
    "To delete:\n",
    "\n",
    "```terminal\n",
    "$ rm -rf myfirstproject\n",
    "```"
   ]
  }
 ],
 "metadata": {
  "language_info": {
   "name": "python"
  }
 },
 "nbformat": 4,
 "nbformat_minor": 5
}
