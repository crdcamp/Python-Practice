{
 "cells": [
  {
   "cell_type": "markdown",
   "id": "589e8c0f",
   "metadata": {},
   "source": [
    "# Loops\n",
    "\n",
    "Python has two primitive loop commands:\n",
    "\n",
    "- `while` loops\n",
    "- `for` loops"
   ]
  },
  {
   "cell_type": "markdown",
   "id": "be62e1a8",
   "metadata": {},
   "source": [
    "# The while Loop\n",
    "\n",
    "With the `while` loop we can execute a set of statements as long as a condition is true."
   ]
  },
  {
   "cell_type": "code",
   "execution_count": 1,
   "id": "ec2f659d",
   "metadata": {},
   "outputs": [
    {
     "name": "stdout",
     "output_type": "stream",
     "text": [
      "1\n",
      "2\n",
      "3\n",
      "4\n",
      "5\n"
     ]
    }
   ],
   "source": [
    "i = 1\n",
    "\n",
    "while i < 6:\n",
    "    print(i)\n",
    "    i += 1"
   ]
  },
  {
   "cell_type": "markdown",
   "id": "96bdb34d",
   "metadata": {},
   "source": [
    "The `while` loop requires relevant variables to be ready, in this example we need to define an variable, `i`, which we set to 1.\n",
    "\n",
    "# The break Statement\n",
    "\n",
    "With the `break` statement, we can stop the loop even if the condition is true:"
   ]
  },
  {
   "cell_type": "code",
   "execution_count": 2,
   "id": "1da1cef3",
   "metadata": {},
   "outputs": [
    {
     "name": "stdout",
     "output_type": "stream",
     "text": [
      "1\n",
      "2\n",
      "3\n"
     ]
    }
   ],
   "source": [
    "i = 1\n",
    "while i < 6:\n",
    "    print(i)\n",
    "    if i == 3:\n",
    "        break\n",
    "    i += 1"
   ]
  },
  {
   "cell_type": "markdown",
   "id": "193286c0",
   "metadata": {},
   "source": [
    "# The continue Statement\n",
    "\n",
    "With the `continue` statement, we can stop the current iteration, and continue with the next:"
   ]
  },
  {
   "cell_type": "code",
   "execution_count": 3,
   "id": "33fca27b",
   "metadata": {},
   "outputs": [
    {
     "name": "stdout",
     "output_type": "stream",
     "text": [
      "1\n",
      "2\n",
      "4\n",
      "5\n",
      "6\n"
     ]
    }
   ],
   "source": [
    "i = 0\n",
    "\n",
    "while i < 6:\n",
    "    i += 1\n",
    "    if i == 3:\n",
    "        continue\n",
    "    print(i)"
   ]
  },
  {
   "cell_type": "markdown",
   "id": "ebf063ab",
   "metadata": {},
   "source": [
    "# The else Statement\n",
    "\n",
    "With the `else` statement we can run a block of code once when the condition is no longer true."
   ]
  },
  {
   "cell_type": "code",
   "execution_count": 4,
   "id": "b31a16bf",
   "metadata": {},
   "outputs": [
    {
     "name": "stdout",
     "output_type": "stream",
     "text": [
      "1\n",
      "2\n",
      "3\n",
      "4\n",
      "5\n",
      "i is no longer less than 6\n"
     ]
    }
   ],
   "source": [
    "i = 1\n",
    "\n",
    "while i < 6:\n",
    "    print(i)\n",
    "    i += 1\n",
    "else:\n",
    "    print(\"i is no longer less than 6\")"
   ]
  }
 ],
 "metadata": {
  "kernelspec": {
   "display_name": "Python 3",
   "language": "python",
   "name": "python3"
  },
  "language_info": {
   "codemirror_mode": {
    "name": "ipython",
    "version": 3
   },
   "file_extension": ".py",
   "mimetype": "text/x-python",
   "name": "python",
   "nbconvert_exporter": "python",
   "pygments_lexer": "ipython3",
   "version": "3.13.5"
  }
 },
 "nbformat": 4,
 "nbformat_minor": 5
}
