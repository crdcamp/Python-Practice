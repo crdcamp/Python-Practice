{
 "cells": [
  {
   "cell_type": "markdown",
   "id": "a5cf5a35",
   "metadata": {},
   "source": [
    "# Set\n",
    "\n",
    "Sets are used to store multiple items in a single variable.\n",
    "\n",
    "Set is one of 4 built-in data types in Python used to store collections of data, the other 3 are List, Tuple, and Dictionary, all with different qualities and usage.\n",
    "\n",
    "A set is a collection which is unordered, unchangeable*, and unindexed.\n",
    "\n",
    "* Note: Set items are unchangeable, but you can remove items and add new items.\n",
    "\n",
    "Sets are written with curly brackets."
   ]
  },
  {
   "cell_type": "code",
   "execution_count": 1,
   "id": "77ba2e0a",
   "metadata": {},
   "outputs": [
    {
     "name": "stdout",
     "output_type": "stream",
     "text": [
      "{'apple', 'cherry', 'banana'}\n"
     ]
    }
   ],
   "source": [
    "thisset = {\"apple\", \"banana\", \"cherry\"}\n",
    "print(thisset)"
   ]
  },
  {
   "cell_type": "markdown",
   "id": "e5b207f8",
   "metadata": {},
   "source": [
    "# Set Items\n",
    "\n",
    "Set items are unordered, unchangeable, and do not allow duplicate values.\n",
    "\n",
    "# Unordered\n",
    "\n",
    "Unordered means that the items in a set do not have a defined order.\n",
    "\n",
    "Set items can appear in a different order every time you use them, and **cannot be referred to by index or key**.\n",
    "\n",
    "# Unchangeable\n",
    "\n",
    "Set items are unchangeable, meaning that we cannot change the items after the set has been created.\n",
    "\n",
    "Once a set is created, you cannot change its items, but you can remove items and add new items.\n",
    "\n",
    "# Duplicates Not Alowed\n",
    "\n",
    "Sets cannot have two items with the same value."
   ]
  },
  {
   "cell_type": "code",
   "execution_count": 2,
   "id": "aef07c9e",
   "metadata": {},
   "outputs": [
    {
     "name": "stdout",
     "output_type": "stream",
     "text": [
      "{'apple', 'cherry', 'banana'}\n"
     ]
    }
   ],
   "source": [
    "thisset = {\"apple\", \"banana\", \"cherry\", \"apple\"}\n",
    "\n",
    "print(thisset)"
   ]
  },
  {
   "cell_type": "markdown",
   "id": "0ac32d7b",
   "metadata": {},
   "source": [
    "Note: The values `True` and `1` are considered the same value in sets, and are treated as duplicates:"
   ]
  },
  {
   "cell_type": "code",
   "execution_count": 3,
   "id": "bda995c5",
   "metadata": {},
   "outputs": [
    {
     "name": "stdout",
     "output_type": "stream",
     "text": [
      "{True, 'apple', 2, 'cherry', 'banana'}\n"
     ]
    }
   ],
   "source": [
    "thisset = {\"apple\", \"banana\", \"cherry\", True, 1, 2}\n",
    "\n",
    "print(thisset)"
   ]
  },
  {
   "cell_type": "markdown",
   "id": "4e9c48ec",
   "metadata": {},
   "source": [
    "`False` and `0` are considered the same value:"
   ]
  },
  {
   "cell_type": "code",
   "execution_count": 4,
   "id": "56b220c4",
   "metadata": {},
   "outputs": [
    {
     "name": "stdout",
     "output_type": "stream",
     "text": [
      "{False, True, 'apple', 'cherry', 'banana'}\n"
     ]
    }
   ],
   "source": [
    "thisset = {\"apple\", \"banana\", \"cherry\", False, True, 0}\n",
    "print(thisset)"
   ]
  },
  {
   "cell_type": "markdown",
   "id": "0adf5f26",
   "metadata": {},
   "source": [
    "# Get the Length of a Set\n",
    "\n",
    "To determine how many items a set has, use the len() function."
   ]
  },
  {
   "cell_type": "code",
   "execution_count": 5,
   "id": "3fe32807",
   "metadata": {},
   "outputs": [
    {
     "name": "stdout",
     "output_type": "stream",
     "text": [
      "3\n"
     ]
    }
   ],
   "source": [
    "thisset = {\"apple\", \"banana\", \"cherry\"}\n",
    "print(len(thisset))"
   ]
  },
  {
   "cell_type": "markdown",
   "id": "8ad6fab2",
   "metadata": {},
   "source": [
    "# Set Items - Data Types\n",
    "\n",
    "Set items can be of any data type:"
   ]
  },
  {
   "cell_type": "code",
   "execution_count": 6,
   "id": "342d70a6",
   "metadata": {},
   "outputs": [],
   "source": [
    "set1 = {\"apple\", \"banana\", \"cherry\"}\n",
    "set2 = {1, 5, 7, 9, 3}\n",
    "set3 = {True, False, False}"
   ]
  },
  {
   "cell_type": "code",
   "execution_count": 7,
   "id": "01bef998",
   "metadata": {},
   "outputs": [],
   "source": [
    "set1 = {\"abc\", 34, True, 40, \"male\"}"
   ]
  },
  {
   "cell_type": "markdown",
   "id": "518475c7",
   "metadata": {},
   "source": [
    "# type()\n",
    "\n",
    "From Python's perspective, sets are defined as objects with the data type 'set':"
   ]
  },
  {
   "cell_type": "code",
   "execution_count": 8,
   "id": "4939450e",
   "metadata": {},
   "outputs": [
    {
     "name": "stdout",
     "output_type": "stream",
     "text": [
      "<class 'set'>\n"
     ]
    }
   ],
   "source": [
    "myset = {\"apple\", \"banana\", \"cherry\"}\n",
    "print(type(myset))"
   ]
  },
  {
   "cell_type": "markdown",
   "id": "303ba62f",
   "metadata": {},
   "source": [
    "# The set() Constructor\n",
    "\n",
    "It is also possible to use the set() constructor to make a set."
   ]
  },
  {
   "cell_type": "code",
   "execution_count": 9,
   "id": "df63e367",
   "metadata": {},
   "outputs": [
    {
     "name": "stdout",
     "output_type": "stream",
     "text": [
      "{'cherry', 'apple', 'banana'}\n"
     ]
    }
   ],
   "source": [
    "thisset = set((\"apple\", \"banana\", \"cherry\"))\n",
    "print(thisset)"
   ]
  },
  {
   "cell_type": "markdown",
   "id": "079fcfbf",
   "metadata": {},
   "source": [
    "# Python Collections (Arrays)\n",
    "\n",
    "There are four collection data types in the Python programming language:\n",
    "\n",
    "- **List** is a collection which is ordered and changeable. Allows duplicate members.\n",
    "\n",
    "- **Tuple** is a collection which is ordered and unchangeable. Allows duplicate members.\n",
    "\n",
    "- **Set** is a collection which is unordered, unchangeable*, and unindexed. No duplicate members.\n",
    "\n",
    "- **Dictionary** is a collection which is ordered** and changeable. No duplicate members."
   ]
  },
  {
   "cell_type": "markdown",
   "id": "9fe4f229",
   "metadata": {},
   "source": [
    "# Access Set Items\n",
    "\n",
    "You cannot access items in a set by referring to an index or a key.\n",
    "\n",
    "But you can loop through the set items using a `for` loop, or ask if a specified value is present in a set, by using the `in` keyword."
   ]
  },
  {
   "cell_type": "code",
   "execution_count": 10,
   "id": "1bebaef2",
   "metadata": {},
   "outputs": [
    {
     "name": "stdout",
     "output_type": "stream",
     "text": [
      "apple\n",
      "cherry\n",
      "banana\n"
     ]
    }
   ],
   "source": [
    "# Loop through the set and print the values\n",
    "\n",
    "thisset = {\"apple\", \"banana\", \"cherry\"}\n",
    "\n",
    "for x in thisset:\n",
    "    print(x)"
   ]
  },
  {
   "cell_type": "code",
   "execution_count": 12,
   "id": "bd0c05f6",
   "metadata": {},
   "outputs": [
    {
     "name": "stdout",
     "output_type": "stream",
     "text": [
      "True\n"
     ]
    }
   ],
   "source": [
    "# Check is \"banana\" is present in the set\n",
    "\n",
    "thisset = {\"apple\", \"banana\", \"cherry\"}\n",
    "\n",
    "print(\"banana\" in thisset)"
   ]
  },
  {
   "cell_type": "code",
   "execution_count": 13,
   "id": "c8bdc061",
   "metadata": {},
   "outputs": [
    {
     "name": "stdout",
     "output_type": "stream",
     "text": [
      "False\n"
     ]
    }
   ],
   "source": [
    "# Check if \"banana\" is not present in the set\n",
    "\n",
    "thisset = {\"apple\", \"banana\", \"cherry\"}\n",
    "\n",
    "print(\"banana\" not in thisset)"
   ]
  },
  {
   "cell_type": "markdown",
   "id": "b62c33e9",
   "metadata": {},
   "source": [
    "# Change Items\n",
    "\n",
    "Once a set is created, you cannot change its items, but you can add new items.\n",
    "\n",
    "# Add Items\n",
    "\n",
    "To add one item to a set use the `add()` method."
   ]
  },
  {
   "cell_type": "code",
   "execution_count": 14,
   "id": "f5caa927",
   "metadata": {},
   "outputs": [
    {
     "name": "stdout",
     "output_type": "stream",
     "text": [
      "{'apple', 'orange', 'cherry', 'banana'}\n"
     ]
    }
   ],
   "source": [
    "thisset = {\"apple\", \"banana\", \"cherry\"}\n",
    "\n",
    "thisset.add(\"orange\")\n",
    "\n",
    "print(thisset)"
   ]
  },
  {
   "cell_type": "markdown",
   "id": "3df29745",
   "metadata": {},
   "source": [
    "# Add Sets\n",
    "\n",
    "To add items from another set into the current set, use the `update()` method."
   ]
  },
  {
   "cell_type": "code",
   "execution_count": 15,
   "id": "8ad05a63",
   "metadata": {},
   "outputs": [
    {
     "name": "stdout",
     "output_type": "stream",
     "text": [
      "{'apple', 'cherry', 'mango', 'pineapple', 'banana', 'papaya'}\n"
     ]
    }
   ],
   "source": [
    "thisset = {\"apple\", \"banana\", \"cherry\"}\n",
    "tropical = {\"pineapple\", \"mango\", \"papaya\"}\n",
    "\n",
    "thisset.update(tropical)\n",
    "\n",
    "print(thisset)"
   ]
  },
  {
   "cell_type": "markdown",
   "id": "1ba23a34",
   "metadata": {},
   "source": [
    "# Add Any Iterable\n",
    "\n",
    "The object in the `update()` method does not have to be a set, it can be any iterable object (tuples, lists, dictionaries etc.)."
   ]
  },
  {
   "cell_type": "code",
   "execution_count": 16,
   "id": "a23fdf7f",
   "metadata": {},
   "outputs": [
    {
     "name": "stdout",
     "output_type": "stream",
     "text": [
      "{'apple', 'kiwi', 'cherry', 'orange', 'banana'}\n"
     ]
    }
   ],
   "source": [
    "thisset = {\"apple\", \"banana\", \"cherry\"}\n",
    "mylist = [\"kiwi\", \"orange\"]\n",
    "\n",
    "thisset.update(mylist)\n",
    "\n",
    "print(thisset)"
   ]
  },
  {
   "cell_type": "markdown",
   "id": "827e55b7",
   "metadata": {},
   "source": [
    "# Remove Item\n",
    "\n",
    "To remove an item in a set, use the `remove()`, or the `discard()` method."
   ]
  },
  {
   "cell_type": "code",
   "execution_count": 17,
   "id": "cc3da92e",
   "metadata": {},
   "outputs": [
    {
     "name": "stdout",
     "output_type": "stream",
     "text": [
      "{'apple', 'cherry'}\n"
     ]
    }
   ],
   "source": [
    "thisset = {\"apple\", \"banana\", \"cherry\"}\n",
    "\n",
    "thisset.remove(\"banana\")\n",
    "\n",
    "print(thisset)"
   ]
  },
  {
   "cell_type": "markdown",
   "id": "c457b1e7",
   "metadata": {},
   "source": [
    "Note: If the item to remove does not exist, `remove()` will raise an error."
   ]
  },
  {
   "cell_type": "code",
   "execution_count": 18,
   "id": "de1b7e98",
   "metadata": {},
   "outputs": [
    {
     "name": "stdout",
     "output_type": "stream",
     "text": [
      "{'apple', 'cherry'}\n"
     ]
    }
   ],
   "source": [
    "thisset = {\"apple\", \"banana\", \"cherry\"}\n",
    "\n",
    "thisset.discard(\"banana\")\n",
    "\n",
    "print(thisset)"
   ]
  },
  {
   "cell_type": "markdown",
   "id": "c6041a7a",
   "metadata": {},
   "source": [
    "Note: If the item to remove does not exist, discard() will NOT raise an error."
   ]
  },
  {
   "cell_type": "markdown",
   "id": "644df24f",
   "metadata": {},
   "source": [
    "You can also use the `pop()` method to remove an item, but this method will remove a random item, so you cannot be sure what item that gets removed.\n",
    "\n",
    "The return value of the `pop()` method is the removed item."
   ]
  },
  {
   "cell_type": "code",
   "execution_count": 21,
   "id": "f5b25aa1",
   "metadata": {},
   "outputs": [
    {
     "name": "stdout",
     "output_type": "stream",
     "text": [
      "apple\n",
      "{'cherry', 'banana'}\n"
     ]
    }
   ],
   "source": [
    "thisset = {\"apple\", \"banana\", \"cherry\"}\n",
    "\n",
    "x = thisset.pop()\n",
    "\n",
    "print(x)\n",
    "\n",
    "print(thisset)"
   ]
  },
  {
   "cell_type": "markdown",
   "id": "0d4c3578",
   "metadata": {},
   "source": [
    "Note: Sets are unordered, so when using the pop() method, you do not know which item that gets removed."
   ]
  },
  {
   "cell_type": "markdown",
   "id": "d1c78542",
   "metadata": {},
   "source": [
    "The `clear()` method empties the set:"
   ]
  },
  {
   "cell_type": "code",
   "execution_count": 22,
   "id": "75ea64fa",
   "metadata": {},
   "outputs": [
    {
     "name": "stdout",
     "output_type": "stream",
     "text": [
      "set()\n"
     ]
    }
   ],
   "source": [
    "thisset = {\"apple\", \"banana\", \"cherry\"}\n",
    "\n",
    "thisset.clear()\n",
    "\n",
    "print(thisset)"
   ]
  },
  {
   "cell_type": "markdown",
   "id": "45ff7b85",
   "metadata": {},
   "source": [
    "The `del` keyword will delete the set completely:"
   ]
  },
  {
   "cell_type": "code",
   "execution_count": 23,
   "id": "87102e6f",
   "metadata": {},
   "outputs": [
    {
     "ename": "NameError",
     "evalue": "name 'thisset' is not defined",
     "output_type": "error",
     "traceback": [
      "\u001b[31m---------------------------------------------------------------------------\u001b[39m",
      "\u001b[31mNameError\u001b[39m                                 Traceback (most recent call last)",
      "\u001b[36mCell\u001b[39m\u001b[36m \u001b[39m\u001b[32mIn[23]\u001b[39m\u001b[32m, line 5\u001b[39m\n\u001b[32m      1\u001b[39m thisset = {\u001b[33m\"\u001b[39m\u001b[33mapple\u001b[39m\u001b[33m\"\u001b[39m, \u001b[33m\"\u001b[39m\u001b[33mbanana\u001b[39m\u001b[33m\"\u001b[39m, \u001b[33m\"\u001b[39m\u001b[33mcherry\u001b[39m\u001b[33m\"\u001b[39m}\n\u001b[32m      3\u001b[39m \u001b[38;5;28;01mdel\u001b[39;00m thisset\n\u001b[32m----> \u001b[39m\u001b[32m5\u001b[39m \u001b[38;5;28mprint\u001b[39m(\u001b[43mthisset\u001b[49m)\n",
      "\u001b[31mNameError\u001b[39m: name 'thisset' is not defined"
     ]
    }
   ],
   "source": [
    "thisset = {\"apple\", \"banana\", \"cherry\"}\n",
    "\n",
    "del thisset\n",
    "\n",
    "print(thisset)"
   ]
  },
  {
   "cell_type": "markdown",
   "id": "89ca8698",
   "metadata": {},
   "source": [
    "# Loop Sets\n",
    "\n",
    "You can loop through the set items by using a `for` loop:"
   ]
  },
  {
   "cell_type": "code",
   "execution_count": 24,
   "id": "5903a736",
   "metadata": {},
   "outputs": [
    {
     "name": "stdout",
     "output_type": "stream",
     "text": [
      "apple\n",
      "cherry\n",
      "banana\n"
     ]
    }
   ],
   "source": [
    "thisset = {\"apple\", \"banana\", \"cherry\"}\n",
    "\n",
    "for x in thisset:\n",
    "    print(x)"
   ]
  },
  {
   "cell_type": "markdown",
   "id": "73ee8a4c",
   "metadata": {},
   "source": [
    "# Join Sets - IMPORTANT FOR REAL USE\n",
    "\n",
    "There are several ways to join two or more sets in Python.\n",
    "\n",
    "The `union()` and `update()` methods joins all items from both sets.\n",
    "\n",
    "The `intersection()` method keeps ONLY the duplicates.\n",
    "\n",
    "The `difference()` method keeps the items from the first set that are not in the other set(s).\n",
    "\n",
    "The `symmetric_difference()` method keeps all items EXCEPT the duplicates."
   ]
  },
  {
   "cell_type": "markdown",
   "id": "5f81700e",
   "metadata": {},
   "source": [
    "# Union\n",
    "\n",
    "The `union()` method returns a new set with all items from both sets."
   ]
  },
  {
   "cell_type": "code",
   "execution_count": 25,
   "id": "19643370",
   "metadata": {},
   "outputs": [
    {
     "name": "stdout",
     "output_type": "stream",
     "text": [
      "{1, 'a', 2, 3, 'c', 'b'}\n"
     ]
    }
   ],
   "source": [
    "set1 = {\"a\", \"b\", \"c\"}\n",
    "set2 = {1, 2, 3}\n",
    "\n",
    "set3 = set1.union(set2)\n",
    "print(set3)"
   ]
  },
  {
   "cell_type": "markdown",
   "id": "6b67dfa8",
   "metadata": {},
   "source": [
    "You can use the `|` operator instead of th `union()` method, and you will get the same result."
   ]
  },
  {
   "cell_type": "code",
   "execution_count": 26,
   "id": "e1e64005",
   "metadata": {},
   "outputs": [
    {
     "name": "stdout",
     "output_type": "stream",
     "text": [
      "{1, 'a', 2, 3, 'c', 'b'}\n"
     ]
    }
   ],
   "source": [
    "set1 = {\"a\", \"b\", \"c\"}\n",
    "set2 = {1, 2, 3}\n",
    "\n",
    "set3 = set1 | set2\n",
    "print(set3)"
   ]
  },
  {
   "cell_type": "markdown",
   "id": "1c4a59fd",
   "metadata": {},
   "source": [
    "Use `union()` when working with mixed iterables or when you want maximum clarity.\n",
    "\n",
    "Use `|` when you're sure you're working with sets and want concise mathematical notation."
   ]
  },
  {
   "cell_type": "markdown",
   "id": "8a922c26",
   "metadata": {},
   "source": [
    "# Join Multiple Sets\n",
    "\n",
    "All the joining methods and operators can be used to join multiple sets.\n",
    "\n",
    "When using a method, just add more sets in the parentheses, separated by commas."
   ]
  },
  {
   "cell_type": "code",
   "execution_count": 27,
   "id": "84fad763",
   "metadata": {},
   "outputs": [
    {
     "name": "stdout",
     "output_type": "stream",
     "text": [
      "{1, 'a', 2, 3, 'apple', 'c', 'cherry', 'bananas', 'John', 'Elena', 'b'}\n"
     ]
    }
   ],
   "source": [
    "set1 = {\"a\", \"b\", \"c\"}\n",
    "set2 = {1, 2, 3}\n",
    "set3 = {\"John\", \"Elena\"}\n",
    "set4 = {\"apple\", \"bananas\", \"cherry\"}\n",
    "\n",
    "myset = set1.union(set2, set3, set4)\n",
    "print(myset)"
   ]
  },
  {
   "cell_type": "markdown",
   "id": "a5dd15ca",
   "metadata": {},
   "source": [
    "When using the `|` operator, separate the sets with more `|` operators:"
   ]
  },
  {
   "cell_type": "code",
   "execution_count": 28,
   "id": "c10a5484",
   "metadata": {},
   "outputs": [
    {
     "name": "stdout",
     "output_type": "stream",
     "text": [
      "{1, 'a', 2, 3, 'apple', 'c', 'cherry', 'bananas', 'John', 'Elena', 'b'}\n"
     ]
    }
   ],
   "source": [
    "set1 = {\"a\", \"b\", \"c\"}\n",
    "set2 = {1, 2, 3}\n",
    "set3 = {\"John\", \"Elena\"}\n",
    "set4 = {\"apple\", \"bananas\", \"cherry\"}\n",
    "\n",
    "myset = set1 | set2 | set3 |set4\n",
    "print(myset)"
   ]
  },
  {
   "cell_type": "markdown",
   "id": "99de1d6d",
   "metadata": {},
   "source": [
    "# Join a Set and a Tuple\n",
    "\n",
    "The `union()` method allows you to join a set with other data types, like lists or tuples.\n",
    "\n",
    "The result will be a set."
   ]
  },
  {
   "cell_type": "code",
   "execution_count": 31,
   "id": "01927dd5",
   "metadata": {},
   "outputs": [
    {
     "name": "stdout",
     "output_type": "stream",
     "text": [
      "{1, 'a', 2, 3, 'c', 'b'}\n",
      "<class 'set'>\n"
     ]
    }
   ],
   "source": [
    "# Join a set with a tuple\n",
    "x = {\"a\", \"b\", \"c\"}\n",
    "y = (1, 2, 3)\n",
    "\n",
    "z = x.union(y)\n",
    "print(z)\n",
    "print(type(z))"
   ]
  },
  {
   "cell_type": "markdown",
   "id": "012a48c1",
   "metadata": {},
   "source": [
    "# Update\n",
    "\n",
    "The `update()` ethod inserts all items from one set into another.\n",
    "\n",
    "The `update()` changes the original set, and does not return a new set.\n",
    "\n",
    "Note: Both union() and update() will exclude any duplicate items."
   ]
  },
  {
   "cell_type": "code",
   "execution_count": 32,
   "id": "4e455ae1",
   "metadata": {},
   "outputs": [
    {
     "name": "stdout",
     "output_type": "stream",
     "text": [
      "{1, 'a', 2, 3, 'c', 'b'}\n"
     ]
    }
   ],
   "source": [
    "set1 = {\"a\", \"b\", \"c\"}\n",
    "set2 = {1, 2, 3}\n",
    "\n",
    "set1.update(set2)\n",
    "print(set1)"
   ]
  },
  {
   "cell_type": "markdown",
   "id": "368044d2",
   "metadata": {},
   "source": [
    "# Intersection\n",
    "\n",
    "Keep ONLY the duplicates\n",
    "\n",
    "The `intersection()` method will return a new set, that only contains the items that are present in both sets."
   ]
  },
  {
   "cell_type": "code",
   "execution_count": 33,
   "id": "c3f3fa5f",
   "metadata": {},
   "outputs": [
    {
     "name": "stdout",
     "output_type": "stream",
     "text": [
      "{'apple'}\n"
     ]
    }
   ],
   "source": [
    "set1 = {\"apple\", \"banana\", \"cherry\"}\n",
    "set2 = {\"google\", \"microsoft\", \"apple\"}\n",
    "\n",
    "set3 = set1.intersection(set2)\n",
    "print(set3)"
   ]
  },
  {
   "cell_type": "markdown",
   "id": "f19bc7f7",
   "metadata": {},
   "source": [
    "You can use the `&` operator instead of the `intersection()` method, and you will get the same result.\n",
    "\n",
    "Note: The & operator only allows you to join sets with sets, and not with other data types like you can with the intersection() method."
   ]
  },
  {
   "cell_type": "code",
   "execution_count": 34,
   "id": "d5c0c009",
   "metadata": {},
   "outputs": [
    {
     "name": "stdout",
     "output_type": "stream",
     "text": [
      "{'apple'}\n"
     ]
    }
   ],
   "source": [
    "set1 = {\"apple\", \"banana\", \"cherry\"}\n",
    "set2 = {\"google\", \"microsoft\", \"apple\"}\n",
    "\n",
    "set3 = set1 & set2\n",
    "\n",
    "print(set3)"
   ]
  },
  {
   "cell_type": "markdown",
   "id": "d652672a",
   "metadata": {},
   "source": [
    "The `intersection_update()` method will also keep ONLY the duplicates, but it will change the original set instead of returning a new set."
   ]
  },
  {
   "cell_type": "code",
   "execution_count": 37,
   "id": "af938d5c",
   "metadata": {},
   "outputs": [
    {
     "name": "stdout",
     "output_type": "stream",
     "text": [
      "{'apple'}\n"
     ]
    }
   ],
   "source": [
    "set1 = {\"apple\", \"banana\", \"cherry\"}\n",
    "set2 = {\"google\", \"microsoft\", \"apple\"}\n",
    "\n",
    "set1.intersection_update(set2)\n",
    "\n",
    "print(set1)"
   ]
  },
  {
   "cell_type": "markdown",
   "id": "5c33bc6a",
   "metadata": {},
   "source": [
    "A similar method exists for the `&=` operator:"
   ]
  },
  {
   "cell_type": "code",
   "execution_count": 39,
   "id": "b6308fa3",
   "metadata": {},
   "outputs": [
    {
     "name": "stdout",
     "output_type": "stream",
     "text": [
      "{'apple'}\n"
     ]
    }
   ],
   "source": [
    "set1 = {\"apple\", \"banana\", \"cherry\"}\n",
    "set2 = {\"google\", \"microsoft\", \"apple\"}\n",
    "\n",
    "set1 &= set2\n",
    "\n",
    "print(set1)"
   ]
  },
  {
   "cell_type": "markdown",
   "id": "222728d7",
   "metadata": {},
   "source": [
    "# Additional Set Operators"
   ]
  },
  {
   "cell_type": "code",
   "execution_count": 40,
   "id": "356ab392",
   "metadata": {},
   "outputs": [],
   "source": [
    "# Union\n",
    "set1 |= set2   # same as set1.update(set2)\n",
    "\n",
    "# Difference  \n",
    "set1 -= set2   # same as set1.difference_update(set2)\n",
    "\n",
    "# Symmetric difference\n",
    "set1 ^= set2   # same as set1.symmetric_difference_update(set2)"
   ]
  },
  {
   "cell_type": "markdown",
   "id": "fe6ced11",
   "metadata": {},
   "source": [
    "# Difference\n",
    "\n",
    "The `difference()` method will return a new set that will contain only the items from the first set that are not present in the other set."
   ]
  },
  {
   "cell_type": "code",
   "execution_count": 41,
   "id": "31d4f8d7",
   "metadata": {},
   "outputs": [
    {
     "name": "stdout",
     "output_type": "stream",
     "text": [
      "{'cherry', 'banana'}\n"
     ]
    }
   ],
   "source": [
    "set1 = {\"apple\", \"banana\", \"cherry\"}\n",
    "set2 = {\"google\", \"microsoft\", \"apple\"}\n",
    "\n",
    "set3 = set1.difference(set2)\n",
    "\n",
    "print(set3)"
   ]
  },
  {
   "cell_type": "markdown",
   "id": "ac3bd8d7",
   "metadata": {},
   "source": [
    "You can use the `-` operator instead of the `difference()` method, and you will get the same result:"
   ]
  },
  {
   "cell_type": "code",
   "execution_count": 42,
   "id": "116cdf47",
   "metadata": {},
   "outputs": [
    {
     "name": "stdout",
     "output_type": "stream",
     "text": [
      "{'cherry', 'banana'}\n"
     ]
    }
   ],
   "source": [
    "set1 = {\"apple\", \"banana\", \"cherry\"}\n",
    "set2 = {\"google\", \"microsoft\", \"apple\"}\n",
    "\n",
    "set3 = set1 - set2\n",
    "\n",
    "print(set3)"
   ]
  },
  {
   "cell_type": "markdown",
   "id": "1bc9c885",
   "metadata": {},
   "source": [
    "The `difference_update()` method will also keep the items from the first set that are not in the other set, but it will change the original set instead of returning a new set."
   ]
  },
  {
   "cell_type": "code",
   "execution_count": 43,
   "id": "e357ec02",
   "metadata": {},
   "outputs": [
    {
     "name": "stdout",
     "output_type": "stream",
     "text": [
      "{'cherry', 'banana'}\n"
     ]
    }
   ],
   "source": [
    "set1 = {\"apple\", \"banana\", \"cherry\"}\n",
    "set2 = {\"google\", \"microsoft\", \"apple\"}\n",
    "\n",
    "set1.difference_update(set2)\n",
    "\n",
    "print(set1)"
   ]
  },
  {
   "cell_type": "markdown",
   "id": "a5141d6f",
   "metadata": {},
   "source": [
    "# Symmetric Differences\n",
    "\n",
    "The `symmetric_difference` method will keep only the elements that are NOT present in both sets."
   ]
  },
  {
   "cell_type": "code",
   "execution_count": 44,
   "id": "7faaedcf",
   "metadata": {},
   "outputs": [
    {
     "name": "stdout",
     "output_type": "stream",
     "text": [
      "{'microsoft', 'google', 'cherry', 'banana'}\n"
     ]
    }
   ],
   "source": [
    "set1 = {\"apple\", \"banana\", \"cherry\"}\n",
    "set2 = {\"google\", \"microsoft\", \"apple\"}\n",
    "\n",
    "set3 = set1.symmetric_difference(set2)\n",
    "\n",
    "print(set3)"
   ]
  },
  {
   "cell_type": "markdown",
   "id": "17740c57",
   "metadata": {},
   "source": [
    "You can use the `^` operator instead of the `symmetric_difference()` method, and you will get the same result.\n",
    "\n",
    "Note: The `^` operator only allows you to join sets with sets, and not with other data types like you can with the `symmetric_difference()` method."
   ]
  },
  {
   "cell_type": "code",
   "execution_count": 45,
   "id": "6be80e69",
   "metadata": {},
   "outputs": [
    {
     "name": "stdout",
     "output_type": "stream",
     "text": [
      "{'microsoft', 'google', 'cherry', 'banana'}\n"
     ]
    }
   ],
   "source": [
    "set1 = {\"apple\", \"banana\", \"cherry\"}\n",
    "set2 = {\"google\", \"microsoft\", \"apple\"}\n",
    "\n",
    "set3 = set1 ^ set2\n",
    "print(set3)"
   ]
  },
  {
   "cell_type": "markdown",
   "id": "5b7e31cc",
   "metadata": {},
   "source": [
    "The symmetric_difference_update() method will also keep all but the duplicates, but it will change the original set instead of returning a new set."
   ]
  },
  {
   "cell_type": "code",
   "execution_count": 46,
   "id": "1e0408b6",
   "metadata": {},
   "outputs": [
    {
     "name": "stdout",
     "output_type": "stream",
     "text": [
      "{'microsoft', 'cherry', 'google', 'banana'}\n"
     ]
    }
   ],
   "source": [
    "set1 = {\"apple\", \"banana\", \"cherry\"}\n",
    "set2 = {\"google\", \"microsoft\", \"apple\"}\n",
    "\n",
    "set1.symmetric_difference_update(set2)\n",
    "\n",
    "print(set1)"
   ]
  },
  {
   "cell_type": "markdown",
   "id": "5e595dd8",
   "metadata": {},
   "source": [
    "# Set Methods\n",
    "\n",
    "# Python Set Methods\n",
    "\n",
    "| Method | Operator | Description |\n",
    "|--------|----------|-------------|\n",
    "| `add()` | | Adds an element to the set |\n",
    "| `clear()` | | Removes all the elements from the set |\n",
    "| `copy()` | | Returns a copy of the set |\n",
    "| `difference()` | `-` | Returns a set containing the difference between two or more sets |\n",
    "| `difference_update()` | `-=` | Removes the items in this set that are also included in another, specified set |\n",
    "| `discard()` | | Remove the specified item |\n",
    "| `intersection()` | `&` | Returns a set, that is the intersection of two other sets |\n",
    "| `intersection_update()` | `&=` | Removes the items in this set that are not present in other, specified set(s) |\n",
    "| `isdisjoint()` | | Returns whether two sets have a intersection or not |\n",
    "| `issubset()` | `<=` | Returns whether another set contains this set or not |\n",
    "| | `<` | Returns whether all items in this set is present in other, specified set(s) |\n",
    "| `issuperset()` | `>=` | Returns whether this set contains another set or not |\n",
    "| | `>` | Returns whether all items in other, specified set(s) is present in this set |\n",
    "| `pop()` | | Removes an element from the set |\n",
    "| `remove()` | | Removes the specified element |\n",
    "| `symmetric_difference()` | `^` | Returns a set with the symmetric differences of two sets |\n",
    "| `symmetric_difference_update()` | `^=` | Inserts the symmetric differences from this set and another |\n",
    "| `union()` | `|` | Return a set containing the union of sets |\n",
    "| `update()` | `|=` | Update the set with the union of this set and others |"
   ]
  }
 ],
 "metadata": {
  "kernelspec": {
   "display_name": "Python 3",
   "language": "python",
   "name": "python3"
  },
  "language_info": {
   "codemirror_mode": {
    "name": "ipython",
    "version": 3
   },
   "file_extension": ".py",
   "mimetype": "text/x-python",
   "name": "python",
   "nbconvert_exporter": "python",
   "pygments_lexer": "ipython3",
   "version": "3.13.5"
  }
 },
 "nbformat": 4,
 "nbformat_minor": 5
}
