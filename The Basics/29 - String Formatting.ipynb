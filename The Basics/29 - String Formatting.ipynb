{
 "cells": [
  {
   "cell_type": "markdown",
   "id": "7b9818f2",
   "metadata": {},
   "source": [
    "# String Formatting\n",
    "\n",
    "F-String was introduced in Python 3.6, and is now the preferred way of formatting strings.\n",
    "\n",
    "Before Python 3.6 we had to use the `format()` method."
   ]
  },
  {
   "cell_type": "markdown",
   "id": "1aaa6960",
   "metadata": {},
   "source": [
    "# F-Strings\n",
    "\n",
    "F-string allows you to format selected parts of a string.\n",
    "\n",
    "To specify a string as an f-string, simply put an `f` in front of the string literal:"
   ]
  },
  {
   "cell_type": "code",
   "execution_count": 1,
   "id": "c08be38e",
   "metadata": {},
   "outputs": [
    {
     "name": "stdout",
     "output_type": "stream",
     "text": [
      "The price is 49 dollars\n"
     ]
    }
   ],
   "source": [
    "txt = f\"The price is 49 dollars\"\n",
    "print(txt)"
   ]
  },
  {
   "cell_type": "markdown",
   "id": "a7ead1a0",
   "metadata": {},
   "source": [
    "# Placeholders and Modifiers\n",
    "\n",
    "To format values in an f-string, add placeholders `{}`, a placeholder can contain variables, operations, functions, and modifiers to format the value."
   ]
  },
  {
   "cell_type": "code",
   "execution_count": 2,
   "id": "2828bd54",
   "metadata": {},
   "outputs": [
    {
     "name": "stdout",
     "output_type": "stream",
     "text": [
      "The price is 59 dollars\n"
     ]
    }
   ],
   "source": [
    "price = 59\n",
    "txt = f\"The price is {price} dollars\"\n",
    "print(txt)"
   ]
  },
  {
   "cell_type": "markdown",
   "id": "efd043d1",
   "metadata": {},
   "source": [
    "A placeholder can also include a modifier to format the value.\n",
    "\n",
    "A modifier is included by adding a colon `:` followed by a legal formatting type, like `.2f` which means fixed point number with 2 decimals:"
   ]
  },
  {
   "cell_type": "code",
   "execution_count": 3,
   "id": "8081d64f",
   "metadata": {},
   "outputs": [
    {
     "name": "stdout",
     "output_type": "stream",
     "text": [
      "The price is 59.00 dollars\n"
     ]
    }
   ],
   "source": [
    "# Display the price with 2 decimals\n",
    "\n",
    "price = 59\n",
    "txt = f\"The price is {price:.2f} dollars\"\n",
    "print(txt)"
   ]
  },
  {
   "cell_type": "markdown",
   "id": "35be7bcb",
   "metadata": {},
   "source": [
    "You can also format a value directly without keeping it in a variable:"
   ]
  },
  {
   "cell_type": "code",
   "execution_count": 4,
   "id": "def1557e",
   "metadata": {},
   "outputs": [
    {
     "name": "stdout",
     "output_type": "stream",
     "text": [
      "The price is 95.00 dollars\n"
     ]
    }
   ],
   "source": [
    "txt = f\"The price is {95:.2f} dollars\"\n",
    "print(txt)"
   ]
  },
  {
   "cell_type": "markdown",
   "id": "d2dd2ae5",
   "metadata": {},
   "source": [
    "# Perform Operations in F-Strings\n",
    "\n",
    "You can perform Python operations inside the placeholders.\n",
    "\n",
    "You can do math operations:"
   ]
  },
  {
   "cell_type": "code",
   "execution_count": 5,
   "id": "3282c802",
   "metadata": {},
   "outputs": [
    {
     "name": "stdout",
     "output_type": "stream",
     "text": [
      "The price is 1180 dollars\n"
     ]
    }
   ],
   "source": [
    "txt = f\"The price is {20 * 59} dollars\"\n",
    "print(txt)"
   ]
  },
  {
   "cell_type": "markdown",
   "id": "d880d4a7",
   "metadata": {},
   "source": [
    "You can perform math operations on variables:"
   ]
  },
  {
   "cell_type": "code",
   "execution_count": 6,
   "id": "46236cf4",
   "metadata": {},
   "outputs": [
    {
     "name": "stdout",
     "output_type": "stream",
     "text": [
      "The price is 73.75 dollars\n"
     ]
    }
   ],
   "source": [
    "price = 59\n",
    "tax = 0.25\n",
    "txt = f\"The price is {price + (price*tax)} dollars\"\n",
    "print(txt)"
   ]
  },
  {
   "cell_type": "markdown",
   "id": "29575835",
   "metadata": {},
   "source": [
    "You can perform `if...else` statements inside the placeholders:"
   ]
  },
  {
   "cell_type": "code",
   "execution_count": 8,
   "id": "39199bb4",
   "metadata": {},
   "outputs": [
    {
     "name": "stdout",
     "output_type": "stream",
     "text": [
      "It is very Cheap\n"
     ]
    }
   ],
   "source": [
    "price = 49\n",
    "txt = f\"It is very {'Expensive' if price>50 else 'Cheap'}\"\n",
    "print(txt)"
   ]
  },
  {
   "cell_type": "markdown",
   "id": "dc2560b7",
   "metadata": {},
   "source": [
    "# Execute Functions in F-Strings\n",
    "\n",
    "You can execute functions inside the placeholder:"
   ]
  },
  {
   "cell_type": "code",
   "execution_count": 11,
   "id": "8991be06",
   "metadata": {},
   "outputs": [
    {
     "name": "stdout",
     "output_type": "stream",
     "text": [
      "I love APPLES\n"
     ]
    }
   ],
   "source": [
    "fruit = \"apples\"\n",
    "txt = f\"I love {fruit.upper()}\"\n",
    "print(txt)"
   ]
  },
  {
   "cell_type": "markdown",
   "id": "cda21c95",
   "metadata": {},
   "source": [
    "You can also use your own functions:"
   ]
  },
  {
   "cell_type": "code",
   "execution_count": 13,
   "id": "22a43790",
   "metadata": {},
   "outputs": [
    {
     "name": "stdout",
     "output_type": "stream",
     "text": [
      "The plane is flying at a 914.4000000000001 meter altitude\n"
     ]
    }
   ],
   "source": [
    "def myconverter(x):\n",
    "    return x * 0.3048\n",
    "\n",
    "txt = f\"The plane is flying at a {myconverter(3000)} meter altitude\"\n",
    "print(txt)"
   ]
  },
  {
   "cell_type": "markdown",
   "id": "35d102ec",
   "metadata": {},
   "source": [
    "# More Modifiers"
   ]
  },
  {
   "cell_type": "code",
   "execution_count": 14,
   "id": "b060e0e9",
   "metadata": {},
   "outputs": [
    {
     "name": "stdout",
     "output_type": "stream",
     "text": [
      "The price is 59,000 dollars\n"
     ]
    }
   ],
   "source": [
    "# Use a comma as a thousand separator\n",
    "price = 59000\n",
    "txt = f\"The price is {price:,} dollars\"\n",
    "print(txt)"
   ]
  }
 ],
 "metadata": {
  "kernelspec": {
   "display_name": "Python 3",
   "language": "python",
   "name": "python3"
  },
  "language_info": {
   "codemirror_mode": {
    "name": "ipython",
    "version": 3
   },
   "file_extension": ".py",
   "mimetype": "text/x-python",
   "name": "python",
   "nbconvert_exporter": "python",
   "pygments_lexer": "ipython3",
   "version": "3.13.5"
  }
 },
 "nbformat": 4,
 "nbformat_minor": 5
}
