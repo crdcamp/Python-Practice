{
 "cells": [
  {
   "cell_type": "markdown",
   "id": "6c4ba923",
   "metadata": {},
   "source": [
    "# Slicing\n",
    "\n",
    "You can return a range of characters by using the slice syntax.\n",
    "\n",
    "Specify the start index and the end index, separated by a colon, to return a part of the string."
   ]
  },
  {
   "cell_type": "code",
   "execution_count": 1,
   "id": "212cbd6b",
   "metadata": {},
   "outputs": [
    {
     "name": "stdout",
     "output_type": "stream",
     "text": [
      "llo\n"
     ]
    }
   ],
   "source": [
    "b = \"Hello, World!\"\n",
    "print(b[2:5])"
   ]
  },
  {
   "cell_type": "markdown",
   "id": "e9e51ca4",
   "metadata": {},
   "source": [
    "# Slice From the Start\n",
    "\n",
    "By leaving out the start index, the range will start at the first character:"
   ]
  },
  {
   "cell_type": "code",
   "execution_count": 2,
   "id": "a0152e94",
   "metadata": {},
   "outputs": [
    {
     "name": "stdout",
     "output_type": "stream",
     "text": [
      "Hello\n"
     ]
    }
   ],
   "source": [
    "b = \"Hello, World!\"\n",
    "print(b[:5])"
   ]
  },
  {
   "cell_type": "markdown",
   "id": "ea879286",
   "metadata": {},
   "source": [
    "# Slice To the End\n",
    "\n",
    "By leaving out the end index, the range will go to the end:"
   ]
  },
  {
   "cell_type": "code",
   "execution_count": 3,
   "id": "020931f6",
   "metadata": {},
   "outputs": [
    {
     "name": "stdout",
     "output_type": "stream",
     "text": [
      "llo, World!\n"
     ]
    }
   ],
   "source": [
    "b = \"Hello, World!\"\n",
    "print(b[2:])"
   ]
  },
  {
   "cell_type": "markdown",
   "id": "e7f3fd8f",
   "metadata": {},
   "source": [
    "# Negative Indexing\n",
    "\n",
    "Use negative indexes to start the slice from the end of the string:"
   ]
  },
  {
   "cell_type": "code",
   "execution_count": 5,
   "id": "cfdb8350",
   "metadata": {},
   "outputs": [
    {
     "name": "stdout",
     "output_type": "stream",
     "text": [
      "orl\n"
     ]
    }
   ],
   "source": [
    "b = \"Hello, World!\"\n",
    "print(b[-5:-2])"
   ]
  },
  {
   "cell_type": "markdown",
   "id": "9bf0132c",
   "metadata": {},
   "source": [
    "# Modify Strings\n",
    "\n",
    "Python has a set of built-in methods that you can use on strings.\n",
    "\n",
    "The `upper()` method returns the string in upper case:"
   ]
  },
  {
   "cell_type": "code",
   "execution_count": 1,
   "id": "0f11ba84",
   "metadata": {},
   "outputs": [
    {
     "name": "stdout",
     "output_type": "stream",
     "text": [
      "HELLO, WORLD!\n"
     ]
    }
   ],
   "source": [
    "a = \"Hello, World!\"\n",
    "print(a.upper())"
   ]
  },
  {
   "cell_type": "markdown",
   "id": "dbf0ade7",
   "metadata": {},
   "source": [
    "# Lower Case\n",
    "\n",
    "The `lower()` method returns the string in lower case:"
   ]
  },
  {
   "cell_type": "code",
   "execution_count": 2,
   "id": "7c3b4ce6",
   "metadata": {},
   "outputs": [
    {
     "name": "stdout",
     "output_type": "stream",
     "text": [
      "hello, world!\n"
     ]
    }
   ],
   "source": [
    "a = \"Hello, World!\"\n",
    "print(a.lower())"
   ]
  },
  {
   "cell_type": "markdown",
   "id": "aad06041",
   "metadata": {},
   "source": [
    "# Remove Whitespace\n",
    "\n",
    "Whitespace is the space before and/or after the actual text, and very often you cant to remove this space.\n",
    "\n",
    "The `strip()` method removes any whitespace from the beginning or the end:"
   ]
  },
  {
   "cell_type": "code",
   "execution_count": 3,
   "id": "b45768d2",
   "metadata": {},
   "outputs": [
    {
     "name": "stdout",
     "output_type": "stream",
     "text": [
      "Hello, World!\n"
     ]
    }
   ],
   "source": [
    "a = \" Hello, World! \"\n",
    "print(a.strip())"
   ]
  },
  {
   "cell_type": "markdown",
   "id": "3106181d",
   "metadata": {},
   "source": [
    "# Replace a String\n",
    "\n",
    "The `replace()` method replaces a string with another string:"
   ]
  },
  {
   "cell_type": "code",
   "execution_count": 4,
   "id": "a5d86086",
   "metadata": {},
   "outputs": [
    {
     "name": "stdout",
     "output_type": "stream",
     "text": [
      "Jello, World!\n"
     ]
    }
   ],
   "source": [
    "a = \"Hello, World!\"\n",
    "print(a.replace(\"H\", \"J\"))"
   ]
  },
  {
   "cell_type": "markdown",
   "id": "8c8e0cb7",
   "metadata": {},
   "source": [
    "# Split String\n",
    "\n",
    "The `split()` method returns a list where the text between the specified separator becomes the list items."
   ]
  },
  {
   "cell_type": "code",
   "execution_count": 5,
   "id": "7f617934",
   "metadata": {},
   "outputs": [
    {
     "name": "stdout",
     "output_type": "stream",
     "text": [
      "['Hello', ' World!']\n"
     ]
    }
   ],
   "source": [
    "a = \"Hello, World!\"\n",
    "print(a.split(\",\"))"
   ]
  },
  {
   "cell_type": "markdown",
   "id": "8820f2a1",
   "metadata": {},
   "source": [
    "# Python String Methods\n",
    "\n",
    "Python has a set of built-in methods that you can use on strings.\n",
    "\n",
    "| Method | Description |\n",
    "|--------|-------------|\n",
    "| `capitalize()` | Converts the first character to upper case |\n",
    "| `casefold()` | Converts string into lower case |\n",
    "| `center()` | Returns a centered string |\n",
    "| `count()` | Returns the number of times a specified value occurs in a string |\n",
    "| `encode()` | Returns an encoded version of the string |\n",
    "| `endswith()` | Returns true if the string ends with the specified value |\n",
    "| `expandtabs()` | Sets the tab size of the string |\n",
    "| `find()` | Searches the string for a specified value and returns the position of where it was found |\n",
    "| `format()` | Formats specified values in a string |\n",
    "| `format_map()` | Formats specified values from a dictionary in a string |\n",
    "| `index()` | Searches the string for a specified value and returns the position of where it was found |\n",
    "| `isalnum()` | Returns True if all characters in the string are alphanumeric |\n",
    "| `isalpha()` | Returns True if all characters in the string are in the alphabet |\n",
    "| `isascii()` | Returns True if all characters in the string are ascii characters |\n",
    "| `isdecimal()` | Returns True if all characters in the string are decimals |\n",
    "| `isdigit()` | Returns True if all characters in the string are digits |\n",
    "| `isidentifier()` | Returns True if the string is an identifier |\n",
    "| `islower()` | Returns True if all characters in the string are lower case |\n",
    "| `isnumeric()` | Returns True if all characters in the string are numeric |\n",
    "| `isprintable()` | Returns True if all characters in the string are printable |\n",
    "| `isspace()` | Returns True if all characters in the string are whitespaces |\n",
    "| `istitle()` | Returns True if the string follows the rules of a title |\n",
    "| `isupper()` | Returns True if all characters in the string are upper case |\n",
    "| `join()` | Converts the elements of an iterable into a string |\n",
    "| `ljust()` | Returns a left justified version of the string |\n",
    "| `lower()` | Converts a string into lower case |\n",
    "| `lstrip()` | Returns a left trim version of the string |\n",
    "| `maketrans()` | Returns a translation table to be used in translations |\n",
    "| `partition()` | Returns a tuple where the string is parted into three parts |\n",
    "| `replace()` | Returns a string where a specified value is replaced with a specified value |\n",
    "| `rfind()` | Searches the string for a specified value and returns the last position of where it was found |\n",
    "| `rindex()` | Searches the string for a specified value and returns the last position of where it was found |\n",
    "| `rjust()` | Returns a right justified version of the string |\n",
    "| `rpartition()` | Returns a tuple where the string is parted into three parts |\n",
    "| `rsplit()` | Splits the string at the specified separator, and returns a list |\n",
    "| `rstrip()` | Returns a right trim version of the string |\n",
    "| `split()` | Splits the string at the specified separator, and returns a list |\n",
    "| `splitlines()` | Splits the string at line breaks and returns a list |\n",
    "| `startswith()` | Returns true if the string starts with the specified value |\n",
    "| `strip()` | Returns a trimmed version of the string |\n",
    "| `swapcase()` | Swaps cases, lower case becomes upper case and vice versa |\n",
    "| `title()` | Converts the first character of each word to upper case |\n",
    "| `translate()` | Returns a translated string |\n",
    "| `upper()` | Converts a string into upper case |\n",
    "| `zfill()` | Fills the string with a specified number of 0 values at the beginning |"
   ]
  },
  {
   "cell_type": "markdown",
   "id": "8f4e60e8",
   "metadata": {},
   "source": [
    "# String Concatenation\n",
    "\n",
    "To concatenate, or combine, two strings you can use the `+` operator.\n",
    "\n",
    "Merge variable `a` with variable `b` into variable `c`:"
   ]
  },
  {
   "cell_type": "code",
   "execution_count": 6,
   "id": "3e84beed",
   "metadata": {},
   "outputs": [
    {
     "name": "stdout",
     "output_type": "stream",
     "text": [
      "HelloWorld\n"
     ]
    }
   ],
   "source": [
    "a = \"Hello\"\n",
    "b = \"World\"\n",
    "c = a + b\n",
    "print(c)"
   ]
  },
  {
   "cell_type": "markdown",
   "id": "217d1975",
   "metadata": {},
   "source": [
    "To add a space between them, add a \" \":"
   ]
  },
  {
   "cell_type": "code",
   "execution_count": 7,
   "id": "b88e69fa",
   "metadata": {},
   "outputs": [
    {
     "name": "stdout",
     "output_type": "stream",
     "text": [
      "Hello World\n"
     ]
    }
   ],
   "source": [
    "a = \"Hello\"\n",
    "b = \"World\"\n",
    "c = a + \" \" + b\n",
    "print(c)"
   ]
  },
  {
   "cell_type": "markdown",
   "id": "890bce0d",
   "metadata": {},
   "source": [
    "# String Format\n",
    "\n",
    "As we learned in the Python Variables chapter, we cannot combine strings and numbers like this:"
   ]
  },
  {
   "cell_type": "code",
   "execution_count": 8,
   "id": "b2e07088",
   "metadata": {},
   "outputs": [
    {
     "ename": "TypeError",
     "evalue": "can only concatenate str (not \"int\") to str",
     "output_type": "error",
     "traceback": [
      "\u001b[31m---------------------------------------------------------------------------\u001b[39m",
      "\u001b[31mTypeError\u001b[39m                                 Traceback (most recent call last)",
      "\u001b[36mCell\u001b[39m\u001b[36m \u001b[39m\u001b[32mIn[8]\u001b[39m\u001b[32m, line 2\u001b[39m\n\u001b[32m      1\u001b[39m age = \u001b[32m36\u001b[39m\n\u001b[32m----> \u001b[39m\u001b[32m2\u001b[39m txt = \u001b[33;43m\"\u001b[39;49m\u001b[33;43mMy name is John, I am \u001b[39;49m\u001b[33;43m\"\u001b[39;49m\u001b[43m \u001b[49m\u001b[43m+\u001b[49m\u001b[43m \u001b[49m\u001b[43mage\u001b[49m\n\u001b[32m      3\u001b[39m \u001b[38;5;28mprint\u001b[39m(txt)\n",
      "\u001b[31mTypeError\u001b[39m: can only concatenate str (not \"int\") to str"
     ]
    }
   ],
   "source": [
    "age = 36\n",
    "txt = \"My name is John, I am \" + age\n",
    "print(txt)"
   ]
  },
  {
   "cell_type": "markdown",
   "id": "193c2c29",
   "metadata": {},
   "source": [
    "# F-Strings\n",
    "\n",
    "F-String was introduced in Python 3.6, and is now the preferred way of formatting strings.\n",
    "\n",
    "To specify a string as an f-string, simply put an `f` in front of the string literal, and add curly brackets `{}` as placeholders for variables and other operations."
   ]
  },
  {
   "cell_type": "code",
   "execution_count": 9,
   "id": "6730aa34",
   "metadata": {},
   "outputs": [
    {
     "name": "stdout",
     "output_type": "stream",
     "text": [
      "My name is John, I am 36\n"
     ]
    }
   ],
   "source": [
    "age = 36\n",
    "txt = f\"My name is John, I am {age}\"\n",
    "print(txt)"
   ]
  },
  {
   "cell_type": "markdown",
   "id": "9e6dbd4a",
   "metadata": {},
   "source": [
    "# Placeholders and Modifiers\n",
    "\n",
    "A placeholder can contain variables, operations, functions, and modifiers to format the value."
   ]
  },
  {
   "cell_type": "code",
   "execution_count": 10,
   "id": "87f31489",
   "metadata": {},
   "outputs": [
    {
     "name": "stdout",
     "output_type": "stream",
     "text": [
      "The price is 59 dollars\n"
     ]
    }
   ],
   "source": [
    "price = 59\n",
    "txt = f\"The price is {price} dollars\"\n",
    "print(txt)"
   ]
  },
  {
   "cell_type": "markdown",
   "id": "bdef3eb9",
   "metadata": {},
   "source": [
    "A placeholder can include a modifier to format the value.\n",
    "\n",
    "A modifier is included by adding a colon `:` followed by a legal formatting type, like `.2f` which means fixed point number with 2 decimals:"
   ]
  },
  {
   "cell_type": "code",
   "execution_count": 11,
   "id": "17344d5b",
   "metadata": {},
   "outputs": [
    {
     "name": "stdout",
     "output_type": "stream",
     "text": [
      "The price is 59.00 dollars\n"
     ]
    }
   ],
   "source": [
    "price = 59\n",
    "txt = f\"The price is {price:.2f} dollars\"\n",
    "print(txt)"
   ]
  },
  {
   "cell_type": "markdown",
   "id": "3bb722c7",
   "metadata": {},
   "source": [
    "A placeholder can contain Python code, like math operations:"
   ]
  },
  {
   "cell_type": "code",
   "execution_count": 12,
   "id": "2fdfb6f8",
   "metadata": {},
   "outputs": [
    {
     "name": "stdout",
     "output_type": "stream",
     "text": [
      "The price is 1180 dollars\n"
     ]
    }
   ],
   "source": [
    "txt = f\"The price is {20 * 59} dollars\"\n",
    "print(txt)"
   ]
  },
  {
   "cell_type": "markdown",
   "id": "785306b4",
   "metadata": {},
   "source": [
    "# Escape Character\n",
    "\n",
    "To insert characters that are illegal in a string, use an escape character.\n",
    "\n",
    "An escape character is a backslash \\ followed by the character you want to insert.\n",
    "\n",
    "An example of an illegal character is a double quote inside a string that is surrounded by double quotes:\n",
    "\n",
    "You will get an error if you use double quotes inside a string that is surrounded by double quotes:"
   ]
  },
  {
   "cell_type": "code",
   "execution_count": 13,
   "id": "892059a5",
   "metadata": {},
   "outputs": [
    {
     "ename": "SyntaxError",
     "evalue": "invalid syntax (7934146.py, line 1)",
     "output_type": "error",
     "traceback": [
      "  \u001b[36mCell\u001b[39m\u001b[36m \u001b[39m\u001b[32mIn[13]\u001b[39m\u001b[32m, line 1\u001b[39m\n\u001b[31m    \u001b[39m\u001b[31mtxt = \"We are the so-called \"Vikings\" from the north.\"\u001b[39m\n                                 ^\n\u001b[31mSyntaxError\u001b[39m\u001b[31m:\u001b[39m invalid syntax\n"
     ]
    }
   ],
   "source": [
    "txt = \"We are the so-called \"Vikings\" from the north.\""
   ]
  },
  {
   "cell_type": "markdown",
   "id": "dda0d823",
   "metadata": {},
   "source": [
    "To fix this problem, use the escape character `\\\"`:"
   ]
  },
  {
   "cell_type": "code",
   "execution_count": 15,
   "id": "c90f2b25",
   "metadata": {},
   "outputs": [
    {
     "name": "stdout",
     "output_type": "stream",
     "text": [
      "We are the so-caled \"Vikings\" from the north.\n"
     ]
    }
   ],
   "source": [
    "txt = \"We are the so-caled \\\"Vikings\\\" from the north.\"\n",
    "print(txt)"
   ]
  },
  {
   "cell_type": "markdown",
   "id": "8ecc5a5b",
   "metadata": {},
   "source": [
    "# More Escape Characters\n",
    "\n",
    "| Escape Sequence | Description |\n",
    "|-----------------|-------------|\n",
    "| `\\'` | Single Quote |\n",
    "| `\\\\` | Backslash |\n",
    "| `\\n` | New Line |\n",
    "| `\\r` | Carriage Return |\n",
    "| `\\t` | Tab |\n",
    "| `\\b` | Backspace |\n",
    "| `\\f` | Form Feed |\n",
    "| `\\ooo` | Octal value |\n",
    "| `\\xhh` | Hex value |"
   ]
  },
  {
   "cell_type": "markdown",
   "id": "c4e2dc87",
   "metadata": {},
   "source": [
    "# String Methods\n",
    "\n",
    "| Method | Description |\n",
    "|--------|-------------|\n",
    "| `capitalize()` | Converts the first character to upper case |\n",
    "| `casefold()` | Converts string into lower case |\n",
    "| `center()` | Returns a centered string |\n",
    "| `count()` | Returns the number of times a specified value occurs in a string |\n",
    "| `encode()` | Returns an encoded version of the string |\n",
    "| `endswith()` | Returns true if the string ends with the specified value |\n",
    "| `expandtabs()` | Sets the tab size of the string |\n",
    "| `find()` | Searches the string for a specified value and returns the position of where it was found |\n",
    "| `format()` | Formats specified values in a string |\n",
    "| `format_map()` | Formats specified values in a string |\n",
    "| `index()` | Searches the string for a specified value and returns the position of where it was found |\n",
    "| `isalnum()` | Returns True if all characters in the string are alphanumeric |\n",
    "| `isalpha()` | Returns True if all characters in the string are in the alphabet |\n",
    "| `isascii()` | Returns True if all characters in the string are ascii characters |\n",
    "| `isdecimal()` | Returns True if all characters in the string are decimals |\n",
    "| `isdigit()` | Returns True if all characters in the string are digits |\n",
    "| `isidentifier()` | Returns True if the string is an identifier |\n",
    "| `islower()` | Returns True if all characters in the string are lower case |\n",
    "| `isnumeric()` | Returns True if all characters in the string are numeric |\n",
    "| `isprintable()` | Returns True if all characters in the string are printable |\n",
    "| `isspace()` | Returns True if all characters in the string are whitespaces |\n",
    "| `istitle()` | Returns True if the string follows the rules of a title |\n",
    "| `isupper()` | Returns True if all characters in the string are upper case |\n",
    "| `join()` | Joins the elements of an iterable to the end of the string |\n",
    "| `ljust()` | Returns a left justified version of the string |\n",
    "| `lower()` | Converts a string into lower case |\n",
    "| `lstrip()` | Returns a left trim version of the string |\n",
    "| `maketrans()` | Returns a translation table to be used in translations |\n",
    "| `partition()` | Returns a tuple where the string is parted into three parts |\n",
    "| `replace()` | Returns a string where a specified value is replaced with a specified value |\n",
    "| `rfind()` | Searches the string for a specified value and returns the last position of where it was found |\n",
    "| `rindex()` | Searches the string for a specified value and returns the last position of where it was found |\n",
    "| `rjust()` | Returns a right justified version of the string |\n",
    "| `rpartition()` | Returns a tuple where the string is parted into three parts |\n",
    "| `rsplit()` | Splits the string at the specified separator, and returns a list |\n",
    "| `rstrip()` | Returns a right trim version of the string |\n",
    "| `split()` | Splits the string at the specified separator, and returns a list |\n",
    "| `splitlines()` | Splits the string at line breaks and returns a list |\n",
    "| `startswith()` | Returns true if the string starts with the specified value |\n",
    "| `strip()` | Returns a trimmed version of the string |\n",
    "| `swapcase()` | Swaps cases, lower case becomes upper case and vice versa |\n",
    "| `title()` | Converts the first character of each word to upper case |\n",
    "| `translate()` | Returns a translated string |\n",
    "| `upper()` | Converts a string into upper case |\n",
    "| `zfill()` | Fills the string with a specified number of 0 values at the beginning |"
   ]
  }
 ],
 "metadata": {
  "kernelspec": {
   "display_name": "Python 3",
   "language": "python",
   "name": "python3"
  },
  "language_info": {
   "codemirror_mode": {
    "name": "ipython",
    "version": 3
   },
   "file_extension": ".py",
   "mimetype": "text/x-python",
   "name": "python",
   "nbconvert_exporter": "python",
   "pygments_lexer": "ipython3",
   "version": "3.13.5"
  }
 },
 "nbformat": 4,
 "nbformat_minor": 5
}
