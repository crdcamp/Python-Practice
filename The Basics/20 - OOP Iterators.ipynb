{
 "cells": [
  {
   "cell_type": "markdown",
   "id": "bc5003f8",
   "metadata": {},
   "source": [
    "# Iterators\n",
    "\n",
    "An iterator is an object that contains a countable number of values.\n",
    "\n",
    "An iterator is an object that can be iterated upon, meaning that you can traverse through all the values.\n",
    "\n",
    "Technicaly, in Python, an iterator is an object which implements the iterator protocol, which consist of the methods `__iter__()` and `__next__()`.\n",
    "\n",
    "# Iterator vs Iterable\n",
    "\n",
    "**Lists, tuples, dictionaries, and sets** are all iterable objects. They are iterable containers which you can get an iterator from.\n",
    "\n",
    "All these objects have a `iter()` method which is used to get an iterator:"
   ]
  },
  {
   "cell_type": "code",
   "execution_count": 25,
   "id": "59427671",
   "metadata": {},
   "outputs": [
    {
     "name": "stdout",
     "output_type": "stream",
     "text": [
      "apple\n",
      "banana\n",
      "cherry\n"
     ]
    }
   ],
   "source": [
    "mytuple = (\"apple\", \"banana\", \"cherry\")\n",
    "\n",
    "myit = iter(mytuple)\n",
    "\n",
    "# Their way\n",
    "print(next(myit))\n",
    "print(next(myit))\n",
    "print(next(myit))\n",
    "\n",
    "# My way\n",
    "for iterable in myit:\n",
    "    print(myit)"
   ]
  },
  {
   "cell_type": "markdown",
   "id": "120a859a",
   "metadata": {},
   "source": [
    "Strings are also iterable (duh):"
   ]
  },
  {
   "cell_type": "code",
   "execution_count": 23,
   "id": "f3cd9b38",
   "metadata": {},
   "outputs": [
    {
     "name": "stdout",
     "output_type": "stream",
     "text": [
      "b\n",
      "a\n",
      "n\n",
      "a\n",
      "n\n",
      "a\n"
     ]
    }
   ],
   "source": [
    "mystr = \"banana\"\n",
    "myit = iter(mystr)\n",
    "\n",
    "print(next(myit))\n",
    "print(next(myit))\n",
    "print(next(myit))\n",
    "print(next(myit))\n",
    "print(next(myit))\n",
    "print(next(myit))"
   ]
  },
  {
   "cell_type": "markdown",
   "id": "24460ed0",
   "metadata": {},
   "source": [
    "# Loopiong Through an Iterator\n",
    "\n",
    "We can also use a `for` loop to iterate through an iterable object:"
   ]
  },
  {
   "cell_type": "code",
   "execution_count": 24,
   "id": "600aab09",
   "metadata": {},
   "outputs": [
    {
     "name": "stdout",
     "output_type": "stream",
     "text": [
      "apple\n",
      "banana\n",
      "cherry\n"
     ]
    }
   ],
   "source": [
    "mytuple = (\"apple\", \"banana\", \"cherry\")\n",
    "\n",
    "for x in mytuple:\n",
    "    print(x)"
   ]
  },
  {
   "cell_type": "markdown",
   "id": "b76717bf",
   "metadata": {},
   "source": [
    "The `for` loop actually creates an iterator object and executes the `next()` method for each loop.\n",
    "\n",
    "# Create an Iterator\n",
    "\n",
    "To create an object/class as an iterator, you have to implement the methods `__iter__()` and `__next__()` to your object.\n",
    "\n",
    "As you've already learned, all classes have a function called `__init__()`, which allows you to do some initializing when the object is being created.\n",
    "\n",
    "The `__iter__()` method acts similar, you can do operations (initializing, etc.), but must always return the iterator object itself.\n",
    "\n",
    "The `__next__()` method also allows you to do operations, and must return the next item in the sequence.\n",
    "\n",
    "Create an iterator that returns numbers, starting with 1, and each sequence will increase by one:"
   ]
  },
  {
   "cell_type": "code",
   "execution_count": 12,
   "id": "323df7a2",
   "metadata": {},
   "outputs": [
    {
     "name": "stdout",
     "output_type": "stream",
     "text": [
      "1\n",
      "2\n",
      "3\n",
      "4\n",
      "5\n"
     ]
    }
   ],
   "source": [
    "class MyNumbers:\n",
    "    def __iter__(self):\n",
    "        self.a = 1\n",
    "        return self\n",
    "    def __next__(self):\n",
    "        x = self.a\n",
    "        self.a += 1\n",
    "        return x\n",
    "\n",
    "myclass = MyNumbers()\n",
    "myiter = iter(myclass)\n",
    "\n",
    "print(next(myiter))\n",
    "print(next(myiter))\n",
    "print(next(myiter))\n",
    "print(next(myiter))\n",
    "print(next(myiter))"
   ]
  },
  {
   "cell_type": "markdown",
   "id": "cbe30e8b",
   "metadata": {},
   "source": [
    "# StopIteration\n",
    "\n",
    "The example above would continue forever if you hgad enough `next()` statements, or if it was used in a `for` loop.\n",
    "\n",
    "To prevent the iteration from going on forever, we can use the `StopIteration` statement.\n",
    "\n",
    "In the `__next__()` method, we can add a terminating condition to raise an error if the iteration is done a specified number of times:"
   ]
  },
  {
   "cell_type": "code",
   "execution_count": null,
   "id": "3a331e0f",
   "metadata": {},
   "outputs": [
    {
     "name": "stdout",
     "output_type": "stream",
     "text": [
      "1\n",
      "2\n",
      "3\n",
      "4\n",
      "5\n",
      "6\n",
      "7\n",
      "8\n",
      "9\n",
      "10\n",
      "11\n",
      "12\n",
      "13\n",
      "14\n",
      "15\n",
      "16\n",
      "17\n",
      "18\n",
      "19\n",
      "20\n"
     ]
    }
   ],
   "source": [
    "class MyNumbers:\n",
    "    def __iter__(self):\n",
    "        self.a = 1\n",
    "        return self\n",
    "    def __next__(self):\n",
    "        if self.a <= 20:\n",
    "            x = self.a\n",
    "            self.a += 1\n",
    "            return x\n",
    "        else:\n",
    "            raise StopIteration\n",
    "        \n",
    "myclass = MyNumbers()\n",
    "myiter = iter(myclass)\n",
    "\n",
    "for x in myiter:\n",
    "    print(x)"
   ]
  }
 ],
 "metadata": {
  "kernelspec": {
   "display_name": "Python 3",
   "language": "python",
   "name": "python3"
  },
  "language_info": {
   "codemirror_mode": {
    "name": "ipython",
    "version": 3
   },
   "file_extension": ".py",
   "mimetype": "text/x-python",
   "name": "python",
   "nbconvert_exporter": "python",
   "pygments_lexer": "ipython3",
   "version": "3.13.5"
  }
 },
 "nbformat": 4,
 "nbformat_minor": 5
}
