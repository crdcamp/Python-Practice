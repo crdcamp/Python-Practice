{
 "cells": [
  {
   "cell_type": "markdown",
   "id": "acf01665",
   "metadata": {},
   "source": [
    "# Creating a Function\n",
    "\n",
    "A function is defined using the `def` keyword:"
   ]
  },
  {
   "cell_type": "code",
   "execution_count": 2,
   "id": "bee751f1",
   "metadata": {},
   "outputs": [
    {
     "name": "stdout",
     "output_type": "stream",
     "text": [
      "Hello\n"
     ]
    }
   ],
   "source": [
    "def my_function():\n",
    "    print(\"Hello\")\n",
    "\n",
    "my_function()"
   ]
  },
  {
   "cell_type": "markdown",
   "id": "0f109f62",
   "metadata": {},
   "source": [
    "# Calling a Function"
   ]
  },
  {
   "cell_type": "code",
   "execution_count": 3,
   "id": "42bbc0e5",
   "metadata": {},
   "outputs": [
    {
     "name": "stdout",
     "output_type": "stream",
     "text": [
      "Hello from a function\n"
     ]
    }
   ],
   "source": [
    "def my_function():\n",
    "  print(\"Hello from a function\")\n",
    "\n",
    "my_function()"
   ]
  },
  {
   "cell_type": "markdown",
   "id": "11b2f017",
   "metadata": {},
   "source": [
    "# Arguments\n",
    "\n",
    "Information can be passed into functions as arguments.\n",
    "\n",
    "Arguments are specified after the function name, inside the parentheses. You can add as many arguments as you want, just separate them with a comma.\n",
    "\n",
    "The following example has a function with one argument (fname). When the function is called, we pass along a first name, which is used inside the function to print the full name:"
   ]
  },
  {
   "cell_type": "code",
   "execution_count": 5,
   "id": "2b1d18a7",
   "metadata": {},
   "outputs": [
    {
     "name": "stdout",
     "output_type": "stream",
     "text": [
      "Emil Refnses\n",
      "Tobias Refnses\n",
      "Linus Refnses\n"
     ]
    }
   ],
   "source": [
    "def my_function(fname):\n",
    "    print(fname + \" Refnses\")\n",
    "\n",
    "my_function(\"Emil\")\n",
    "my_function(\"Tobias\")\n",
    "my_function(\"Linus\")"
   ]
  },
  {
   "cell_type": "markdown",
   "id": "1502d2eb",
   "metadata": {},
   "source": [
    "# Parameters or Arguments?\n",
    "\n",
    "The terms parameter and argument can be used for the same thing: information that are passed into a function.\n",
    "\n",
    "From a function's perspective:\n",
    "\n",
    "A parameter is the variable listed inside the parentheses in the function definition.\n",
    "\n",
    "An argument is the value that is sent to the function when it's called\n",
    "\n",
    "# Number of Arguments\n",
    "\n",
    "By default, a function must be called with the correct number of arguments. Meaning that if your function expects 2 arguments, you have to call the funciton with 2 arguments."
   ]
  },
  {
   "cell_type": "code",
   "execution_count": 6,
   "id": "3e00bfa2",
   "metadata": {},
   "outputs": [
    {
     "name": "stdout",
     "output_type": "stream",
     "text": [
      "Emil Refsnes\n"
     ]
    }
   ],
   "source": [
    "def my_function(fname, lname):\n",
    "    print(fname + \" \" + lname)\n",
    "\n",
    "my_function(\"Emil\", \"Refsnes\")"
   ]
  },
  {
   "cell_type": "markdown",
   "id": "1dd7df5f",
   "metadata": {},
   "source": [
    "# Arbitrary Arguments, *args\n",
    "\n",
    "If you fo not know how many arguments will be passed into your function, add a `*` before the parameter name in the function definition.\n",
    "\n",
    "This way the function will receive a tuple of arguments, and can access the items accordingly:"
   ]
  },
  {
   "cell_type": "code",
   "execution_count": 7,
   "id": "c1b42a16",
   "metadata": {},
   "outputs": [
    {
     "name": "stdout",
     "output_type": "stream",
     "text": [
      "The youngest child is Linus\n"
     ]
    }
   ],
   "source": [
    "def my_function(*kids):\n",
    "    print(\"The youngest child is \" + kids[2])\n",
    "\n",
    "my_function(\"Emil\", \"Tobias\", \"Linus\")"
   ]
  },
  {
   "cell_type": "markdown",
   "id": "206dcd1c",
   "metadata": {},
   "source": [
    "# Keyword Arguments\n",
    "\n",
    "You can also send arguments with the key = value syntax.\n",
    "\n",
    "This way the order of the arguments does not matter."
   ]
  },
  {
   "cell_type": "code",
   "execution_count": 8,
   "id": "3d0bc8ae",
   "metadata": {},
   "outputs": [
    {
     "name": "stdout",
     "output_type": "stream",
     "text": [
      "The youngest child is Linus\n"
     ]
    }
   ],
   "source": [
    "def my_function(child3, child2, child1):\n",
    "    print(\"The youngest child is \" + child3)\n",
    "\n",
    "my_function(child1 = \"Emil\", child2 = \"Tobias\", child3= \"Linus\")"
   ]
  },
  {
   "cell_type": "markdown",
   "id": "2dd3b373",
   "metadata": {},
   "source": [
    "# Arbitrary Keyword Arguments, **kwargs\n",
    "\n",
    "If you do not know how many keyword arguments will be passed into your function, add two asterisks: ``**` before the parameter name in the function definition.\n",
    "\n",
    "This way the function will receive a dictionary of arguments, and can access the items accordingly:"
   ]
  },
  {
   "cell_type": "code",
   "execution_count": 9,
   "id": "376d3f55",
   "metadata": {},
   "outputs": [
    {
     "name": "stdout",
     "output_type": "stream",
     "text": [
      "His last name is Refsnes\n"
     ]
    }
   ],
   "source": [
    "def my_function(**kid):\n",
    "    print(\"His last name is \" + kid[\"lname\"])\n",
    "\n",
    "my_function(fname = \"Tobias\", lname = \"Refsnes\")"
   ]
  },
  {
   "cell_type": "markdown",
   "id": "b68ecfb2",
   "metadata": {},
   "source": [
    "# Default Parameter Value\n",
    "\n",
    "The following example shows how to use a default parameter value.\n",
    "\n",
    "If we call the function without argument, it uses the default values:"
   ]
  },
  {
   "cell_type": "code",
   "execution_count": 10,
   "id": "ea311358",
   "metadata": {},
   "outputs": [
    {
     "name": "stdout",
     "output_type": "stream",
     "text": [
      "I am from Sweden\n",
      "I am from India\n",
      "I am from Norway\n"
     ]
    }
   ],
   "source": [
    "def my_function(country = \"Norway\"):\n",
    "    print(\"I am from \" + country)\n",
    "\n",
    "my_function(\"Sweden\")\n",
    "my_function(\"India\")\n",
    "my_function()"
   ]
  },
  {
   "cell_type": "markdown",
   "id": "bd080ccf",
   "metadata": {},
   "source": [
    "# Passing a List as an Argument\n",
    "\n",
    "You can send any data types of argument to a function (string, number, list, dictionary, etc.) and it will be treated as the same data type inside the function."
   ]
  },
  {
   "cell_type": "code",
   "execution_count": 12,
   "id": "fd061a4f",
   "metadata": {},
   "outputs": [
    {
     "name": "stdout",
     "output_type": "stream",
     "text": [
      "apple\n",
      "banana\n",
      "cherry\n"
     ]
    }
   ],
   "source": [
    "def my_function(food):\n",
    "    for x in food:\n",
    "        print(x)\n",
    "\n",
    "fruits = [\"apple\", \"banana\", \"cherry\"]\n",
    "\n",
    "my_function(fruits)"
   ]
  },
  {
   "cell_type": "markdown",
   "id": "ce4b4471",
   "metadata": {},
   "source": [
    "# Return Values\n",
    "\n",
    "To let a function return a value, use the `return` statement:"
   ]
  },
  {
   "cell_type": "code",
   "execution_count": 13,
   "id": "7a89fef6",
   "metadata": {},
   "outputs": [
    {
     "name": "stdout",
     "output_type": "stream",
     "text": [
      "15\n"
     ]
    }
   ],
   "source": [
    "def my_function(x):\n",
    "    return 5 * x\n",
    "\n",
    "print(my_function(3))"
   ]
  },
  {
   "cell_type": "markdown",
   "id": "f8e193dc",
   "metadata": {},
   "source": [
    "# The pass Statement\n",
    "\n",
    "`function` definitions cannot be empty, but if you for some reason have a `function` definition with no content, put in the `pass` statement to avoid getting an error:"
   ]
  },
  {
   "cell_type": "code",
   "execution_count": 14,
   "id": "ce04067e",
   "metadata": {},
   "outputs": [],
   "source": [
    "def my_function():\n",
    "    pass\n",
    "\n",
    "my_function()"
   ]
  },
  {
   "cell_type": "markdown",
   "id": "74cd3759",
   "metadata": {},
   "source": [
    "# Positional- Only Arguments\n",
    "\n",
    "You can specify that a function can have ONLY positional arguments, or ONLY keyword arguments.\n",
    "\n",
    "To specify that a function can have only positional arguments, add `, /` after the arguments:"
   ]
  },
  {
   "cell_type": "code",
   "execution_count": 15,
   "id": "70ab486c",
   "metadata": {},
   "outputs": [
    {
     "name": "stdout",
     "output_type": "stream",
     "text": [
      "3\n"
     ]
    }
   ],
   "source": [
    "def my_function(x, /):\n",
    "    print(x)\n",
    "\n",
    "my_function(3)"
   ]
  },
  {
   "cell_type": "markdown",
   "id": "54b5fd99",
   "metadata": {},
   "source": [
    "Without the `, /` you are actually allowed to use keyword arguments even if the function expects positional arguments:"
   ]
  },
  {
   "cell_type": "code",
   "execution_count": 16,
   "id": "ec4a26a8",
   "metadata": {},
   "outputs": [
    {
     "name": "stdout",
     "output_type": "stream",
     "text": [
      "3\n"
     ]
    }
   ],
   "source": [
    "def my_function(x):\n",
    "    print(x)\n",
    "\n",
    "my_function(x = 3)"
   ]
  },
  {
   "cell_type": "markdown",
   "id": "14c2439b",
   "metadata": {},
   "source": [
    "But when adding the `, /` you will get an error if you try to send a keyword argument:"
   ]
  },
  {
   "cell_type": "code",
   "execution_count": 17,
   "id": "0304a5a3",
   "metadata": {},
   "outputs": [
    {
     "ename": "TypeError",
     "evalue": "my_function() got some positional-only arguments passed as keyword arguments: 'x'",
     "output_type": "error",
     "traceback": [
      "\u001b[31m---------------------------------------------------------------------------\u001b[39m",
      "\u001b[31mTypeError\u001b[39m                                 Traceback (most recent call last)",
      "\u001b[36mCell\u001b[39m\u001b[36m \u001b[39m\u001b[32mIn[17]\u001b[39m\u001b[32m, line 4\u001b[39m\n\u001b[32m      1\u001b[39m \u001b[38;5;28;01mdef\u001b[39;00m\u001b[38;5;250m \u001b[39m\u001b[34mmy_function\u001b[39m(x, /):\n\u001b[32m      2\u001b[39m     \u001b[38;5;28mprint\u001b[39m(x)\n\u001b[32m----> \u001b[39m\u001b[32m4\u001b[39m \u001b[43mmy_function\u001b[49m\u001b[43m(\u001b[49m\u001b[43mx\u001b[49m\u001b[43m \u001b[49m\u001b[43m=\u001b[49m\u001b[43m \u001b[49m\u001b[32;43m3\u001b[39;49m\u001b[43m)\u001b[49m\n",
      "\u001b[31mTypeError\u001b[39m: my_function() got some positional-only arguments passed as keyword arguments: 'x'"
     ]
    }
   ],
   "source": [
    "def my_function(x, /):\n",
    "    print(x)\n",
    "\n",
    "my_function(x = 3)"
   ]
  },
  {
   "cell_type": "markdown",
   "id": "7b655f87",
   "metadata": {},
   "source": [
    "# Keyword-Only Arguments\n",
    "\n",
    "To specify that a function can have only keyword arguments, add `*, ` before the arguments:"
   ]
  },
  {
   "cell_type": "code",
   "execution_count": 18,
   "id": "0984ab71",
   "metadata": {},
   "outputs": [
    {
     "name": "stdout",
     "output_type": "stream",
     "text": [
      "3\n"
     ]
    }
   ],
   "source": [
    "def my_function(*, x):\n",
    "    print(x)\n",
    "\n",
    "my_function(x = 3)"
   ]
  },
  {
   "cell_type": "markdown",
   "id": "2315e2dc",
   "metadata": {},
   "source": [
    "Without the `*, ` you are allowed to use positional arguments even if the function expects keyword arguments:"
   ]
  },
  {
   "cell_type": "code",
   "execution_count": 20,
   "id": "a0f29ecc",
   "metadata": {},
   "outputs": [
    {
     "ename": "TypeError",
     "evalue": "my_function() takes 0 positional arguments but 1 was given",
     "output_type": "error",
     "traceback": [
      "\u001b[31m---------------------------------------------------------------------------\u001b[39m",
      "\u001b[31mTypeError\u001b[39m                                 Traceback (most recent call last)",
      "\u001b[36mCell\u001b[39m\u001b[36m \u001b[39m\u001b[32mIn[20]\u001b[39m\u001b[32m, line 4\u001b[39m\n\u001b[32m      1\u001b[39m \u001b[38;5;28;01mdef\u001b[39;00m\u001b[38;5;250m \u001b[39m\u001b[34mmy_function\u001b[39m(*, x):\n\u001b[32m      2\u001b[39m     \u001b[38;5;28mprint\u001b[39m(x)\n\u001b[32m----> \u001b[39m\u001b[32m4\u001b[39m \u001b[43mmy_function\u001b[49m\u001b[43m(\u001b[49m\u001b[32;43m3\u001b[39;49m\u001b[43m)\u001b[49m\n",
      "\u001b[31mTypeError\u001b[39m: my_function() takes 0 positional arguments but 1 was given"
     ]
    }
   ],
   "source": [
    "def my_function(*, x):\n",
    "    print(x)\n",
    "\n",
    "my_function(3)"
   ]
  },
  {
   "cell_type": "markdown",
   "id": "a097bcc0",
   "metadata": {},
   "source": [
    "# Combine Positional-Only and Keyword-Only"
   ]
  },
  {
   "cell_type": "code",
   "execution_count": 21,
   "id": "9c210fa5",
   "metadata": {},
   "outputs": [
    {
     "name": "stdout",
     "output_type": "stream",
     "text": [
      "26\n"
     ]
    }
   ],
   "source": [
    "def my_function(a, b, /, *, c, d):\n",
    "    print(a + b + c + d)\n",
    "\n",
    "my_function(5, 6, c = 7, d = 8)"
   ]
  },
  {
   "cell_type": "markdown",
   "id": "e51b16e7",
   "metadata": {},
   "source": [
    "# Recursion\n",
    "\n",
    "Python also accepts function recursion, which means a defined function can call itself.\n",
    "\n",
    "Recursion is a common mathematical and programming concept. When a function calls itself, this has the benefit of being able to loop through data to reach a result.\n",
    "\n",
    "The developer should be very careful with recursion as it can be easy to end up with an infinitely looping function. However, when written correctly recursion can be a very efficient and mathematically-elegant approach to programming.\n",
    "\n",
    "In this example, `tri_recursion()` is a function that we have defined to recurse. We use the `k` variable as the data, which decrements `(-1)` every time we recurse. The recursion ends when the condition is not greater than 0."
   ]
  },
  {
   "cell_type": "code",
   "execution_count": 29,
   "id": "9c0bf38d",
   "metadata": {},
   "outputs": [
    {
     "name": "stdout",
     "output_type": "stream",
     "text": [
      "1\n",
      "3\n",
      "6\n",
      "10\n",
      "15\n",
      "21\n"
     ]
    },
    {
     "data": {
      "text/plain": [
       "21"
      ]
     },
     "execution_count": 29,
     "metadata": {},
     "output_type": "execute_result"
    }
   ],
   "source": [
    "def tri_recursion(k):\n",
    "    if (k > 0):\n",
    "        result = k + tri_recursion(k - 1)\n",
    "        print(result)\n",
    "    else:\n",
    "        result = 0\n",
    "    return result\n",
    "\n",
    "tri_recursion(6)"
   ]
  },
  {
   "cell_type": "markdown",
   "id": "07d7f189",
   "metadata": {},
   "source": [
    "Personal attempt to make sense of this:"
   ]
  },
  {
   "cell_type": "code",
   "execution_count": 92,
   "id": "57e42ce6",
   "metadata": {},
   "outputs": [
    {
     "name": "stdout",
     "output_type": "stream",
     "text": [
      "Base case: tri_recursion(0) = 0\n",
      "\n",
      "ITERATION 6:\n",
      "Current k value = 1\n",
      "tri_recursion(0) returned: 0\n",
      "Actual calculation: 1 + 0 = 1\n",
      "RESULT = 1\n",
      "\n",
      "ITERATION 5:\n",
      "Current k value = 2\n",
      "tri_recursion(1) returned: 1\n",
      "Actual calculation: 2 + 1 = 3\n",
      "RESULT = 3\n",
      "\n",
      "ITERATION 4:\n",
      "Current k value = 3\n",
      "tri_recursion(2) returned: 3\n",
      "Actual calculation: 3 + 3 = 6\n",
      "RESULT = 6\n",
      "\n",
      "ITERATION 3:\n",
      "Current k value = 4\n",
      "tri_recursion(3) returned: 6\n",
      "Actual calculation: 4 + 6 = 10\n",
      "RESULT = 10\n",
      "\n",
      "ITERATION 2:\n",
      "Current k value = 5\n",
      "tri_recursion(4) returned: 10\n",
      "Actual calculation: 5 + 10 = 15\n",
      "RESULT = 15\n",
      "\n",
      "ITERATION 1:\n",
      "Current k value = 6\n",
      "tri_recursion(5) returned: 15\n",
      "Actual calculation: 6 + 15 = 21\n",
      "RESULT = 21\n",
      "\n"
     ]
    },
    {
     "data": {
      "text/plain": [
       "21"
      ]
     },
     "execution_count": 92,
     "metadata": {},
     "output_type": "execute_result"
    }
   ],
   "source": [
    "def tri_recursion(k, iteration=1):\n",
    "    if (k > 0):\n",
    "        recursive_result = tri_recursion(k - 1, iteration + 1)\n",
    "        result = k + recursive_result\n",
    "\n",
    "        print(f\"ITERATION {iteration}:\")\n",
    "        print(f\"Current k value = {k}\")\n",
    "        print(f\"tri_recursion({k-1}) returned: {recursive_result}\")\n",
    "        print(f\"Actual calculation: {k} + {recursive_result} = {result}\")\n",
    "        print(f\"RESULT = {result}\\n\")\n",
    "\n",
    "    else:\n",
    "        result = 0\n",
    "        print(f\"Base case: tri_recursion(0) = 0\\n\")\n",
    "\n",
    "    return result\n",
    "\n",
    "tri_recursion(6)"
   ]
  }
 ],
 "metadata": {
  "kernelspec": {
   "display_name": "Python 3",
   "language": "python",
   "name": "python3"
  },
  "language_info": {
   "codemirror_mode": {
    "name": "ipython",
    "version": 3
   },
   "file_extension": ".py",
   "mimetype": "text/x-python",
   "name": "python",
   "nbconvert_exporter": "python",
   "pygments_lexer": "ipython3",
   "version": "3.13.5"
  }
 },
 "nbformat": 4,
 "nbformat_minor": 5
}
