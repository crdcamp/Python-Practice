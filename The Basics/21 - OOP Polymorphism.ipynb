{
 "cells": [
  {
   "cell_type": "markdown",
   "id": "70038a8d",
   "metadata": {},
   "source": [
    "# Polymorphism\n",
    "\n",
    "Polymorphism means \"many forms\", and in programming it refers to methods/functions/operators with the same name that can be executed on many objects or classes.\n",
    "\n",
    "## Function Polymorphism\n",
    "\n",
    "An example of a Python function that can be used on different objects is the `len()` function.\n"
   ]
  },
  {
   "cell_type": "code",
   "execution_count": 5,
   "id": "3f2e5c31",
   "metadata": {},
   "outputs": [
    {
     "name": "stdout",
     "output_type": "stream",
     "text": [
      "a_string: A freakin String.\n",
      "Length: 17\n",
      "\n",
      "a_tuple: ('A tuple', 'That', 'Is a tuple')\n",
      "Length: 3\n",
      "\n",
      "a_dictionary: {'brand': 'Ford', 'model': 'Mustang', 'year': 1964}\n",
      "Length: 3\n",
      "\n"
     ]
    }
   ],
   "source": [
    "different_objects = {\n",
    "    \"a_string\": \"A freakin String.\",\n",
    "    \"a_tuple\": (\"A tuple\", \"That\", \"Is a tuple\"),\n",
    "    \"a_dictionary\": {\n",
    "        \"brand\": \"Ford\",\n",
    "        \"model\": \"Mustang\",\n",
    "        \"year\": 1964\n",
    "    },\n",
    "}\n",
    "\n",
    "for object, entry in different_objects.items():\n",
    "    print(f\"{object}: {entry}\\nLength: {len(entry)}\\n\")"
   ]
  },
  {
   "cell_type": "markdown",
   "id": "5245de05",
   "metadata": {},
   "source": [
    "# Class Polymorphism\n",
    "\n",
    "Polymorphism is often used in Class methods, where we can have multiple classes with the same method name.\n",
    "\n",
    "For example, say we have three classes: `Car`, `Boat`, and `Plane`, and they all have a method called `move()`:"
   ]
  },
  {
   "cell_type": "code",
   "execution_count": 7,
   "id": "6d2c87f6",
   "metadata": {},
   "outputs": [
    {
     "name": "stdout",
     "output_type": "stream",
     "text": [
      "Drive!\n",
      "Sail!\n",
      "Fly!\n"
     ]
    }
   ],
   "source": [
    "class Car:\n",
    "    def __init__(self, brand, model):\n",
    "        self.brand = brand\n",
    "        self.model = model \n",
    "    def move(self):\n",
    "        print(\"Drive!\")\n",
    "\n",
    "class Boat:\n",
    "    def __init__(self, brand, model):\n",
    "        self.brand = brand\n",
    "        self.model = model\n",
    "    def move(Self):\n",
    "        print(\"Sail!\")\n",
    "\n",
    "class Plane:\n",
    "    def __init__(self, brand, model):\n",
    "        self.brand = brand\n",
    "        self.model = model\n",
    "    def move(Self):\n",
    "        print(\"Fly!\")\n",
    "\n",
    "car1 = Car(\"Ford\", \"Mustang\")\n",
    "boat1 = Boat(\"Ibiza\", \"Touring 20\")\n",
    "plane1 = Plane(\"Boeing\", \"747\")\n",
    "\n",
    "for x in (car1, boat1, plane1):\n",
    "    x.move()"
   ]
  },
  {
   "cell_type": "markdown",
   "id": "fd597331",
   "metadata": {},
   "source": [
    "# Inheritance Class Polymorphism\n",
    "\n",
    "What about classes with child classes with the same name? Can we use polymorphism there?\n",
    "\n",
    "Yes. If we use the example above and make a parent class called Vehicle, and make Car, Boat, Plane child classes of Vehicle, the child classes inherits the Vehicle methods, but can override them:"
   ]
  },
  {
   "cell_type": "code",
   "execution_count": 8,
   "id": "cbedadf2",
   "metadata": {},
   "outputs": [
    {
     "name": "stdout",
     "output_type": "stream",
     "text": [
      "Ford\n",
      "Mustang\n",
      "Move!\n",
      "Ibiza\n",
      "Touring 20\n",
      "Sail!\n",
      "Boeing\n",
      "747\n",
      "Fly!\n"
     ]
    }
   ],
   "source": [
    "# Create a class called Vehicle and make Car, Boat, Plane chile classes of Vehicle\n",
    "\n",
    "class Vehicle:\n",
    "    def __init__(self, brand, model):\n",
    "        self.brand = brand\n",
    "        self.model = model\n",
    "    def move(self):\n",
    "        print(\"Move!\")\n",
    "\n",
    "class Car(Vehicle):\n",
    "    pass\n",
    "\n",
    "class Boat(Vehicle):\n",
    "    def move(self):\n",
    "        print(\"Sail!\")\n",
    "\n",
    "class Plane(Vehicle):\n",
    "    def move(self):\n",
    "        print(\"Fly!\")\n",
    "\n",
    "car1 = Car(\"Ford\", \"Mustang\")\n",
    "boat1 = Boat(\"Ibiza\", \"Touring 20\")\n",
    "plane1 = Plane(\"Boeing\", \"747\")\n",
    "\n",
    "for x in (car1, boat1, plane1):\n",
    "    print(x.brand)\n",
    "    print(x.model)\n",
    "    x.move()"
   ]
  },
  {
   "cell_type": "markdown",
   "id": "a8a07c81",
   "metadata": {},
   "source": [
    "Child classes inherit the properties and methods from the parent classes.\n",
    "\n",
    "In the example above you can see that the `Car` class is empty, but it inherits the `brand`, `model`, and `move()` from `Vehicle`.\n",
    "\n",
    "The `Boat` and `Plane` classes also inherit `brand`, `model`, and `move()` from `Vehicle`, but they both override the `move()` method.\n",
    "\n",
    "Because of polymorphism we can execute the same method for all classes."
   ]
  }
 ],
 "metadata": {
  "kernelspec": {
   "display_name": "Python 3",
   "language": "python",
   "name": "python3"
  },
  "language_info": {
   "codemirror_mode": {
    "name": "ipython",
    "version": 3
   },
   "file_extension": ".py",
   "mimetype": "text/x-python",
   "name": "python",
   "nbconvert_exporter": "python",
   "pygments_lexer": "ipython3",
   "version": "3.13.5"
  }
 },
 "nbformat": 4,
 "nbformat_minor": 5
}
