{
 "cells": [
  {
   "cell_type": "markdown",
   "id": "8a49c72f",
   "metadata": {},
   "source": [
    "# Inheritance\n",
    "\n",
    "Inheritance allows us to define a class that inherits all the methods and properties from another class.\n",
    "\n",
    "**Parent class* is the class being inherited from, also called the base class.\n",
    "\n",
    "**Child class** is the class that inherits from another class, also called derived class.\n",
    "\n",
    "# Create a Parent Class\n",
    "\n",
    "Any class can be a parent class, so the syntax is the same as creating any other class:"
   ]
  },
  {
   "cell_type": "code",
   "execution_count": 18,
   "id": "1c5ba662",
   "metadata": {},
   "outputs": [
    {
     "name": "stdout",
     "output_type": "stream",
     "text": [
      "John Doe\n"
     ]
    }
   ],
   "source": [
    "class Person:\n",
    "    def __init__(self, fname, lname):\n",
    "        self.firstname = fname\n",
    "        self.lastname = lname\n",
    "\n",
    "    def printname(self):\n",
    "        print(self.firstname, self.lastname)\n",
    "\n",
    "x = Person(\"John\", \"Doe\")\n",
    "x.printname()"
   ]
  },
  {
   "cell_type": "markdown",
   "id": "e2497cbf",
   "metadata": {},
   "source": [
    "# Create a Child Class\n",
    "\n",
    "To create a class that inherits the functionality from another class, send the parent class as a parameter when creating the child class:"
   ]
  },
  {
   "cell_type": "code",
   "execution_count": 19,
   "id": "9fd1fbca",
   "metadata": {},
   "outputs": [],
   "source": [
    "class Student(Person):\n",
    "    pass"
   ]
  },
  {
   "cell_type": "markdown",
   "id": "9f1406fe",
   "metadata": {},
   "source": [
    "Now the `Student` class has the same properties and methods as the `Person` class."
   ]
  },
  {
   "cell_type": "code",
   "execution_count": 20,
   "id": "8bb4c7c6",
   "metadata": {},
   "outputs": [
    {
     "name": "stdout",
     "output_type": "stream",
     "text": [
      "Mike Olsen\n"
     ]
    }
   ],
   "source": [
    "x = Student(\"Mike\", \"Olsen\")\n",
    "x.printname()"
   ]
  },
  {
   "cell_type": "markdown",
   "id": "45d64de0",
   "metadata": {},
   "source": [
    "# Add the __init__() Function\n",
    "\n",
    "So far we have created a child class that inherits the properties and methods from its parent.\n",
    "\n",
    "We want to add the `__init__()` function to the child class (instead of the `pass` keyword).\n",
    "\n",
    "**Note:** The `__init__()` function is called automatically every time the class is being used to create a new object."
   ]
  },
  {
   "cell_type": "code",
   "execution_count": 21,
   "id": "f522f6b5",
   "metadata": {},
   "outputs": [
    {
     "ename": "_IncompleteInputError",
     "evalue": "incomplete input (2146378049.py, line 4)",
     "output_type": "error",
     "traceback": [
      "  \u001b[36mCell\u001b[39m\u001b[36m \u001b[39m\u001b[32mIn[21]\u001b[39m\u001b[32m, line 4\u001b[39m\n\u001b[31m    \u001b[39m\u001b[31m# Add properties, etc.\u001b[39m\n                          ^\n\u001b[31m_IncompleteInputError\u001b[39m\u001b[31m:\u001b[39m incomplete input\n"
     ]
    }
   ],
   "source": [
    "# Add the __init__() function to the Student class\n",
    "class Student(Person):\n",
    "    def __init__(self, fname, lname):\n",
    "        # Add properties, etc."
   ]
  },
  {
   "cell_type": "markdown",
   "id": "7bb782cf",
   "metadata": {},
   "source": [
    "When you add the `__init__()` function, the child class will no longer inherit the parent's `__init__()` function.\n",
    "\n",
    "The child's `__init__()` function overrides the inheritance of the parent's `__init__()` function.\n",
    "\n",
    "To keep the inheritance of the parent's `__init__()` function, add a call to the parent's `__init__()` function:"
   ]
  },
  {
   "cell_type": "code",
   "execution_count": null,
   "id": "422e2f0e",
   "metadata": {},
   "outputs": [
    {
     "name": "stdout",
     "output_type": "stream",
     "text": [
      "Mike Taco Guy\n"
     ]
    }
   ],
   "source": [
    "class Student(Person):\n",
    "    def __init__(self, fname, lname):\n",
    "        Person.__init__(self, fname, lname)\n",
    "\n",
    "p1 = Person(\"Mike\", \"Taco Guy\")\n",
    "p1.printname()"
   ]
  },
  {
   "cell_type": "markdown",
   "id": "96147640",
   "metadata": {},
   "source": [
    "# Use the super() Function\n",
    "\n",
    "Python also has a `super()` function that will make the child class inherit all the methods and properties from its parent:"
   ]
  },
  {
   "cell_type": "code",
   "execution_count": null,
   "id": "603e0383",
   "metadata": {},
   "outputs": [],
   "source": [
    "class Student(Person):\n",
    "    def __init__(self, fname, lname):\n",
    "        super().__init__(fname, lname)"
   ]
  },
  {
   "cell_type": "markdown",
   "id": "45bd8ea3",
   "metadata": {},
   "source": [
    "Full example:"
   ]
  },
  {
   "cell_type": "code",
   "execution_count": null,
   "id": "81a3a9fd",
   "metadata": {},
   "outputs": [
    {
     "name": "stdout",
     "output_type": "stream",
     "text": [
      "Mike Olsen\n"
     ]
    }
   ],
   "source": [
    "class Person:\n",
    "    def __init__(self, fname, lname):\n",
    "        self.firstname = fname\n",
    "        self.lastname = lname\n",
    "\n",
    "    def printname(self):\n",
    "        print(self.firstname, self.lastname)\n",
    "\n",
    "class Student(Person):\n",
    "    def __init__(self, fname, lname):\n",
    "        super().__init__(fname, lname)\n",
    "\n",
    "x = Student(\"Mike\", \"Olsen\")\n",
    "x.printname()"
   ]
  },
  {
   "cell_type": "markdown",
   "id": "4528dab7",
   "metadata": {},
   "source": [
    "# Add Properties\n",
    "\n",
    "Add a proeprty called `graduationyear` to the `Student` class:"
   ]
  },
  {
   "cell_type": "code",
   "execution_count": null,
   "id": "9ad627de",
   "metadata": {},
   "outputs": [
    {
     "name": "stdout",
     "output_type": "stream",
     "text": [
      "John Doe\n",
      "2019\n"
     ]
    }
   ],
   "source": [
    "class Person:\n",
    "    def __init__(self, fname, lname):\n",
    "        self.firstname = fname\n",
    "        self.lastname = lname\n",
    "\n",
    "class Student(Person):\n",
    "    def __init__(self, fname, lname):\n",
    "        super().__init__(fname, lname)\n",
    "        self.graduationyear = 2019     \n",
    "    def __str__(self):\n",
    "        return f\"{self.firstname} {self.lastname}\\n{str(self.graduationyear)}\"\n",
    "\n",
    "s1 = Student(\"John\", \"Doe\")\n",
    "print(s1)\n",
    "        "
   ]
  },
  {
   "cell_type": "markdown",
   "id": "865cb379",
   "metadata": {},
   "source": [
    "In the example below, the year `2019` should be a variable, and passed into the `Student` class when creating student objects. To do so, add another parameter in the `__init__()` function:"
   ]
  },
  {
   "cell_type": "code",
   "execution_count": 7,
   "id": "fddcea9f",
   "metadata": {},
   "outputs": [
    {
     "name": "stdout",
     "output_type": "stream",
     "text": [
      "Michael Rodriguez\n",
      "Graduated: 1976\n"
     ]
    }
   ],
   "source": [
    "class Person:\n",
    "    def __init__(self, fname, lname, gyear):\n",
    "        self.firstname = str(fname)\n",
    "        self.lastname = str(lname)\n",
    "        self.graduationyear = int(gyear)\n",
    "\n",
    "class Student(Person):\n",
    "    def __init__(self, fname, lname, gyear):\n",
    "        super().__init__(fname, lname, gyear)\n",
    "    def __str__(self):\n",
    "        return (f\"{self.firstname} {self.lastname}\\nGraduated: {self.graduationyear}\")\n",
    "    \n",
    "s1 = Student(\"Michael\", \"Rodriguez\", 1976)\n",
    "print(s1)\n"
   ]
  },
  {
   "cell_type": "markdown",
   "id": "d73bd1d0",
   "metadata": {},
   "source": [
    "Let's do it again with an additional entry this time:"
   ]
  },
  {
   "cell_type": "code",
   "execution_count": 20,
   "id": "ae0994d3",
   "metadata": {},
   "outputs": [
    {
     "name": "stdout",
     "output_type": "stream",
     "text": [
      "Bilbo Baggins\n",
      "Graduated: 8000\n",
      "\n",
      "Mistor Guy\n",
      "Graduated: 2003\n",
      "\n"
     ]
    }
   ],
   "source": [
    "class Person:\n",
    "    def __init__(self, fname, lname, gyear):\n",
    "        self.firstname = fname\n",
    "        self.lastname = lname\n",
    "        self.graduationyear = gyear\n",
    "    def __str__(self):\n",
    "        return (f\"{self.firstname} {self.lastname}\\nGraduated: {self.graduationyear}\")\n",
    "    \n",
    "class Student(Person):\n",
    "    def __init__(self, fname, lname, gyear):\n",
    "        super().__init__(fname, lname, gyear)\n",
    "\n",
    "class Alumni(Person):\n",
    "    def __init__(self, fname, lname, gyear):\n",
    "        super().__init__(fname, lname, gyear)\n",
    "people = [\n",
    "    Student(\"Bilbo\", \"Baggins\", 8000),\n",
    "    Alumni(\"Mistor\", \"Guy\", 2003)\n",
    "]\n",
    "\n",
    "for person in people:\n",
    "    print(f\"{person}\\n\")"
   ]
  },
  {
   "cell_type": "markdown",
   "id": "24de030f",
   "metadata": {},
   "source": [
    "# Add Methods\n",
    "\n",
    "Add a method called `welcome` to the `Student` class:"
   ]
  },
  {
   "cell_type": "code",
   "execution_count": 54,
   "id": "803c8a0e",
   "metadata": {},
   "outputs": [
    {
     "name": "stdout",
     "output_type": "stream",
     "text": [
      "STUDENTS:\n",
      "John DudeGuy\n",
      "Graduation Year: 2020\n",
      "Welcome John DudeGuy to the 2020 celebration!\n",
      "\n",
      "Mistor Guouy\n",
      "Graduation Year: 1876\n",
      "Welcome Mistor Guouy to the 1876 celebration!\n",
      "\n",
      "ALUMNI:\n",
      "John DudeGuy\n",
      "Graduation Year: 2020\n",
      "Welcome John DudeGuy to the 2020 celebration!\n",
      "\n",
      "Mistor Guouy\n",
      "Graduation Year: 1876\n",
      "Welcome Mistor Guouy to the 1876 celebration!\n",
      "\n"
     ]
    }
   ],
   "source": [
    "class Person:\n",
    "    def __init__(self, fname, lname, gyear):\n",
    "        self.firstname = fname\n",
    "        self.lastname = lname\n",
    "        self.gratuationyear = gyear\n",
    "    def __str__(self):\n",
    "        return f\"{self.firstname} {self.lastname}\\nGraduation Year: {self.gratuationyear}\"\n",
    "    def welcome(self):\n",
    "        return f\"Welcome {self.firstname} {self.lastname} to the {self.gratuationyear} celebration!\\n\"\n",
    "\n",
    "class Student(Person):\n",
    "    def __init__(self, fname, lname, gyear):\n",
    "        super().__init__(fname, lname, gyear)\n",
    "\n",
    "class Alumni(Person):\n",
    "    def __init__(self, fname, lname, gyear):\n",
    "        super().__init__(fname, lname, gyear)\n",
    "\n",
    "people = {\n",
    "    \"Students\": [\n",
    "    Student(\"John\", \"DudeGuy\", 2020),\n",
    "    Student(\"Mistor\", \"Guouy\", 1876)       \n",
    "    ],\n",
    "    \"Alumni\": [\n",
    "    Alumni(\"John\", \"DudeGuy\", 2020),\n",
    "    Alumni(\"Mistor\", \"Guouy\", 1876)\n",
    "    ]\n",
    "}\n",
    "\n",
    "for category, person_list in people.items():\n",
    "    print(f\"{category.upper()}:\")\n",
    "    for person in person_list:\n",
    "        print(person)\n",
    "        print(f\"{person.welcome()}\")\n",
    "        "
   ]
  }
 ],
 "metadata": {
  "kernelspec": {
   "display_name": "Python 3",
   "language": "python",
   "name": "python3"
  },
  "language_info": {
   "codemirror_mode": {
    "name": "ipython",
    "version": 3
   },
   "file_extension": ".py",
   "mimetype": "text/x-python",
   "name": "python",
   "nbconvert_exporter": "python",
   "pygments_lexer": "ipython3",
   "version": "3.13.5"
  }
 },
 "nbformat": 4,
 "nbformat_minor": 5
}
