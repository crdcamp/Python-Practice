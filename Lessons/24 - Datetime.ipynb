{
 "cells": [
  {
   "cell_type": "markdown",
   "id": "0d1099e5",
   "metadata": {},
   "source": [
    "# Dates\n",
    "\n",
    "A date in Python is **not a data type of its own, but we can import a module names `datetime` to work with dates as date objects."
   ]
  },
  {
   "cell_type": "code",
   "execution_count": 1,
   "id": "c8e4bfbe",
   "metadata": {},
   "outputs": [
    {
     "name": "stdout",
     "output_type": "stream",
     "text": [
      "2025-07-07 13:44:47.741217\n"
     ]
    }
   ],
   "source": [
    "import datetime\n",
    "\n",
    "x = datetime.datetime.now()\n",
    "print(x)"
   ]
  },
  {
   "cell_type": "markdown",
   "id": "b53fc8df",
   "metadata": {},
   "source": [
    "# Date Output\n",
    "\n",
    "The date contains year, month, day, hour, minute, second, and microsecond.\n",
    "\n",
    "The `datetime` module has many methods to return information about the date object.\n",
    "\n",
    "Here are a few examples:"
   ]
  },
  {
   "cell_type": "code",
   "execution_count": 2,
   "id": "326674be",
   "metadata": {},
   "outputs": [
    {
     "name": "stdout",
     "output_type": "stream",
     "text": [
      "2025\n",
      "Monday\n"
     ]
    }
   ],
   "source": [
    "import datetime\n",
    "\n",
    "x = datetime.datetime.now()\n",
    "\n",
    "print(x.year)\n",
    "print(x.strftime(\"%A\"))"
   ]
  },
  {
   "cell_type": "markdown",
   "id": "2d3506f9",
   "metadata": {},
   "source": [
    "# Creating Date Objects\n",
    "\n",
    "To create a date, we can use the `datetime()` class (constructor) of the `datetime` module.\n",
    "\n",
    "The `datetime()` class requires three parameters to create a date: year, month, day:"
   ]
  },
  {
   "cell_type": "code",
   "execution_count": 3,
   "id": "70b83e2c",
   "metadata": {},
   "outputs": [
    {
     "name": "stdout",
     "output_type": "stream",
     "text": [
      "2020-05-17 00:00:00\n"
     ]
    }
   ],
   "source": [
    "import datetime\n",
    "\n",
    "x = datetime.datetime(2020, 5, 17)\n",
    "print(x)"
   ]
  },
  {
   "cell_type": "markdown",
   "id": "406caa04",
   "metadata": {},
   "source": [
    "The `datetime()` class also takes parameters for time and timezone (hour, minute, second, microsecond, tzone), but they are optional, and has a default value of `0`, (`None` for timezone)."
   ]
  },
  {
   "cell_type": "markdown",
   "id": "31a441a0",
   "metadata": {},
   "source": [
    "# The strftime() Method\n",
    "\n",
    "The `datetime` object has a method for formatting date objects into readable strings.\n",
    "\n",
    "The method is called `strftime()`, and takes one parameter, `format`, to specify the format of the returned string:"
   ]
  },
  {
   "cell_type": "code",
   "execution_count": 4,
   "id": "3ff23c58",
   "metadata": {},
   "outputs": [
    {
     "name": "stdout",
     "output_type": "stream",
     "text": [
      "June\n"
     ]
    }
   ],
   "source": [
    "import datetime\n",
    "\n",
    "x = datetime.datetime(2018, 6, 1)\n",
    "\n",
    "print(x.strftime(\"%B\"))"
   ]
  },
  {
   "cell_type": "markdown",
   "id": "4468dc4f",
   "metadata": {},
   "source": [
    "# Format Codes\n",
    "\n",
    "| Directive | Description | Example |\n",
    "|-----------|-------------|---------|\n",
    "| %a | Weekday, short version | Wed |\n",
    "| %A | Weekday, full version | Wednesday |\n",
    "| %w | Weekday as a number 0-6, 0 is Sunday | 3 |\n",
    "| %d | Day of month 01-31 | 31 |\n",
    "| %b | Month name, short version | Dec |\n",
    "| %B | Month name, full version | December |\n",
    "| %m | Month as a number 01-12 | 12 |\n",
    "| %y | Year, short version, without century | 18 |\n",
    "| %Y | Year, full version | 2018 |\n",
    "| %H | Hour 00-23 | 17 |\n",
    "| %I | Hour 00-12 | 05 |\n",
    "| %p | AM/PM | PM |\n",
    "| %M | Minute 00-59 | 41 |\n",
    "| %S | Second 00-59 | 08 |\n",
    "| %f | Microsecond 000000-999999 | 548513 |\n",
    "| %z | UTC offset | +0100 |\n",
    "| %Z | Timezone | CST |\n",
    "| %j | Day number of year 001-366 | 365 |\n",
    "| %U | Week number of year, Sunday as the first day of week, 00-53 | 52 |\n",
    "| %W | Week number of year, Monday as the first day of week, 00-53 | 52 |\n",
    "| %c | Local version of date and time | Mon Dec 31 17:41:00 2018 |\n",
    "| %C | Century | 20 |\n",
    "| %x | Local version of date | 12/31/18 |\n",
    "| %X | Local version of time | 17:41:00 |\n",
    "| %% | A % character | % |\n",
    "| %G | ISO 8601 year | 2018 |\n",
    "| %u | ISO 8601 weekday (1-7) | 1 |\n",
    "| %V | ISO 8601 week number (01-53) | 01 |"
   ]
  }
 ],
 "metadata": {
  "kernelspec": {
   "display_name": "Python 3",
   "language": "python",
   "name": "python3"
  },
  "language_info": {
   "codemirror_mode": {
    "name": "ipython",
    "version": 3
   },
   "file_extension": ".py",
   "mimetype": "text/x-python",
   "name": "python",
   "nbconvert_exporter": "python",
   "pygments_lexer": "ipython3",
   "version": "3.13.5"
  }
 },
 "nbformat": 4,
 "nbformat_minor": 5
}
