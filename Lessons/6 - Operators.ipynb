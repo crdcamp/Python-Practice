{
 "cells": [
  {
   "cell_type": "markdown",
   "id": "4f90d1b6",
   "metadata": {},
   "source": [
    "# Python Operators\n",
    "\n",
    "Operators are used to perform operations on variables and values.\n",
    "\n",
    "In the example below, we use the + operator to add together two values:"
   ]
  },
  {
   "cell_type": "code",
   "execution_count": 1,
   "id": "f2fb4664",
   "metadata": {},
   "outputs": [
    {
     "name": "stdout",
     "output_type": "stream",
     "text": [
      "15\n"
     ]
    }
   ],
   "source": [
    "print(10 + 5)"
   ]
  },
  {
   "cell_type": "markdown",
   "id": "37ba495d",
   "metadata": {},
   "source": [
    "Python divides the operators in the following groups:\n",
    "\n",
    "- Arithmetic operators\n",
    "\n",
    "- Assignment operators\n",
    "\n",
    "- Comparison operators\n",
    "\n",
    "- Logical operators\n",
    "\n",
    "- Identity operators\n",
    "\n",
    "- Membership operators\n",
    "\n",
    "- Bitwise operators\n",
    "\n",
    "# Python Arithmetic Operators\n",
    "\n",
    "Arithmetic operators are used with numeric values to perform common mathematical operations:\n",
    "\n",
    "| Operator | Name | Example |\n",
    "|----------|------|---------|\n",
    "| `+` | Addition | `x + y` |\n",
    "| `-` | Subtraction | `x - y` |\n",
    "| `*` | Multiplication | `x * y` |\n",
    "| `/` | Division | `x / y` |\n",
    "| `%` | Modulus | `x % y` |\n",
    "| `**` | Exponentiation | `x ** y` |\n",
    "| `//` | Floor division | `x // y` |\n",
    "\n",
    "# Python Assignment Operators\n",
    "\n",
    "| Operator | Example | Same As |\n",
    "|----------|---------|---------|\n",
    "| = | x = 5 | x = 5 |\n",
    "| += | x += 3 | x = x + 3 |\n",
    "| -= | x -= 3 | x = x - 3 |\n",
    "| *= | x *= 3 | x = x * 3 |\n",
    "| /= | x /= 3 | x = x / 3 |\n",
    "| %= | x %= 3 | x = x % 3 |\n",
    "| //= | x //= 3 | x = x // 3 |\n",
    "| **= | x **= 3 | x = x ** 3 |\n",
    "| &= | x &= 3 | x = x & 3 |\n",
    "| \\|= | x \\|= 3 | x = x \\| 3 |\n",
    "| ^= | x ^= 3 | x = x ^ 3 |\n",
    "| >>= | x >>= 3 | x = x >> 3 |\n",
    "| <<= | x <<= 3 | x = x << 3 |\n",
    "| := | print(x := 3) | x = 3<br>print(x) |\n",
    "\n",
    "# Python Comparison Operators\n",
    "\n",
    "| Operator | Name | Example |\n",
    "|----------|------|---------|\n",
    "| == | Equal | x == y |\n",
    "| != | Not equal | x != y |\n",
    "| > | Greater than | x > y |\n",
    "| < | Less than | x < y |\n",
    "| >= | Greater than or equal to | x >= y |\n",
    "| <= | Less than or equal to | x <= y |\n",
    "\n",
    "# Python Logical Operators\n",
    "\n",
    "| Operator | Description | Example |\n",
    "|----------|-------------|---------|\n",
    "| and | Returns True if both statements are true | x < 5 and x < 10 |\n",
    "| or | Returns True if one of the statements is true | x < 5 or x < 4 |\n",
    "| not | Reverse the result, returns False if the result is true | not(x < 5 and x < 10) |\n",
    "\n",
    "# Python Identity Operators\n",
    "\n",
    "| Operator | Description | Example |\n",
    "|----------|-------------|---------|\n",
    "| is | Returns True if both variables are the same object | x is y |\n",
    "| is not | Returns True if both variables are not the same object | x is not y |\n",
    "\n",
    "# Python Membership Operators\n",
    "\n",
    "| Operator | Description | Example |\n",
    "|----------|-------------|---------|\n",
    "| in | Returns True if a sequence with the specified value is present in the object | x in y |\n",
    "| not in | Returns True if a sequence with the specified value is not present in the object | x not in y |\n",
    "\n",
    "# Python Bitwise Operators\n",
    "\n",
    "| Operator | Name | Description | Example |\n",
    "|----------|------|-------------|---------|\n",
    "| & | AND | Sets each bit to 1 if both bits are 1 | x & y |\n",
    "| \\| | OR | Sets each bit to 1 if one of two bits is 1 | x \\| y |\n",
    "| ^ | XOR | Sets each bit to 1 if only one of two bits is 1 | x ^ y |\n",
    "| ~ | NOT | Inverts all the bits | ~x |\n",
    "| << | Zero fill left shift | Shift left by pushing zeros in from the right and let the leftmost bits fall off | x << 2 |\n",
    "| >> | Signed right shift | Shift right by pushing copies of the leftmost bit in from the left, and let the rightmost bits fall off | x >> 2 |\n"
   ]
  }
 ],
 "metadata": {
  "kernelspec": {
   "display_name": "Python 3",
   "language": "python",
   "name": "python3"
  },
  "language_info": {
   "codemirror_mode": {
    "name": "ipython",
    "version": 3
   },
   "file_extension": ".py",
   "mimetype": "text/x-python",
   "name": "python",
   "nbconvert_exporter": "python",
   "pygments_lexer": "ipython3",
   "version": "3.13.5"
  }
 },
 "nbformat": 4,
 "nbformat_minor": 5
}
