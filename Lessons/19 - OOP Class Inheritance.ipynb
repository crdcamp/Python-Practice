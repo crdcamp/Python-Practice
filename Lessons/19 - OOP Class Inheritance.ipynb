{
 "cells": [
  {
   "cell_type": "markdown",
   "id": "8a49c72f",
   "metadata": {},
   "source": [
    "# Inheritance\n",
    "\n",
    "Inheritance allows us to define a class that inherits all the methods and properties from another class."
   ]
  }
 ],
 "metadata": {
  "language_info": {
   "name": "python"
  }
 },
 "nbformat": 4,
 "nbformat_minor": 5
}
