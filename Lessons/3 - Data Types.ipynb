{
 "cells": [
  {
   "cell_type": "markdown",
   "id": "85fed905",
   "metadata": {},
   "source": [
    "# Built-in Data Types\n",
    "\n",
    "In programming, data type is an important concept.\n",
    "\n",
    "Variables can store data of different types, and different types can do different things.\n",
    "\n",
    "Python has the following data types built-in by default, in these categories:\n",
    "\n",
    "Text Type: str\n",
    "\n",
    "Numeric Types:\tint, float, complex\n",
    "\n",
    "Sequence Types:\tlist, tuple, range\n",
    "\n",
    "Mapping Type:\tdict\n",
    "\n",
    "Set Types:\tset, frozenset\n",
    "\n",
    "Boolean Type:\tbool\n",
    "\n",
    "Binary Types:\tbytes, bytearray, memoryview\n",
    "\n",
    "None Type:\tNoneType\n",
    "\n",
    "# Getting the Data Type\n",
    "\n",
    "You can get the data type of any object by using the type() function:\n"
   ]
  },
  {
   "cell_type": "code",
   "execution_count": 1,
   "id": "9aaab10a",
   "metadata": {},
   "outputs": [
    {
     "name": "stdout",
     "output_type": "stream",
     "text": [
      "<class 'int'>\n"
     ]
    }
   ],
   "source": [
    "x = 5\n",
    "print(type(x))"
   ]
  },
  {
   "cell_type": "markdown",
   "id": "3a22ddbb",
   "metadata": {},
   "source": [
    "# Setting the Data Type\n",
    "\n",
    "In Python, the data type is set when you assign a value to a variable:\n",
    "\n",
    "# Python Data Types Examples\n",
    "\n",
    "| Assignment | Data Type |\n",
    "|------------|-----------|\n",
    "| x = \"Hello World\" | str |\n",
    "| x = 20 | int |\n",
    "| x = 20.5 | float |\n",
    "| x = 1j | complex |\n",
    "| x = [\"apple\", \"banana\", \"cherry\"] | list |\n",
    "| x = (\"apple\", \"banana\", \"cherry\") | tuple |\n",
    "| x = range(6) | range |\n",
    "| x = {\"name\": \"John\", \"age\": 36} | dict |\n",
    "| x = {\"apple\", \"banana\", \"cherry\"} | set |\n",
    "| x = frozenset({\"apple\", \"banana\", \"cherry\"}) | frozenset |\n",
    "| x = True | bool |\n",
    "| x = b\"Hello\" | bytes |\n",
    "| x = bytearray(5) | bytearray |\n",
    "| x = memoryview(bytes(5)) | memoryview |\n",
    "| x = None | NoneType |"
   ]
  },
  {
   "cell_type": "markdown",
   "id": "a6e572aa",
   "metadata": {},
   "source": [
    "# Setting the Specific Data Type\n",
    "\n",
    "If you want to specify the data type, you can use the following constructor functions:\n",
    "\n",
    "# Constructor Assignments\n",
    "\n",
    "| Example | Data Type |\n",
    "|---------|-----------|\n",
    "| x = str(\"Hello World\") | str |\n",
    "| x = int(20) | int |\n",
    "| x = float(20.5) | float |\n",
    "| x = complex(1j) | complex |\n",
    "| x = list((\"apple\", \"banana\", \"cherry\")) | list |\n",
    "| x = tuple((\"apple\", \"banana\", \"cherry\")) | tuple |\n",
    "| x = range(6) | range |\n",
    "| x = dict(name=\"John\", age=36) | dict |\n",
    "| x = set((\"apple\", \"banana\", \"cherry\")) | set |\n",
    "| x = frozenset((\"apple\", \"banana\", \"cherry\")) | frozenset |\n",
    "| x = bool(5) | bool |\n",
    "| x = bytes(5) | bytes |\n",
    "| x = bytearray(5) | bytearray |\n",
    "| x = memoryview(bytes(5)) | memoryview |"
   ]
  },
  {
   "cell_type": "markdown",
   "id": "6fe3433a",
   "metadata": {},
   "source": [
    "# Python Numbers\n",
    "\n",
    "There are three numeric types in Python:\n",
    "\n",
    "- int\n",
    "- float\n",
    "- complex\n",
    "\n",
    "Variables of numeric types are created when you assign a value to them:"
   ]
  },
  {
   "cell_type": "code",
   "execution_count": 2,
   "id": "5f58374a",
   "metadata": {},
   "outputs": [],
   "source": [
    "x = 1 # int\n",
    "y = 2.8 # float\n",
    "z = 1j # complex"
   ]
  },
  {
   "cell_type": "markdown",
   "id": "b08286f6",
   "metadata": {},
   "source": [
    "To verify the type of any object in Python, use the type() function:"
   ]
  },
  {
   "cell_type": "code",
   "execution_count": 3,
   "id": "4189ae5d",
   "metadata": {},
   "outputs": [
    {
     "name": "stdout",
     "output_type": "stream",
     "text": [
      "<class 'int'>\n",
      "<class 'float'>\n",
      "<class 'complex'>\n"
     ]
    }
   ],
   "source": [
    "print(type(x))\n",
    "print(type(y))\n",
    "print(type(z))"
   ]
  },
  {
   "cell_type": "markdown",
   "id": "91f8023b",
   "metadata": {},
   "source": [
    "# Int\n",
    "\n",
    "Int, or integer, is a whole number, positive or negative, without decimals, of unlimited length."
   ]
  },
  {
   "cell_type": "code",
   "execution_count": 4,
   "id": "b9c3c88c",
   "metadata": {},
   "outputs": [
    {
     "name": "stdout",
     "output_type": "stream",
     "text": [
      "<class 'int'>\n",
      "<class 'int'>\n",
      "<class 'int'>\n"
     ]
    }
   ],
   "source": [
    "x = 1\n",
    "y = 35656222554887711\n",
    "z = -3255522\n",
    "\n",
    "print(type(x))\n",
    "print(type(y))\n",
    "print(type(z))"
   ]
  },
  {
   "cell_type": "markdown",
   "id": "3456508f",
   "metadata": {},
   "source": [
    "# Float\n",
    "\n",
    "Float, or \"floating point number\" is a number, positive or negative, containing one or more decimals.\n",
    "\n",
    "Float can also be scientific numbers with an \"e\" to indicate the power of 10."
   ]
  },
  {
   "cell_type": "code",
   "execution_count": 5,
   "id": "02efb453",
   "metadata": {},
   "outputs": [
    {
     "name": "stdout",
     "output_type": "stream",
     "text": [
      "<class 'float'>\n",
      "<class 'float'>\n",
      "<class 'float'>\n"
     ]
    }
   ],
   "source": [
    "x = 1.10\n",
    "y = 1.0\n",
    "z = -35.59\n",
    "\n",
    "print(type(x))\n",
    "print(type(y))\n",
    "print(type(z))"
   ]
  },
  {
   "cell_type": "markdown",
   "id": "3b49fa3e",
   "metadata": {},
   "source": [
    "# Complex\n",
    "\n",
    "Complex numbers are written with a \"j\" as the imaginary part:"
   ]
  },
  {
   "cell_type": "code",
   "execution_count": null,
   "id": "cf6ed9af",
   "metadata": {},
   "outputs": [
    {
     "name": "stdout",
     "output_type": "stream",
     "text": [
      "<class 'complex'>\n",
      "<class 'complex'>\n",
      "<class 'complex'>\n"
     ]
    }
   ],
   "source": [
    "x = 3+5j\n",
    "y = 5j\n",
    "z = -5j\n",
    "\n",
    "print(type(x))\n",
    "print(type(y))\n",
    "print(type(z))"
   ]
  },
  {
   "cell_type": "markdown",
   "id": "2142b06b",
   "metadata": {},
   "source": [
    "# Type Conversion\n",
    "\n",
    "You can convert from one type to another with the int(), float(), and complex() methods:"
   ]
  },
  {
   "cell_type": "code",
   "execution_count": null,
   "id": "b1ddf992",
   "metadata": {},
   "outputs": [
    {
     "name": "stdout",
     "output_type": "stream",
     "text": [
      "1.0 2 (1+0j)\n",
      "<class 'float'>\n",
      "<class 'int'>\n",
      "<class 'complex'>\n"
     ]
    }
   ],
   "source": [
    "x = 1\n",
    "y = 2.8\n",
    "z = 1j\n",
    "\n",
    "a = float(x)\n",
    "b = int(y)\n",
    "c = complex(x)\n",
    "\n",
    "print(a, b, c)\n",
    "print(type(a))\n",
    "print(type(b))\n",
    "print(type(c))"
   ]
  },
  {
   "cell_type": "markdown",
   "id": "0698d38f",
   "metadata": {},
   "source": [
    "# Random Number\n",
    "\n",
    "Python does not have a random() function to make a random number, but Python has a built-in module called random that can be used to make random numbers:"
   ]
  },
  {
   "cell_type": "code",
   "execution_count": 10,
   "id": "6d3e72d9",
   "metadata": {},
   "outputs": [
    {
     "name": "stdout",
     "output_type": "stream",
     "text": [
      "3\n"
     ]
    }
   ],
   "source": [
    "import random\n",
    "\n",
    "print(random.randrange(1, 10))"
   ]
  },
  {
   "cell_type": "markdown",
   "id": "94cdf376",
   "metadata": {},
   "source": [
    "# Specify a Variable Type\n",
    "\n",
    "There may be times when you want to specify a type on to a variable. This can be done with casting. Python is an object-orientated language, and as such it uses classes to define data types, including its primitive types.\n",
    "\n",
    "Casting in python is therefore done using constructor functions:\n",
    "\n",
    "`int()` - constructs an integer number from an integer literal, a float literal (by removing all decimals), or a string literal (providing the string represents a whole number)\n",
    "\n",
    "`float()` - constructs a float number from an integer literal, a float literal or a string literal (providing the string represents a float or an integer)\n",
    "\n",
    "`str()` - constructs a string from a wide variety of data types, including strings, integer literals and float literals"
   ]
  },
  {
   "cell_type": "code",
   "execution_count": null,
   "id": "b1c61fc9",
   "metadata": {},
   "outputs": [],
   "source": [
    "# Integers:\n",
    "\n",
    "x = int(1)   # x will be 1\n",
    "y = int(2.8) # y will be 2\n",
    "z = int(\"3\") # z will be 3"
   ]
  },
  {
   "cell_type": "code",
   "execution_count": null,
   "id": "97c60f6c",
   "metadata": {},
   "outputs": [],
   "source": [
    "# Floats:\n",
    "\n",
    "x = float(1)     # x will be 1.0\n",
    "y = float(2.8)   # y will be 2.8\n",
    "z = float(\"3\")   # z will be 3.0\n",
    "w = float(\"4.2\") # w will be 4.2"
   ]
  }
 ],
 "metadata": {
  "kernelspec": {
   "display_name": "Python 3",
   "language": "python",
   "name": "python3"
  },
  "language_info": {
   "codemirror_mode": {
    "name": "ipython",
    "version": 3
   },
   "file_extension": ".py",
   "mimetype": "text/x-python",
   "name": "python",
   "nbconvert_exporter": "python",
   "pygments_lexer": "ipython3",
   "version": "3.13.5"
  }
 },
 "nbformat": 4,
 "nbformat_minor": 5
}
