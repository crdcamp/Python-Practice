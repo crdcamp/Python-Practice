{
 "cells": [
  {
   "cell_type": "markdown",
   "id": "3843d543",
   "metadata": {},
   "source": [
    "# File Open\n",
    "\n",
    "The key function for working with files in Python is the `open()` function.\n",
    "\n",
    "The `open()` function takes two parameters; filename and mode.\n",
    "\n",
    "There are four different methods (modes) for opening a file:\n",
    "\n",
    "`\"r\"` - Read - Default value. Opens a file for reading, error if the file does not exist\n",
    "\n",
    "`\"a\"` - Append - Opens a file for appending, creates the file if it does not exist\n",
    "\n",
    "`\"w\"` - Write - Opens a file for writing, creates the file if it does not exist\n",
    "\n",
    "`\"x\"` - Create - Creates the specified file, returns an error if the file exists\n",
    "\n",
    "In addition you can specify if the file should be handled as binary or text mode:\n",
    "\n",
    "`t\"` - Text - Default value. Text mode\n",
    "\n",
    "`\"b\"` - Binary - Binary mode (e.g. images)"
   ]
  },
  {
   "cell_type": "markdown",
   "id": "03cabec8",
   "metadata": {
    "vscode": {
     "languageId": "plaintext"
    }
   },
   "source": [
    "# Syntax\n",
    "\n",
    "To open a file for reading it is enough to specify the name of the file:"
   ]
  },
  {
   "cell_type": "code",
   "execution_count": null,
   "id": "e034cb58",
   "metadata": {},
   "outputs": [],
   "source": [
    "f = open(\"demofile.txt\")"
   ]
  },
  {
   "cell_type": "markdown",
   "id": "be6c2d86",
   "metadata": {},
   "source": [
    "The code above is the same as:"
   ]
  },
  {
   "cell_type": "code",
   "execution_count": 2,
   "id": "efd899a2",
   "metadata": {},
   "outputs": [],
   "source": [
    "f = open(\"demofile.txt\", \"rt\")"
   ]
  },
  {
   "cell_type": "markdown",
   "id": "2efa7ccc",
   "metadata": {},
   "source": [
    "Because \"r\" for read, and \"t\" for text are the default values, you do not need to specify them."
   ]
  },
  {
   "cell_type": "markdown",
   "id": "7eb58459",
   "metadata": {},
   "source": [
    "# Open a File on the Server\n",
    "\n",
    "Assume we have the following file, located in the same folder as Python:"
   ]
  },
  {
   "cell_type": "code",
   "execution_count": null,
   "id": "d8073f2d",
   "metadata": {},
   "outputs": [],
   "source": [
    "Hello! Welcome to demofile.txt\n",
    "This file is for testing purposes.\n",
    "Good Luck!"
   ]
  },
  {
   "cell_type": "markdown",
   "id": "ad783342",
   "metadata": {},
   "source": [
    "To open the file, use the `open()` function.\n",
    "\n",
    "The `open()` function returns a file object, which has a `read()` method for reading the content of the file:"
   ]
  },
  {
   "cell_type": "code",
   "execution_count": 1,
   "id": "36087e6c",
   "metadata": {},
   "outputs": [
    {
     "name": "stdout",
     "output_type": "stream",
     "text": [
      "Hello! Welcome to demofile.txt\n",
      "This file is for testing purposes.\n",
      "Good Luck!\n"
     ]
    }
   ],
   "source": [
    "f = open(\"demofile.txt\")\n",
    "print(f.read())"
   ]
  },
  {
   "cell_type": "markdown",
   "id": "81ccb874",
   "metadata": {},
   "source": [
    "# Using the with Statement\n",
    "\n",
    "You can also with the `with` statement when opening a file.\n",
    "\n",
    "This way, you don't have to worry about closing a file. The `with` statement takes care of that."
   ]
  },
  {
   "cell_type": "code",
   "execution_count": 2,
   "id": "f9f56e05",
   "metadata": {},
   "outputs": [
    {
     "name": "stdout",
     "output_type": "stream",
     "text": [
      "Hello! Welcome to demofile.txt\n",
      "This file is for testing purposes.\n",
      "Good Luck!\n"
     ]
    }
   ],
   "source": [
    "with open(\"demofile.txt\") as f:\n",
    "    print(f.read())"
   ]
  },
  {
   "cell_type": "markdown",
   "id": "60ea9a59",
   "metadata": {},
   "source": [
    "# Close Files\n",
    "\n",
    "It's good practice to always close the file when you are done with it.\n",
    "\n",
    "If you are not using the `with` statements, you must write a close statement:"
   ]
  },
  {
   "cell_type": "code",
   "execution_count": 3,
   "id": "23694ee7",
   "metadata": {},
   "outputs": [
    {
     "name": "stdout",
     "output_type": "stream",
     "text": [
      "Hello! Welcome to demofile.txt\n",
      "\n"
     ]
    }
   ],
   "source": [
    "f = open(\"demofile.txt\")\n",
    "print(f.readline())\n",
    "f.close()"
   ]
  },
  {
   "cell_type": "markdown",
   "id": "bd66b3a8",
   "metadata": {},
   "source": [
    "# Read Only Parts of the File\n",
    "\n",
    "By default, the `read()` method returns the whole text, but you can also specify how many characters you want to return:"
   ]
  },
  {
   "cell_type": "code",
   "execution_count": 4,
   "id": "e25eeb62",
   "metadata": {},
   "outputs": [
    {
     "name": "stdout",
     "output_type": "stream",
     "text": [
      "Hello\n"
     ]
    }
   ],
   "source": [
    "with open(\"demofile.txt\") as f:\n",
    "    print(f.read(5))"
   ]
  },
  {
   "cell_type": "markdown",
   "id": "57c589ea",
   "metadata": {},
   "source": [
    "# Read Lines\n",
    "\n",
    "You can return one line by using the `readline()` method:"
   ]
  },
  {
   "cell_type": "code",
   "execution_count": 5,
   "id": "4b52cd20",
   "metadata": {},
   "outputs": [
    {
     "name": "stdout",
     "output_type": "stream",
     "text": [
      "Hello! Welcome to demofile.txt\n",
      "\n"
     ]
    }
   ],
   "source": [
    "with open(\"demofile.txt\") as f:\n",
    "    print(f.readline())"
   ]
  },
  {
   "cell_type": "markdown",
   "id": "51601048",
   "metadata": {},
   "source": [
    "By calling `readline()~ two times, you can read the first two lines:"
   ]
  },
  {
   "cell_type": "code",
   "execution_count": 6,
   "id": "6feb86d2",
   "metadata": {},
   "outputs": [
    {
     "name": "stdout",
     "output_type": "stream",
     "text": [
      "Hello! Welcome to demofile.txt\n",
      "\n",
      "This file is for testing purposes.\n",
      "\n"
     ]
    }
   ],
   "source": [
    "with open(\"demofile.txt\") as f:\n",
    "  print(f.readline())\n",
    "  print(f.readline())"
   ]
  },
  {
   "cell_type": "markdown",
   "id": "4b803f9d",
   "metadata": {},
   "source": [
    "By looping though the lines of the file, you can read the whole file, line by line:"
   ]
  },
  {
   "cell_type": "code",
   "execution_count": 7,
   "id": "20c3c6fe",
   "metadata": {},
   "outputs": [
    {
     "name": "stdout",
     "output_type": "stream",
     "text": [
      "Hello! Welcome to demofile.txt\n",
      "\n",
      "This file is for testing purposes.\n",
      "\n",
      "Good Luck!\n"
     ]
    }
   ],
   "source": [
    "with open(\"demofile.txt\") as f:\n",
    "    for x in f:\n",
    "        print(x)"
   ]
  },
  {
   "cell_type": "markdown",
   "id": "3cce6499",
   "metadata": {},
   "source": [
    "# File Write\n",
    "\n",
    "## Write to an Existing File\n",
    "\n",
    "To write to an existing file, you must add a parameter to the `open()` function:\n",
    "\n",
    "`\"a\"` - Append - will append to the end of the file\n",
    "\n",
    "`\"w\"` - Write - will overwrite any existing content"
   ]
  },
  {
   "cell_type": "code",
   "execution_count": 8,
   "id": "e038f7c0",
   "metadata": {},
   "outputs": [
    {
     "name": "stdout",
     "output_type": "stream",
     "text": [
      "Hello! Welcome to demofile.txt\n",
      "This file is for testing purposes.\n",
      "Good Luck!Now the file has more content!\n"
     ]
    }
   ],
   "source": [
    "with open(\"demofile.txt\", \"a\") as f:\n",
    "    f.write(\"Now the file has more content!\")\n",
    "\n",
    "with open(\"demofile.txt\") as f:\n",
    "    print(f.read())"
   ]
  },
  {
   "cell_type": "markdown",
   "id": "6fc8114e",
   "metadata": {},
   "source": [
    "# Overwrite Existing Content\n",
    "\n",
    "To overwrite the existing content to the file, use the `w` parameter:"
   ]
  },
  {
   "cell_type": "code",
   "execution_count": 10,
   "id": "aca73bfd",
   "metadata": {},
   "outputs": [
    {
     "name": "stdout",
     "output_type": "stream",
     "text": [
      "Whoops! I deleted all dat content mayne\n"
     ]
    }
   ],
   "source": [
    "with open(\"demofile.txt\", \"w\") as f:\n",
    "    f.write(\"Whoops! I deleted all dat content mayne\")\n",
    "\n",
    "with open(\"demofile.txt\") as f:\n",
    "    print(f.read())"
   ]
  },
  {
   "cell_type": "markdown",
   "id": "4897e1ea",
   "metadata": {},
   "source": [
    "# Create a New File\n",
    "\n",
    "To create a new file in Python, use the `open()` method, with one of the following parameters:\n",
    "\n",
    "`\"x\"` - Create - will create a file, returns an error if the file exists\n",
    "\n",
    "`\"a\"` - Append - will create a file if the specified file does not exists\n",
    "\n",
    "`\"w\"` - Write - will create a file if the specified file does not exists"
   ]
  },
  {
   "cell_type": "code",
   "execution_count": 11,
   "id": "5d07a80d",
   "metadata": {},
   "outputs": [],
   "source": [
    "f = open(\"myfile.txt\", \"x\")"
   ]
  },
  {
   "cell_type": "markdown",
   "id": "8a8f170c",
   "metadata": {},
   "source": [
    "# Delete a File\n",
    "\n",
    "To delete a file, you must import os and use the `os.remove()` function:"
   ]
  },
  {
   "cell_type": "code",
   "execution_count": null,
   "id": "7809b4f0",
   "metadata": {},
   "outputs": [],
   "source": [
    "import os\n",
    "\n",
    "os.remove(\"demofile.txt\")"
   ]
  },
  {
   "cell_type": "markdown",
   "id": "96ecc4ac",
   "metadata": {},
   "source": [
    "# Check if File exist:\n",
    "\n",
    "To avoid getting an error, check if the file exists:"
   ]
  },
  {
   "cell_type": "code",
   "execution_count": 13,
   "id": "f55cb26e",
   "metadata": {},
   "outputs": [
    {
     "name": "stdout",
     "output_type": "stream",
     "text": [
      "The file doesn't exist\n"
     ]
    }
   ],
   "source": [
    "import os\n",
    "\n",
    "if os.path.exists(\"demofile.txt\"):\n",
    "    os.remove(\"demofile.txt\")\n",
    "else:\n",
    "    print(\"The file doesn't exist\")"
   ]
  },
  {
   "cell_type": "markdown",
   "id": "6aa6992a",
   "metadata": {},
   "source": [
    "# Delete Folder\n",
    "\n",
    "To delete an entire folder, use the `os.rmdir()` method:"
   ]
  },
  {
   "cell_type": "code",
   "execution_count": 16,
   "id": "61cfbc51",
   "metadata": {},
   "outputs": [
    {
     "name": "stdout",
     "output_type": "stream",
     "text": [
      "'myfolder' doesn't exist\n"
     ]
    }
   ],
   "source": [
    "import os\n",
    "\n",
    "if os.path.exists(\"myfolder\"):\n",
    "    os.rmdir(\"myfolder\")\n",
    "else:\n",
    "    print(\"'myfolder' doesn't exist\")"
   ]
  }
 ],
 "metadata": {
  "kernelspec": {
   "display_name": "Python 3",
   "language": "python",
   "name": "python3"
  },
  "language_info": {
   "codemirror_mode": {
    "name": "ipython",
    "version": 3
   },
   "file_extension": ".py",
   "mimetype": "text/x-python",
   "name": "python",
   "nbconvert_exporter": "python",
   "pygments_lexer": "ipython3",
   "version": "3.13.5"
  }
 },
 "nbformat": 4,
 "nbformat_minor": 5
}
