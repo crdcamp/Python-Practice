{
 "cells": [
  {
   "cell_type": "markdown",
   "id": "fb7ddc81",
   "metadata": {},
   "source": [
    "# User Input"
   ]
  },
  {
   "cell_type": "code",
   "execution_count": 1,
   "id": "526a7e53",
   "metadata": {},
   "outputs": [
    {
     "name": "stdout",
     "output_type": "stream",
     "text": [
      "Enter your name:\n",
      "Hello christian\n"
     ]
    }
   ],
   "source": [
    "# Ask the user for an input\n",
    "print(\"Enter your name:\")\n",
    "name = input()\n",
    "print(f\"Hello {name}\")"
   ]
  },
  {
   "cell_type": "markdown",
   "id": "fc846577",
   "metadata": {},
   "source": [
    "# Using prompt\n",
    "\n",
    "The `input()` function has a `prompt` parameter that acts as a message you can put in front of the user input on the same line:"
   ]
  },
  {
   "cell_type": "code",
   "execution_count": 2,
   "id": "381fa626",
   "metadata": {},
   "outputs": [
    {
     "name": "stdout",
     "output_type": "stream",
     "text": [
      "Hello Christian\n"
     ]
    }
   ],
   "source": [
    "name = input(\"Enter your name:\")\n",
    "print(f\"Hello {name}\")"
   ]
  },
  {
   "cell_type": "markdown",
   "id": "b0b4e5ab",
   "metadata": {},
   "source": [
    "# Multiple Inputs\n",
    "\n",
    "You can (obviously) ask for multiple inputs. No need for examples here."
   ]
  },
  {
   "cell_type": "markdown",
   "id": "2f217fad",
   "metadata": {},
   "source": [
    "# Input Number\n",
    "\n",
    "The input from the user is treated as a string. Even if you can input a number, the Python interpreter will still treat it as a string.\n",
    "\n",
    "You can convert the input into a number with the `float()` function:"
   ]
  },
  {
   "cell_type": "code",
   "execution_count": 3,
   "id": "d317b574",
   "metadata": {},
   "outputs": [
    {
     "name": "stdout",
     "output_type": "stream",
     "text": [
      "The square root of 5 is 2.23606797749979\n"
     ]
    }
   ],
   "source": [
    "import math\n",
    "\n",
    "x = input(\"Enter a number:\")\n",
    "y = math.sqrt(float(x))\n",
    "\n",
    "print(f\"The square root of {x} is {y}\")"
   ]
  },
  {
   "cell_type": "markdown",
   "id": "9687d6f6",
   "metadata": {},
   "source": [
    "# Validate Input\n",
    "\n",
    "It's good practice to validate any input from the user."
   ]
  },
  {
   "cell_type": "code",
   "execution_count": 4,
   "id": "c5205237",
   "metadata": {},
   "outputs": [
    {
     "name": "stdout",
     "output_type": "stream",
     "text": [
      "Thank you!\n"
     ]
    }
   ],
   "source": [
    "y = True\n",
    "while y == True:\n",
    "    x = input(\"Enter a number:\")\n",
    "    try:\n",
    "        x = float(x);\n",
    "        y = False\n",
    "    except:\n",
    "        print(\"Wrong input, please try again.\")\n",
    "\n",
    "print(\"Thank you!\")"
   ]
  }
 ],
 "metadata": {
  "kernelspec": {
   "display_name": "Python 3",
   "language": "python",
   "name": "python3"
  },
  "language_info": {
   "codemirror_mode": {
    "name": "ipython",
    "version": 3
   },
   "file_extension": ".py",
   "mimetype": "text/x-python",
   "name": "python",
   "nbconvert_exporter": "python",
   "pygments_lexer": "ipython3",
   "version": "3.13.5"
  }
 },
 "nbformat": 4,
 "nbformat_minor": 5
}
